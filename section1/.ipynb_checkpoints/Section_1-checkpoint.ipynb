{
 "cells": [
  {
   "cell_type": "markdown",
   "metadata": {},
   "source": [
    "# Section 1\n",
    "The City of Baltimore maintains a database of parking citations issued within the city. More information about the dataset can be found here. You can download the dataset as a CSV file here. Unless stated otherwise, you should only consider citations written before January 1, 2019."
   ]
  },
  {
   "cell_type": "markdown",
   "metadata": {},
   "source": [
    "### Data cleaning and prep"
   ]
  },
  {
   "cell_type": "code",
   "execution_count": 22,
   "metadata": {},
   "outputs": [],
   "source": [
    "import pandas as pd\n",
    "import numpy as np\n",
    "import matplotlib.pyplot as plt\n",
    "from sklearn.linear_model import LinearRegression"
   ]
  },
  {
   "cell_type": "code",
   "execution_count": 23,
   "metadata": {},
   "outputs": [
    {
     "data": {
      "text/html": [
       "<div>\n",
       "<style scoped>\n",
       "    .dataframe tbody tr th:only-of-type {\n",
       "        vertical-align: middle;\n",
       "    }\n",
       "\n",
       "    .dataframe tbody tr th {\n",
       "        vertical-align: top;\n",
       "    }\n",
       "\n",
       "    .dataframe thead th {\n",
       "        text-align: right;\n",
       "    }\n",
       "</style>\n",
       "<table border=\"1\" class=\"dataframe\">\n",
       "  <thead>\n",
       "    <tr style=\"text-align: right;\">\n",
       "      <th></th>\n",
       "      <th>Citation</th>\n",
       "      <th>Make</th>\n",
       "      <th>ViolFine</th>\n",
       "      <th>ViolDate</th>\n",
       "      <th>OpenPenalty</th>\n",
       "      <th>PoliceDistrict</th>\n",
       "    </tr>\n",
       "  </thead>\n",
       "  <tbody>\n",
       "    <tr>\n",
       "      <th>0</th>\n",
       "      <td>82691651</td>\n",
       "      <td>MAZD</td>\n",
       "      <td>40.0</td>\n",
       "      <td>04/12/2018 05:36:00 PM</td>\n",
       "      <td>0.0</td>\n",
       "      <td>NaN</td>\n",
       "    </tr>\n",
       "    <tr>\n",
       "      <th>1</th>\n",
       "      <td>85937226</td>\n",
       "      <td>ACUR</td>\n",
       "      <td>40.0</td>\n",
       "      <td>12/20/2018 12:09:00 PM</td>\n",
       "      <td>0.0</td>\n",
       "      <td>NaN</td>\n",
       "    </tr>\n",
       "    <tr>\n",
       "      <th>2</th>\n",
       "      <td>82691115</td>\n",
       "      <td>TOYT</td>\n",
       "      <td>40.0</td>\n",
       "      <td>04/12/2018 05:14:00 PM</td>\n",
       "      <td>0.0</td>\n",
       "      <td>NaN</td>\n",
       "    </tr>\n",
       "    <tr>\n",
       "      <th>3</th>\n",
       "      <td>82694689</td>\n",
       "      <td>FORD</td>\n",
       "      <td>40.0</td>\n",
       "      <td>04/12/2018 07:14:00 PM</td>\n",
       "      <td>0.0</td>\n",
       "      <td>NaN</td>\n",
       "    </tr>\n",
       "    <tr>\n",
       "      <th>4</th>\n",
       "      <td>82691214</td>\n",
       "      <td>SUBA</td>\n",
       "      <td>40.0</td>\n",
       "      <td>04/12/2018 05:20:00 PM</td>\n",
       "      <td>0.0</td>\n",
       "      <td>NaN</td>\n",
       "    </tr>\n",
       "  </tbody>\n",
       "</table>\n",
       "</div>"
      ],
      "text/plain": [
       "   Citation  Make  ViolFine                ViolDate  OpenPenalty  \\\n",
       "0  82691651  MAZD      40.0  04/12/2018 05:36:00 PM          0.0   \n",
       "1  85937226  ACUR      40.0  12/20/2018 12:09:00 PM          0.0   \n",
       "2  82691115  TOYT      40.0  04/12/2018 05:14:00 PM          0.0   \n",
       "3  82694689  FORD      40.0  04/12/2018 07:14:00 PM          0.0   \n",
       "4  82691214  SUBA      40.0  04/12/2018 05:20:00 PM          0.0   \n",
       "\n",
       "  PoliceDistrict  \n",
       "0            NaN  \n",
       "1            NaN  \n",
       "2            NaN  \n",
       "3            NaN  \n",
       "4            NaN  "
      ]
     },
     "execution_count": 23,
     "metadata": {},
     "output_type": "execute_result"
    }
   ],
   "source": [
    "# initial read of file, forcing dtypes\n",
    "data = 'Parking_Citations.csv'\n",
    "cols_keep = ['Citation', 'Make', 'ViolFine', 'ViolDate','OpenPenalty', 'PoliceDistrict']\n",
    "cols_types = ['int64', 'str', 'float64', 'str', 'float64', 'str']\n",
    "df = pd.read_csv(data, usecols=cols_keep, dtype=dict(zip(cols_keep, cols_types)))\n",
    "# df = pd.read_csv(data, usecols=cols_keep, dtype=dict(zip(cols_keep, cols_types)), parse_dates=['ViolDate'])\n",
    "df.head()"
   ]
  },
  {
   "cell_type": "code",
   "execution_count": 24,
   "metadata": {},
   "outputs": [
    {
     "data": {
      "text/plain": [
       "Citation                   int64\n",
       "Make                      object\n",
       "ViolFine                 float64\n",
       "ViolDate          datetime64[ns]\n",
       "OpenPenalty              float64\n",
       "PoliceDistrict            object\n",
       "dtype: object"
      ]
     },
     "execution_count": 24,
     "metadata": {},
     "output_type": "execute_result"
    }
   ],
   "source": [
    "# converting ViolDate column into python date time\n",
    "df.ViolDate = pd.to_datetime(df.ViolDate, format='%m/%d/%Y %I:%M:%S %p', infer_datetime_format=True)\n",
    "df.dtypes"
   ]
  },
  {
   "cell_type": "markdown",
   "metadata": {},
   "source": [
    "### Q1. For all citations, what is the mean violation fine?"
   ]
  },
  {
   "cell_type": "code",
   "execution_count": 25,
   "metadata": {},
   "outputs": [
    {
     "name": "stdout",
     "output_type": "stream",
     "text": [
      "49.8959492313\n"
     ]
    }
   ],
   "source": [
    "mean_vio_fine = df.ViolFine.mean()\n",
    "print(round(mean_vio_fine,10))"
   ]
  },
  {
   "cell_type": "markdown",
   "metadata": {},
   "source": [
    "### Q2. Find the police district that has the highest mean violation fine. What is that mean violation fine? Keep in mind that Baltimore is divided into nine police districts, so clean the data accordingly."
   ]
  },
  {
   "cell_type": "code",
   "execution_count": 26,
   "metadata": {},
   "outputs": [
    {
     "name": "stdout",
     "output_type": "stream",
     "text": [
      "[nan 'Eastern' 'Western' 'Northern' 'Central' 'Southeastern' 'Notheastern'\n",
      " 'Northwestern' 'NORTHERN' 'Southern' 'SOUTHERN' 'Southwestern'\n",
      " 'SOUTHWESTERN' 'SOUTHEASTERN' 'CENTRAL' 'WESTERN' 'EASTERN'\n",
      " 'NORTHWESTERN' 'NORTHEASTERN']\n"
     ]
    }
   ],
   "source": [
    "# find unique values in district column:\n",
    "districts = df.PoliceDistrict.unique()\n",
    "print(districts)"
   ]
  },
  {
   "cell_type": "code",
   "execution_count": 27,
   "metadata": {},
   "outputs": [],
   "source": [
    "# replace 'Notheastern' with 'Northeastern'\n",
    "df.PoliceDistrict = df.PoliceDistrict.replace('Notheastern', 'NORTHEASTERN')"
   ]
  },
  {
   "cell_type": "code",
   "execution_count": 28,
   "metadata": {},
   "outputs": [
    {
     "data": {
      "text/html": [
       "<div>\n",
       "<style scoped>\n",
       "    .dataframe tbody tr th:only-of-type {\n",
       "        vertical-align: middle;\n",
       "    }\n",
       "\n",
       "    .dataframe tbody tr th {\n",
       "        vertical-align: top;\n",
       "    }\n",
       "\n",
       "    .dataframe thead th {\n",
       "        text-align: right;\n",
       "    }\n",
       "</style>\n",
       "<table border=\"1\" class=\"dataframe\">\n",
       "  <thead>\n",
       "    <tr style=\"text-align: right;\">\n",
       "      <th></th>\n",
       "      <th>Citation</th>\n",
       "      <th>ViolFine</th>\n",
       "      <th>OpenPenalty</th>\n",
       "    </tr>\n",
       "    <tr>\n",
       "      <th>PoliceDistrict</th>\n",
       "      <th></th>\n",
       "      <th></th>\n",
       "      <th></th>\n",
       "    </tr>\n",
       "  </thead>\n",
       "  <tbody>\n",
       "    <tr>\n",
       "      <th>central</th>\n",
       "      <td>7.3842492001e+07</td>\n",
       "      <td>44.8028723651</td>\n",
       "      <td>38.5895606517</td>\n",
       "    </tr>\n",
       "    <tr>\n",
       "      <th>northern</th>\n",
       "      <td>7.6267226602e+07</td>\n",
       "      <td>48.1452263091</td>\n",
       "      <td>32.2822440838</td>\n",
       "    </tr>\n",
       "    <tr>\n",
       "      <th>southeastern</th>\n",
       "      <td>7.4997810382e+07</td>\n",
       "      <td>48.7509418860</td>\n",
       "      <td>28.7512592981</td>\n",
       "    </tr>\n",
       "    <tr>\n",
       "      <th>eastern</th>\n",
       "      <td>7.4697449202e+07</td>\n",
       "      <td>50.8005944339</td>\n",
       "      <td>64.4070971809</td>\n",
       "    </tr>\n",
       "    <tr>\n",
       "      <th>western</th>\n",
       "      <td>7.2524726431e+07</td>\n",
       "      <td>53.4737451941</td>\n",
       "      <td>67.4415652815</td>\n",
       "    </tr>\n",
       "    <tr>\n",
       "      <th>southern</th>\n",
       "      <td>7.7515468806e+07</td>\n",
       "      <td>54.3874258100</td>\n",
       "      <td>30.1075633250</td>\n",
       "    </tr>\n",
       "    <tr>\n",
       "      <th>southwestern</th>\n",
       "      <td>7.2115918031e+07</td>\n",
       "      <td>58.2980085349</td>\n",
       "      <td>56.8853129445</td>\n",
       "    </tr>\n",
       "    <tr>\n",
       "      <th>northwestern</th>\n",
       "      <td>7.0819505604e+07</td>\n",
       "      <td>59.7556851742</td>\n",
       "      <td>57.0510189014</td>\n",
       "    </tr>\n",
       "    <tr>\n",
       "      <th>northeastern</th>\n",
       "      <td>7.3509503138e+07</td>\n",
       "      <td>61.3523935667</td>\n",
       "      <td>48.3817218543</td>\n",
       "    </tr>\n",
       "  </tbody>\n",
       "</table>\n",
       "</div>"
      ],
      "text/plain": [
       "                        Citation       ViolFine    OpenPenalty\n",
       "PoliceDistrict                                                \n",
       "central         7.3842492001e+07  44.8028723651  38.5895606517\n",
       "northern        7.6267226602e+07  48.1452263091  32.2822440838\n",
       "southeastern    7.4997810382e+07  48.7509418860  28.7512592981\n",
       "eastern         7.4697449202e+07  50.8005944339  64.4070971809\n",
       "western         7.2524726431e+07  53.4737451941  67.4415652815\n",
       "southern        7.7515468806e+07  54.3874258100  30.1075633250\n",
       "southwestern    7.2115918031e+07  58.2980085349  56.8853129445\n",
       "northwestern    7.0819505604e+07  59.7556851742  57.0510189014\n",
       "northeastern    7.3509503138e+07  61.3523935667  48.3817218543"
      ]
     },
     "execution_count": 28,
     "metadata": {},
     "output_type": "execute_result"
    }
   ],
   "source": [
    "# group df by lowercased district name and find mean violation find\n",
    "pd.set_option('display.precision',10)\n",
    "dist_gp = df.groupby(df['PoliceDistrict'].str.lower())\n",
    "dist_gp.mean().sort_values(by=['ViolFine'])"
   ]
  },
  {
   "cell_type": "markdown",
   "metadata": {},
   "source": [
    "### Q3. First, find the total number of citations given in each year between 2004 and 2014 (inclusive). Next, using linear regression, create a function that plots the total number of citations as a function of the year. If you were to plot a line using this function, what would be the slope of that line?"
   ]
  },
  {
   "cell_type": "code",
   "execution_count": 42,
   "metadata": {},
   "outputs": [
    {
     "data": {
      "text/html": [
       "<div>\n",
       "<style scoped>\n",
       "    .dataframe tbody tr th:only-of-type {\n",
       "        vertical-align: middle;\n",
       "    }\n",
       "\n",
       "    .dataframe tbody tr th {\n",
       "        vertical-align: top;\n",
       "    }\n",
       "\n",
       "    .dataframe thead th {\n",
       "        text-align: right;\n",
       "    }\n",
       "</style>\n",
       "<table border=\"1\" class=\"dataframe\">\n",
       "  <thead>\n",
       "    <tr style=\"text-align: right;\">\n",
       "      <th></th>\n",
       "      <th>Citation</th>\n",
       "      <th>Make</th>\n",
       "      <th>ViolFine</th>\n",
       "      <th>ViolDate</th>\n",
       "      <th>OpenPenalty</th>\n",
       "      <th>PoliceDistrict</th>\n",
       "    </tr>\n",
       "  </thead>\n",
       "  <tbody>\n",
       "    <tr>\n",
       "      <th>2314292</th>\n",
       "      <td>2768083</td>\n",
       "      <td>MAZDA</td>\n",
       "      <td>32.0</td>\n",
       "      <td>2014-12-31 22:07:00</td>\n",
       "      <td>0.0</td>\n",
       "      <td>NaN</td>\n",
       "    </tr>\n",
       "    <tr>\n",
       "      <th>1333451</th>\n",
       "      <td>91708082</td>\n",
       "      <td>MAZDA</td>\n",
       "      <td>32.0</td>\n",
       "      <td>2014-12-31 22:07:00</td>\n",
       "      <td>0.0</td>\n",
       "      <td>NaN</td>\n",
       "    </tr>\n",
       "    <tr>\n",
       "      <th>139814</th>\n",
       "      <td>91714940</td>\n",
       "      <td>CHEVR</td>\n",
       "      <td>32.0</td>\n",
       "      <td>2014-12-31 22:10:00</td>\n",
       "      <td>0.0</td>\n",
       "      <td>NaN</td>\n",
       "    </tr>\n",
       "    <tr>\n",
       "      <th>1154286</th>\n",
       "      <td>1551050</td>\n",
       "      <td>KIA</td>\n",
       "      <td>102.0</td>\n",
       "      <td>2014-12-31 22:25:00</td>\n",
       "      <td>329.0</td>\n",
       "      <td>NaN</td>\n",
       "    </tr>\n",
       "    <tr>\n",
       "      <th>2778335</th>\n",
       "      <td>79592952</td>\n",
       "      <td>FORD</td>\n",
       "      <td>32.0</td>\n",
       "      <td>2014-12-31 22:29:00</td>\n",
       "      <td>300.0</td>\n",
       "      <td>NaN</td>\n",
       "    </tr>\n",
       "  </tbody>\n",
       "</table>\n",
       "</div>"
      ],
      "text/plain": [
       "         Citation   Make  ViolFine            ViolDate  OpenPenalty  \\\n",
       "2314292   2768083  MAZDA      32.0 2014-12-31 22:07:00          0.0   \n",
       "1333451  91708082  MAZDA      32.0 2014-12-31 22:07:00          0.0   \n",
       "139814   91714940  CHEVR      32.0 2014-12-31 22:10:00          0.0   \n",
       "1154286   1551050    KIA     102.0 2014-12-31 22:25:00        329.0   \n",
       "2778335  79592952   FORD      32.0 2014-12-31 22:29:00        300.0   \n",
       "\n",
       "        PoliceDistrict  \n",
       "2314292            NaN  \n",
       "1333451            NaN  \n",
       "139814             NaN  \n",
       "1154286            NaN  \n",
       "2778335            NaN  "
      ]
     },
     "execution_count": 42,
     "metadata": {},
     "output_type": "execute_result"
    }
   ],
   "source": [
    "# mask df by year to be between 2004 and 2014\n",
    "yr_mask = (df.ViolDate >= '2004-01-01') & (df.ViolDate <'2015-01-01')\n",
    "cite_yr = df.loc[yr_mask]\n",
    "cite_yr.sort_values(by=['ViolDate']).tail()"
   ]
  },
  {
   "cell_type": "code",
   "execution_count": 63,
   "metadata": {},
   "outputs": [
    {
     "data": {
      "text/html": [
       "<div>\n",
       "<style scoped>\n",
       "    .dataframe tbody tr th:only-of-type {\n",
       "        vertical-align: middle;\n",
       "    }\n",
       "\n",
       "    .dataframe tbody tr th {\n",
       "        vertical-align: top;\n",
       "    }\n",
       "\n",
       "    .dataframe thead th {\n",
       "        text-align: right;\n",
       "    }\n",
       "</style>\n",
       "<table border=\"1\" class=\"dataframe\">\n",
       "  <thead>\n",
       "    <tr style=\"text-align: right;\">\n",
       "      <th></th>\n",
       "      <th>ViolDate</th>\n",
       "      <th>Citation</th>\n",
       "    </tr>\n",
       "  </thead>\n",
       "  <tbody>\n",
       "    <tr>\n",
       "      <th>0</th>\n",
       "      <td>2004</td>\n",
       "      <td>162</td>\n",
       "    </tr>\n",
       "    <tr>\n",
       "      <th>1</th>\n",
       "      <td>2005</td>\n",
       "      <td>1136</td>\n",
       "    </tr>\n",
       "    <tr>\n",
       "      <th>2</th>\n",
       "      <td>2006</td>\n",
       "      <td>5550</td>\n",
       "    </tr>\n",
       "    <tr>\n",
       "      <th>3</th>\n",
       "      <td>2007</td>\n",
       "      <td>50049</td>\n",
       "    </tr>\n",
       "    <tr>\n",
       "      <th>4</th>\n",
       "      <td>2008</td>\n",
       "      <td>41672</td>\n",
       "    </tr>\n",
       "    <tr>\n",
       "      <th>5</th>\n",
       "      <td>2009</td>\n",
       "      <td>42719</td>\n",
       "    </tr>\n",
       "    <tr>\n",
       "      <th>6</th>\n",
       "      <td>2010</td>\n",
       "      <td>45842</td>\n",
       "    </tr>\n",
       "    <tr>\n",
       "      <th>7</th>\n",
       "      <td>2011</td>\n",
       "      <td>129722</td>\n",
       "    </tr>\n",
       "    <tr>\n",
       "      <th>8</th>\n",
       "      <td>2012</td>\n",
       "      <td>160453</td>\n",
       "    </tr>\n",
       "    <tr>\n",
       "      <th>9</th>\n",
       "      <td>2013</td>\n",
       "      <td>53916</td>\n",
       "    </tr>\n",
       "    <tr>\n",
       "      <th>10</th>\n",
       "      <td>2014</td>\n",
       "      <td>79135</td>\n",
       "    </tr>\n",
       "  </tbody>\n",
       "</table>\n",
       "</div>"
      ],
      "text/plain": [
       "    ViolDate  Citation\n",
       "0       2004       162\n",
       "1       2005      1136\n",
       "2       2006      5550\n",
       "3       2007     50049\n",
       "4       2008     41672\n",
       "5       2009     42719\n",
       "6       2010     45842\n",
       "7       2011    129722\n",
       "8       2012    160453\n",
       "9       2013     53916\n",
       "10      2014     79135"
      ]
     },
     "execution_count": 63,
     "metadata": {},
     "output_type": "execute_result"
    }
   ],
   "source": [
    "# group masked df by year, calculate totals\n",
    "# cite_yr.groupby(cite_yr.ViolDate.dt.year).count()\n",
    "cite_count_yr = cite_yr['Citation'].groupby(cite_yr.ViolDate.dt.year).count()\n",
    "cite_count_yr = cite_count_yr.reset_index(['ViolDate'])\n",
    "cite_count_yr"
   ]
  },
  {
   "cell_type": "code",
   "execution_count": 77,
   "metadata": {},
   "outputs": [
    {
     "data": {
      "image/png": "[encoded data removed]",
      "text/plain": [
       "<Figure size 432x288 with 1 Axes>"
      ]
     },
     "metadata": {
      "needs_background": "light"
     },
     "output_type": "display_data"
    },
    {
     "name": "stdout",
     "output_type": "stream",
     "text": [
      "The slope of the prediction line is: 11220.0909090909.\n"
     ]
    }
   ],
   "source": [
    "# use linear regression to plot citation over year\n",
    "# X = cite_count_yr[['ViolDate']].as_matrix()\n",
    "# X = cite_count_yr.drop('Citation', axis=1).values\n",
    "# Y = cite_count_yr['Citation'].values\n",
    "\n",
    "X = cite_count_yr.iloc[:, 0].values.reshape(-1, 1)\n",
    "Y = cite_count_yr.iloc[:, 1].values.reshape(-1, 1)\n",
    "lg = LinearRegression()\n",
    "lg.fit(X,Y)\n",
    "y_pred = lg.predict(X)\n",
    "\n",
    "# visualize\n",
    "plt.scatter(X,Y, color='red')\n",
    "plt.plot(X, y_pred, color='blue')\n",
    "plt.show()\n",
    "\n",
    "# slope\n",
    "coeff = lg.coef_\n",
    "print(\"The slope of the prediction line is: {}.\".format(round(float(coeff),10)))"
   ]
  },
  {
   "cell_type": "code",
   "execution_count": null,
   "metadata": {},
   "outputs": [],
   "source": []
  }
 ],
 "metadata": {
  "kernelspec": {
   "display_name": "incubator-64",
   "language": "python",
   "name": "incubator-64"
  },
  "language_info": {
   "codemirror_mode": {
    "name": "ipython",
    "version": 3
   },
   "file_extension": ".py",
   "mimetype": "text/x-python",
   "name": "python",
   "nbconvert_exporter": "python",
   "pygments_lexer": "ipython3",
   "version": "3.7.4"
  }
 },
 "nbformat": 4,
 "nbformat_minor": 2
}
