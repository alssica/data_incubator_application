{
 "cells": [
  {
   "cell_type": "markdown",
   "metadata": {},
   "source": [
    "# Section 1\n",
    "The City of Baltimore maintains a database of parking citations issued within the city. More information about the dataset can be found here. You can download the dataset as a CSV file here. Unless stated otherwise, you should only consider citations written before January 1, 2019."
   ]
  },
  {
   "cell_type": "markdown",
   "metadata": {},
   "source": [
    "### Data cleaning and prep"
   ]
  },
  {
   "cell_type": "code",
   "execution_count": 35,
   "metadata": {},
   "outputs": [],
   "source": [
    "import pandas as pd\n",
    "import numpy as np\n",
    "import matplotlib.pyplot as plt\n",
    "from sklearn.linear_model import LinearRegression"
   ]
  },
  {
   "cell_type": "code",
   "execution_count": 36,
   "metadata": {},
   "outputs": [
    {
     "data": {
      "text/html": [
       "<div>\n",
       "<style scoped>\n",
       "    .dataframe tbody tr th:only-of-type {\n",
       "        vertical-align: middle;\n",
       "    }\n",
       "\n",
       "    .dataframe tbody tr th {\n",
       "        vertical-align: top;\n",
       "    }\n",
       "\n",
       "    .dataframe thead th {\n",
       "        text-align: right;\n",
       "    }\n",
       "</style>\n",
       "<table border=\"1\" class=\"dataframe\">\n",
       "  <thead>\n",
       "    <tr style=\"text-align: right;\">\n",
       "      <th></th>\n",
       "      <th>Citation</th>\n",
       "      <th>Make</th>\n",
       "      <th>ViolFine</th>\n",
       "      <th>ViolDate</th>\n",
       "      <th>OpenPenalty</th>\n",
       "      <th>PoliceDistrict</th>\n",
       "    </tr>\n",
       "  </thead>\n",
       "  <tbody>\n",
       "    <tr>\n",
       "      <th>0</th>\n",
       "      <td>82691651</td>\n",
       "      <td>MAZD</td>\n",
       "      <td>40.0</td>\n",
       "      <td>04/12/2018 05:36:00 PM</td>\n",
       "      <td>0.0</td>\n",
       "      <td>NaN</td>\n",
       "    </tr>\n",
       "    <tr>\n",
       "      <th>1</th>\n",
       "      <td>85937226</td>\n",
       "      <td>ACUR</td>\n",
       "      <td>40.0</td>\n",
       "      <td>12/20/2018 12:09:00 PM</td>\n",
       "      <td>0.0</td>\n",
       "      <td>NaN</td>\n",
       "    </tr>\n",
       "    <tr>\n",
       "      <th>2</th>\n",
       "      <td>82691115</td>\n",
       "      <td>TOYT</td>\n",
       "      <td>40.0</td>\n",
       "      <td>04/12/2018 05:14:00 PM</td>\n",
       "      <td>0.0</td>\n",
       "      <td>NaN</td>\n",
       "    </tr>\n",
       "    <tr>\n",
       "      <th>3</th>\n",
       "      <td>82694689</td>\n",
       "      <td>FORD</td>\n",
       "      <td>40.0</td>\n",
       "      <td>04/12/2018 07:14:00 PM</td>\n",
       "      <td>0.0</td>\n",
       "      <td>NaN</td>\n",
       "    </tr>\n",
       "    <tr>\n",
       "      <th>4</th>\n",
       "      <td>82691214</td>\n",
       "      <td>SUBA</td>\n",
       "      <td>40.0</td>\n",
       "      <td>04/12/2018 05:20:00 PM</td>\n",
       "      <td>0.0</td>\n",
       "      <td>NaN</td>\n",
       "    </tr>\n",
       "  </tbody>\n",
       "</table>\n",
       "</div>"
      ],
      "text/plain": [
       "   Citation  Make  ViolFine                ViolDate  OpenPenalty  \\\n",
       "0  82691651  MAZD      40.0  04/12/2018 05:36:00 PM          0.0   \n",
       "1  85937226  ACUR      40.0  12/20/2018 12:09:00 PM          0.0   \n",
       "2  82691115  TOYT      40.0  04/12/2018 05:14:00 PM          0.0   \n",
       "3  82694689  FORD      40.0  04/12/2018 07:14:00 PM          0.0   \n",
       "4  82691214  SUBA      40.0  04/12/2018 05:20:00 PM          0.0   \n",
       "\n",
       "  PoliceDistrict  \n",
       "0            NaN  \n",
       "1            NaN  \n",
       "2            NaN  \n",
       "3            NaN  \n",
       "4            NaN  "
      ]
     },
     "execution_count": 36,
     "metadata": {},
     "output_type": "execute_result"
    }
   ],
   "source": [
    "# initial read of file, forcing dtypes\n",
    "data = 'Parking_Citations.csv'\n",
    "cols_keep = ['Citation', 'Make', 'ViolFine', 'ViolDate','OpenPenalty', 'PoliceDistrict']\n",
    "cols_types = ['int64', 'str', 'float64', 'str', 'float64', 'str']\n",
    "df = pd.read_csv(data, usecols=cols_keep, dtype=dict(zip(cols_keep, cols_types)))\n",
    "# df = pd.read_csv(data, usecols=cols_keep, dtype=dict(zip(cols_keep, cols_types)), parse_dates=['ViolDate'])\n",
    "df.head()"
   ]
  },
  {
   "cell_type": "code",
   "execution_count": 37,
   "metadata": {},
   "outputs": [
    {
     "data": {
      "text/plain": [
       "Citation                   int64\n",
       "Make                      object\n",
       "ViolFine                 float64\n",
       "ViolDate          datetime64[ns]\n",
       "OpenPenalty              float64\n",
       "PoliceDistrict            object\n",
       "dtype: object"
      ]
     },
     "execution_count": 37,
     "metadata": {},
     "output_type": "execute_result"
    }
   ],
   "source": [
    "# converting ViolDate column into python date time\n",
    "df.ViolDate = pd.to_datetime(df.ViolDate, format='%m/%d/%Y %I:%M:%S %p', infer_datetime_format=True)\n",
    "df.dtypes"
   ]
  },
  {
   "cell_type": "markdown",
   "metadata": {},
   "source": [
    "### Q1. For all citations, what is the mean violation fine?"
   ]
  },
  {
   "cell_type": "code",
   "execution_count": 38,
   "metadata": {},
   "outputs": [
    {
     "name": "stdout",
     "output_type": "stream",
     "text": [
      "49.8959492313\n"
     ]
    }
   ],
   "source": [
    "mean_vio_fine = df.ViolFine.mean()\n",
    "print(round(mean_vio_fine,10))"
   ]
  },
  {
   "cell_type": "markdown",
   "metadata": {},
   "source": [
    "### Q2. Find the police district that has the highest mean violation fine. What is that mean violation fine? Keep in mind that Baltimore is divided into nine police districts, so clean the data accordingly."
   ]
  },
  {
   "cell_type": "code",
   "execution_count": 39,
   "metadata": {},
   "outputs": [
    {
     "name": "stdout",
     "output_type": "stream",
     "text": [
      "[nan 'Eastern' 'Western' 'Northern' 'Central' 'Southeastern' 'Notheastern'\n",
      " 'Northwestern' 'NORTHERN' 'Southern' 'SOUTHERN' 'Southwestern'\n",
      " 'SOUTHWESTERN' 'SOUTHEASTERN' 'CENTRAL' 'WESTERN' 'EASTERN'\n",
      " 'NORTHWESTERN' 'NORTHEASTERN']\n"
     ]
    }
   ],
   "source": [
    "# find unique values in district column:\n",
    "districts = df.PoliceDistrict.unique()\n",
    "print(districts)"
   ]
  },
  {
   "cell_type": "code",
   "execution_count": 40,
   "metadata": {},
   "outputs": [],
   "source": [
    "# replace 'Notheastern' with 'Northeastern'\n",
    "df.PoliceDistrict = df.PoliceDistrict.replace('Notheastern', 'NORTHEASTERN')"
   ]
  },
  {
   "cell_type": "code",
   "execution_count": 41,
   "metadata": {},
   "outputs": [
    {
     "data": {
      "text/html": [
       "<div>\n",
       "<style scoped>\n",
       "    .dataframe tbody tr th:only-of-type {\n",
       "        vertical-align: middle;\n",
       "    }\n",
       "\n",
       "    .dataframe tbody tr th {\n",
       "        vertical-align: top;\n",
       "    }\n",
       "\n",
       "    .dataframe thead th {\n",
       "        text-align: right;\n",
       "    }\n",
       "</style>\n",
       "<table border=\"1\" class=\"dataframe\">\n",
       "  <thead>\n",
       "    <tr style=\"text-align: right;\">\n",
       "      <th></th>\n",
       "      <th>Citation</th>\n",
       "      <th>ViolFine</th>\n",
       "      <th>OpenPenalty</th>\n",
       "    </tr>\n",
       "    <tr>\n",
       "      <th>PoliceDistrict</th>\n",
       "      <th></th>\n",
       "      <th></th>\n",
       "      <th></th>\n",
       "    </tr>\n",
       "  </thead>\n",
       "  <tbody>\n",
       "    <tr>\n",
       "      <th>central</th>\n",
       "      <td>7.3842492001e+07</td>\n",
       "      <td>44.8028723651</td>\n",
       "      <td>38.5895606517</td>\n",
       "    </tr>\n",
       "    <tr>\n",
       "      <th>northern</th>\n",
       "      <td>7.6267226602e+07</td>\n",
       "      <td>48.1452263091</td>\n",
       "      <td>32.2822440838</td>\n",
       "    </tr>\n",
       "    <tr>\n",
       "      <th>southeastern</th>\n",
       "      <td>7.4997810382e+07</td>\n",
       "      <td>48.7509418860</td>\n",
       "      <td>28.7512592981</td>\n",
       "    </tr>\n",
       "    <tr>\n",
       "      <th>eastern</th>\n",
       "      <td>7.4697449202e+07</td>\n",
       "      <td>50.8005944339</td>\n",
       "      <td>64.4070971809</td>\n",
       "    </tr>\n",
       "    <tr>\n",
       "      <th>western</th>\n",
       "      <td>7.2524726431e+07</td>\n",
       "      <td>53.4737451941</td>\n",
       "      <td>67.4415652815</td>\n",
       "    </tr>\n",
       "    <tr>\n",
       "      <th>southern</th>\n",
       "      <td>7.7515468806e+07</td>\n",
       "      <td>54.3874258100</td>\n",
       "      <td>30.1075633250</td>\n",
       "    </tr>\n",
       "    <tr>\n",
       "      <th>southwestern</th>\n",
       "      <td>7.2115918031e+07</td>\n",
       "      <td>58.2980085349</td>\n",
       "      <td>56.8853129445</td>\n",
       "    </tr>\n",
       "    <tr>\n",
       "      <th>northwestern</th>\n",
       "      <td>7.0819505604e+07</td>\n",
       "      <td>59.7556851742</td>\n",
       "      <td>57.0510189014</td>\n",
       "    </tr>\n",
       "    <tr>\n",
       "      <th>northeastern</th>\n",
       "      <td>7.3509503138e+07</td>\n",
       "      <td>61.3523935667</td>\n",
       "      <td>48.3817218543</td>\n",
       "    </tr>\n",
       "  </tbody>\n",
       "</table>\n",
       "</div>"
      ],
      "text/plain": [
       "                        Citation       ViolFine    OpenPenalty\n",
       "PoliceDistrict                                                \n",
       "central         7.3842492001e+07  44.8028723651  38.5895606517\n",
       "northern        7.6267226602e+07  48.1452263091  32.2822440838\n",
       "southeastern    7.4997810382e+07  48.7509418860  28.7512592981\n",
       "eastern         7.4697449202e+07  50.8005944339  64.4070971809\n",
       "western         7.2524726431e+07  53.4737451941  67.4415652815\n",
       "southern        7.7515468806e+07  54.3874258100  30.1075633250\n",
       "southwestern    7.2115918031e+07  58.2980085349  56.8853129445\n",
       "northwestern    7.0819505604e+07  59.7556851742  57.0510189014\n",
       "northeastern    7.3509503138e+07  61.3523935667  48.3817218543"
      ]
     },
     "execution_count": 41,
     "metadata": {},
     "output_type": "execute_result"
    }
   ],
   "source": [
    "# group df by lowercased district name and find mean violation find\n",
    "pd.set_option('display.precision',10)\n",
    "dist_gp = df.groupby(df['PoliceDistrict'].str.lower())\n",
    "dist_gp.mean().sort_values(by=['ViolFine'])"
   ]
  },
  {
   "cell_type": "markdown",
   "metadata": {},
   "source": [
    "### Q3. First, find the total number of citations given in each year between 2004 and 2014 (inclusive). Next, using linear regression, create a function that plots the total number of citations as a function of the year. If you were to plot a line using this function, what would be the slope of that line?"
   ]
  },
  {
   "cell_type": "code",
   "execution_count": 42,
   "metadata": {},
   "outputs": [
    {
     "data": {
      "text/html": [
       "<div>\n",
       "<style scoped>\n",
       "    .dataframe tbody tr th:only-of-type {\n",
       "        vertical-align: middle;\n",
       "    }\n",
       "\n",
       "    .dataframe tbody tr th {\n",
       "        vertical-align: top;\n",
       "    }\n",
       "\n",
       "    .dataframe thead th {\n",
       "        text-align: right;\n",
       "    }\n",
       "</style>\n",
       "<table border=\"1\" class=\"dataframe\">\n",
       "  <thead>\n",
       "    <tr style=\"text-align: right;\">\n",
       "      <th></th>\n",
       "      <th>Citation</th>\n",
       "      <th>Make</th>\n",
       "      <th>ViolFine</th>\n",
       "      <th>ViolDate</th>\n",
       "      <th>OpenPenalty</th>\n",
       "      <th>PoliceDistrict</th>\n",
       "    </tr>\n",
       "  </thead>\n",
       "  <tbody>\n",
       "    <tr>\n",
       "      <th>2314292</th>\n",
       "      <td>2768083</td>\n",
       "      <td>MAZDA</td>\n",
       "      <td>32.0</td>\n",
       "      <td>2014-12-31 22:07:00</td>\n",
       "      <td>0.0</td>\n",
       "      <td>NaN</td>\n",
       "    </tr>\n",
       "    <tr>\n",
       "      <th>1333451</th>\n",
       "      <td>91708082</td>\n",
       "      <td>MAZDA</td>\n",
       "      <td>32.0</td>\n",
       "      <td>2014-12-31 22:07:00</td>\n",
       "      <td>0.0</td>\n",
       "      <td>NaN</td>\n",
       "    </tr>\n",
       "    <tr>\n",
       "      <th>139814</th>\n",
       "      <td>91714940</td>\n",
       "      <td>CHEVR</td>\n",
       "      <td>32.0</td>\n",
       "      <td>2014-12-31 22:10:00</td>\n",
       "      <td>0.0</td>\n",
       "      <td>NaN</td>\n",
       "    </tr>\n",
       "    <tr>\n",
       "      <th>1154286</th>\n",
       "      <td>1551050</td>\n",
       "      <td>KIA</td>\n",
       "      <td>102.0</td>\n",
       "      <td>2014-12-31 22:25:00</td>\n",
       "      <td>329.0</td>\n",
       "      <td>NaN</td>\n",
       "    </tr>\n",
       "    <tr>\n",
       "      <th>2778335</th>\n",
       "      <td>79592952</td>\n",
       "      <td>FORD</td>\n",
       "      <td>32.0</td>\n",
       "      <td>2014-12-31 22:29:00</td>\n",
       "      <td>300.0</td>\n",
       "      <td>NaN</td>\n",
       "    </tr>\n",
       "  </tbody>\n",
       "</table>\n",
       "</div>"
      ],
      "text/plain": [
       "         Citation   Make  ViolFine            ViolDate  OpenPenalty  \\\n",
       "2314292   2768083  MAZDA      32.0 2014-12-31 22:07:00          0.0   \n",
       "1333451  91708082  MAZDA      32.0 2014-12-31 22:07:00          0.0   \n",
       "139814   91714940  CHEVR      32.0 2014-12-31 22:10:00          0.0   \n",
       "1154286   1551050    KIA     102.0 2014-12-31 22:25:00        329.0   \n",
       "2778335  79592952   FORD      32.0 2014-12-31 22:29:00        300.0   \n",
       "\n",
       "        PoliceDistrict  \n",
       "2314292            NaN  \n",
       "1333451            NaN  \n",
       "139814             NaN  \n",
       "1154286            NaN  \n",
       "2778335            NaN  "
      ]
     },
     "execution_count": 42,
     "metadata": {},
     "output_type": "execute_result"
    }
   ],
   "source": [
    "# mask df by year to be between 2004 and 2014\n",
    "yr_mask = (df.ViolDate >= '2004-01-01') & (df.ViolDate <'2015-01-01')\n",
    "cite_yr = df.loc[yr_mask]\n",
    "cite_yr.sort_values(by=['ViolDate']).tail()"
   ]
  },
  {
   "cell_type": "code",
   "execution_count": 43,
   "metadata": {},
   "outputs": [
    {
     "data": {
      "text/html": [
       "<div>\n",
       "<style scoped>\n",
       "    .dataframe tbody tr th:only-of-type {\n",
       "        vertical-align: middle;\n",
       "    }\n",
       "\n",
       "    .dataframe tbody tr th {\n",
       "        vertical-align: top;\n",
       "    }\n",
       "\n",
       "    .dataframe thead th {\n",
       "        text-align: right;\n",
       "    }\n",
       "</style>\n",
       "<table border=\"1\" class=\"dataframe\">\n",
       "  <thead>\n",
       "    <tr style=\"text-align: right;\">\n",
       "      <th></th>\n",
       "      <th>ViolDate</th>\n",
       "      <th>Citation</th>\n",
       "    </tr>\n",
       "  </thead>\n",
       "  <tbody>\n",
       "    <tr>\n",
       "      <th>0</th>\n",
       "      <td>2004</td>\n",
       "      <td>162</td>\n",
       "    </tr>\n",
       "    <tr>\n",
       "      <th>1</th>\n",
       "      <td>2005</td>\n",
       "      <td>1136</td>\n",
       "    </tr>\n",
       "    <tr>\n",
       "      <th>2</th>\n",
       "      <td>2006</td>\n",
       "      <td>5550</td>\n",
       "    </tr>\n",
       "    <tr>\n",
       "      <th>3</th>\n",
       "      <td>2007</td>\n",
       "      <td>50049</td>\n",
       "    </tr>\n",
       "    <tr>\n",
       "      <th>4</th>\n",
       "      <td>2008</td>\n",
       "      <td>41672</td>\n",
       "    </tr>\n",
       "    <tr>\n",
       "      <th>5</th>\n",
       "      <td>2009</td>\n",
       "      <td>42719</td>\n",
       "    </tr>\n",
       "    <tr>\n",
       "      <th>6</th>\n",
       "      <td>2010</td>\n",
       "      <td>45842</td>\n",
       "    </tr>\n",
       "    <tr>\n",
       "      <th>7</th>\n",
       "      <td>2011</td>\n",
       "      <td>129722</td>\n",
       "    </tr>\n",
       "    <tr>\n",
       "      <th>8</th>\n",
       "      <td>2012</td>\n",
       "      <td>160453</td>\n",
       "    </tr>\n",
       "    <tr>\n",
       "      <th>9</th>\n",
       "      <td>2013</td>\n",
       "      <td>53916</td>\n",
       "    </tr>\n",
       "    <tr>\n",
       "      <th>10</th>\n",
       "      <td>2014</td>\n",
       "      <td>79135</td>\n",
       "    </tr>\n",
       "  </tbody>\n",
       "</table>\n",
       "</div>"
      ],
      "text/plain": [
       "    ViolDate  Citation\n",
       "0       2004       162\n",
       "1       2005      1136\n",
       "2       2006      5550\n",
       "3       2007     50049\n",
       "4       2008     41672\n",
       "5       2009     42719\n",
       "6       2010     45842\n",
       "7       2011    129722\n",
       "8       2012    160453\n",
       "9       2013     53916\n",
       "10      2014     79135"
      ]
     },
     "execution_count": 43,
     "metadata": {},
     "output_type": "execute_result"
    }
   ],
   "source": [
    "# group masked df by year, calculate totals\n",
    "# cite_yr.groupby(cite_yr.ViolDate.dt.year).count()\n",
    "cite_count_yr = cite_yr['Citation'].groupby(cite_yr.ViolDate.dt.year).count()\n",
    "cite_count_yr = cite_count_yr.reset_index(['ViolDate'])\n",
    "cite_count_yr"
   ]
  },
  {
   "cell_type": "code",
   "execution_count": 44,
   "metadata": {},
   "outputs": [
    {
     "data": {
      "image/png": "[encoded data removed]",
      "text/plain": [
       "<Figure size 432x288 with 1 Axes>"
      ]
     },
     "metadata": {
      "needs_background": "light"
     },
     "output_type": "display_data"
    },
    {
     "name": "stdout",
     "output_type": "stream",
     "text": [
      "The slope of the prediction line is: 11220.0909090909.\n"
     ]
    }
   ],
   "source": [
    "# use linear regression to plot citation over year\n",
    "# X = cite_count_yr[['ViolDate']].as_matrix()\n",
    "# X = cite_count_yr.drop('Citation', axis=1).values\n",
    "# Y = cite_count_yr['Citation'].values\n",
    "\n",
    "X = cite_count_yr.iloc[:, 0].values.reshape(-1, 1)\n",
    "Y = cite_count_yr.iloc[:, 1].values.reshape(-1, 1)\n",
    "lg = LinearRegression()\n",
    "lg.fit(X,Y)\n",
    "y_pred = lg.predict(X)\n",
    "\n",
    "# visualize\n",
    "plt.scatter(X,Y, color='red')\n",
    "plt.plot(X, y_pred, color='blue')\n",
    "plt.show()\n",
    "\n",
    "# slope\n",
    "coeff = lg.coef_\n",
    "print(\"The slope of the prediction line is: {}.\".format(round(float(coeff),10)))"
   ]
  },
  {
   "cell_type": "markdown",
   "metadata": {},
   "source": [
    "### Q4. Looking only at vehicles that have open penalty fees, what dollar amount is the 81st percentile of that group?"
   ]
  },
  {
   "cell_type": "code",
   "execution_count": 50,
   "metadata": {},
   "outputs": [
    {
     "name": "stdout",
     "output_type": "stream",
     "text": [
      "The 81st percentile of the dollar amount value of all open penalty fees is: 480.0.\n"
     ]
    }
   ],
   "source": [
    "# filter citations with open penalty value > 0\n",
    "open_pen = df[(df.OpenPenalty > 0)]\n",
    "\n",
    "# find 81th percentile\n",
    "print('The 81st percentile of the dollar amount value of all open penalty fees is: {}.'.format(open_pen.OpenPenalty.quantile(0.81)))"
   ]
  },
  {
   "cell_type": "markdown",
   "metadata": {},
   "source": [
    "### Q5. Find the ten vehicle makes that received the most citations during 2017. For those top ten, find all Japanese-made vehicles. What proportion of all citations were written for those vehicles? Note that the naming in Make is not consistent over the whole dataset, so you will need to clean the data before calculating your answer. Your answer should be expressed as a decimal number (i.e. 0.42, not 42)."
   ]
  },
  {
   "cell_type": "code",
   "execution_count": 141,
   "metadata": {},
   "outputs": [
    {
     "name": "stdout",
     "output_type": "stream",
     "text": [
      "1651\n",
      "['MAZD', 'ACUR', 'TOYT', 'FORD', 'SUBA', 'NISS', 'HOND', 'HYUN', 'JEEP', 'CHEV', 'TOYOT', 'CHRY', 'KIA', 'BMW', 'LEXS', 'DODG', 'ACURA', 'BUIC', 'RAM', 'MERZ', 'VOLK', 'LEXUS', 'INFI', 'LAND', 'PONT', 'MERC', 'CADI', 'STRN', 'LINC', 'DOD', 'GMC', 'AUDI', 'LEXU', 'CHEVR', 'SUBAR', 'SUZU', 'VOLV', 'HYUND', 'JAQU', 'MAZDA', 'DODGE', 'TOY', 'SATU', 'SAA', 'CHRYS', 'SATR', 'HONDA', 'INFIN', 'FIAT', 'MITS', 'UNK', 'LNDR', 'SUZI', 'YAMA', 'HON', 'MNNI', 'NIS', 'MERCU', 'LAN', 'VOLKS', 'UNKN', 'TOYO', 'OLDS', 'VOLVO', 'NISSA', 'ISUZ', 'BUICK', 'FOR', 'MINI', 'MAZ', 'PLYM', 'SCIO', 'HUMM', 'PORS', 'MASER', 'LINCO', 'CADIL', 'OTH', 'ROV', 'DEALE', 'VCTY', 'CANA', 'INTE', 'MACK', 'NFLY', 'SAAB', 'HYU', 'SATUR', 'JAGU', 'TESL', 'V W', 'KAWA', 'PONTI', 'MOPED', 'MOTOR', 'MITSU', 'MERCE', 'ISU', 'HD', 'VLV', 'OLD', 'CHE', 'SUB', 'LEX', 'CAD', 'INTER', 'FREI', 'TSMR', 'STER', 'STERL', 'SUZK', 'FRHT', 'ALFA', 'SUZUK', 'SCION', 'MASE', 'BUI', 'MB', 'FRD', 'BOAT', 'RANG', 'JEE', 'AUTO', 'TRAI', 'METRO', 'APRI', 'TRUC', 'JAG', 'KENWO', 'CHR', 'LND', 'SUBU', 'SEDA', 'CHEVY', 'FREIG', 'FTL', 'GEO', 'INTL', 'MIT', 'UN', 'NEWF', 'ISUZU', 'PLYMO', 'JEP', 'MITZ', 'TOYA', 'SUZX', 'DAEW', 'KAWAS', 'AUD', 'SAT', 'JAGUA', 'SUZ', 'REGAL', 'OLDSM', 'ACU', 'HONA', 'VW.', 'NFUS', 'KIA M', 'VLK', 'HARL', 'IC', 'MAXD', 'VOL', 'EAGL', 'PON', 'MEB', 'HINO', 'LANR', 'PTRB', 'INF', 'HARLE', 'FRIGH', 'NISN', 'HUMME', 'MREC', '2008', 'HD.', 'M B', 'KAWK', 'KW', 'PETE', 'FLEE', 'OTH90', 'HOMD', 'FAIT', 'TRK', 'OTH01', 'RANDR', 'NEOP', 'BUEL', 'JEPP', 'ACUT', 'TRIU', 'PLY', 'ROVE', 'NEFL', 'ROVR', 'ACUA', 'ISUS', 'OTHR', 'COOP', 'DANZ', 'LNRV', 'RANGE', 'AUROR', 'PETER', 'CHUA', 'KAIT', 'NABI', 'YAMAH', 'EQUA', 'LANDR', 'DUCA', 'TACO', 'TRAIL', 'THOM', 'RANGR', 'FRE', 'DETRL', 'JETTA', 'GREAT', 'AUDIO', 'ISZU', 'VW', 'LINCN', 'COMM', 'WRANG', 'SEBLI', 'GREA', 'UNKNO', 'PORSH', 'UTI', 'SATN', 'FLAT', 'ALTE', 'FORES', 'NWFL', 'TRIA', 'BUS', 'LARO', 'DOUBL', 'WSTR', 'CORVE', 'MINI-', 'IAME', 'MIN', 'ROLL', 'TY', 'MER', 'B0AT', 'PONI', 'SMART', 'RIVIE', 'PREVO', 'PORSC', 'RROVE', 'FEDEX', 'FREIT', 'NO PA', 'VAN', 'COMMV', 'BENZ', '7-9AM', 'DE TR', 'DETAC', 'PARK', 'MCDNL', 'EAGLE', 'NEON', 'DETCH', 'RV', 'TRUCK', 'NO ST', 'NO EZ', 'DISP', 'WESTE', 'MAIL', 'FRIE', 'KAW', 'FRGT', 'MICK', 'PET', 'TOP B', 'GENES', 'THOMA', '00000', 'BULLE', 'STOU', 'MEZ', 'DAEWO', 'UTILI', 'LDV', 'WABA', 'WABAS', 'GDAN', 'WAB', 'MON A', '08', 'TALON', 'WORK', 'XXX', 'TRL', 'STOUG', 'NO PK', 'AMER', 'EGIL', '3-6 N', 'GRDA', 'H.B.', 'AHERN', 'PIN', 'ALL', 'STRI', 'TK LO', 'WBS', 'XX', '4-6 N', 'MALIB', 'CHALK', '7:30-', 'LR', 'KOMFO', 'TRIUM', 'VANG', 'BENTL', 'CAR', 'VANHO', 'BENT', 'STEP', '7-9 N', 'NO P', 'DEACH', 'HAULM', 'PIAG', 'DETEA', 'BUELL', 'NITS', 'HARLY', 'PEUG', '2004', 'TOYTA', 'TMO', 'TOUR', 'COTT', 'DISPL', 'GD', 'SMALL', 'POSTA', 'MARYL', 'DOON', 'NO PE', 'SMRT', 'OBSER', 'HO', 'RROV', 'VIPER', 'BUGGY', 'OTHER', 'WANC', 'SPIDE', 'CHER', 'OSHK', 'MANAC', 'UPS', 'SMAR', 'AROU', 'HMDE', 'WHITE', 'B2300', 'EXPIR', 'HUSQV', 'ZHEJ', 'EXCEE', 'UHAUL', 'HYD', '2HR P', '311 C', 'CA4', 'BUCK', 'TOTY', 'TRLR', 'NO EM', 'ALLEG', 'GRDN', 'BLOCK', 'COOPE', 'KYMC', 'TELSA', 'LIN', 'B6486', 'POSTE', 'CROWN', 'R ROV', 'GOSH', 'AMC H', 'VLW', 'MAZA', 'TUON', 'MOBIL', 'ALRO', 'DUMPE', 'JAYCO', 'TITA', 'DUMP', 'AMC', 'BB', 'GMV', 'FRUE', 'ABART', 'MB.', 'TORFL', 'U HAU', 'COMPL', 'SCHOO', 'CYCLE', 'INTRI', 'TUSCA', 'LA TR', 'QQ', 'SERRA', 'SPRIN', 'PROW', 'OBSTR', 'MOTO', 'EZDUM', 'ROUTE', 'SYSCO', 'MON\\\\T', 'JH', 'GRUMM', 'DURAP', 'VISIB', 'FRUEH', '3-6:3', 'EXP T', '1HR P', 'SINGA', 'PORCH', 'THUND', 'PST T', '0THER', 'CHLK', 'EVERG', 'CIMC', 'NONE', '4-6:3', 'TO', 'BULL', 'TESLA', 'EXP M', 'DANE', 'MINIC', '2 HR', 'TAOTA', 'NOTHI', 'WED 8', 'ALERO', 'PST N', 'GT', 'MURRA', 'VICTO', 'USPS', 'BROKE', 'PARKE', '4PM-6', 'TRACK', 'ASK C', 'TRACT', 'MASTE', 'TUES', 'IN3', 'BACK-', 'H0NDA', 'LINVO', 'MERCY', 'TRAC', 'VESPA', 'PEACE', 'CLAS', 'KYMCO', 'OTHE', 'STRG', '7AM-9', 'CIVI', 'LEGAC', 'VAHO', 'VNTC', 'CORV', 'HEIL', 'Hyund', 'BLUE', 'SOME', 'VPG', 'CIM', 'NEW F', 'THOR', 'RORO', 'BARB', 'PIER', 'AUTC', 'WORKH', 'MAC', 'WEST', 'MCI', 'STLG', 'ICBU', 'STAR', 'BUIK', 'FLIN', 'TURT', 'MG', 'UTL', 'GTD', 'PACE', 'TRA', 'LOKI', 'EAS', 'TRIP', 'UD', 'HEI', 'INT', 'FON', 'G D', 'LARV', 'KENW', 'EAST', 'MAJE', 'SKT', 'MC', 'REITN', 'ESMC', 'IC CO', 'L R', 'PREO', 'FISK', 'ASTO', 'FRT', 'BMW.', 'RECO', 'TRAN', 'MCIN', 'MAS', 'PTB', 'VNHL', 'MAC T', 'SETR', 'UDT', 'GDT', 'ORIO', 'UTIL', 'TRLM', 'STR', 'BEN', 'POLAR', 'PINE', 'GALBR', 'TAGS', 'CURR', 'MD', 'MINC', 'X L S', 'NDMC', 'PIRC', 'PREV', 'VANH', 'MARK', 'POLA', 'DOGD', 'HIND', 'JAGR', 'FLOR', 'EZ DU', 'PERL', 'VOVL', 'HONS', 'VOLO', 'TAGA', 'MAYB', 'FACE', 'SUPR', 'GRTD', 'GMAC', 'CAN', 'CADO', 'TRGB', 'STEM', 'KEN', 'AJAX', 'WALKE', 'MNIB', 'FONT', 'AVANT', 'GIND', 'UTLI', 'UD.', 'ROAD', 'BLBI', 'LR.', 'KENT', 'GRAT', 'DATS', 'MERB', 'WALK', 'CARRI', 'BAR B', 'ASM', 'FORV', 'STAO', 'DIAMO', 'FRH', 'LNRO', 'MITI', 'HYTR', 'JMH', 'CHYR', 'OUTL', 'SCI', 'EAG', 'BUDD', 'PROVI', 'TOP', 'GEORG', 'REIT', 'GMC.', 'BUT', 'UD2', 'LDRO', 'DACO', 'LE E', 'CARR', 'STNTE', 'MONN', 'KENS', 'ADV', 'SPNR', '02', 'BOYD', 'JINDO', 'MIST', 'STO', 'FERR', 'RESER', 'EXPED', 'ARAMA', 'PSTD', 'ABF-T', 'THURS', 'TE5LR', 'BRP', '7-10', 'OTHEH', 'MTS', 'IMPED', 'NO S', 'COLEM', 'WINNE', 'ZQQ', 'RIVER', '730A-', 'PENSK', 'CTMPL', 'PST C', 'DAIH', 'BLKIN', 'METER', '8-12', 'GEM', 'GRIEC', 'CROSS', '10-3', 'HOLRA', 'JAQ', 'DUCAT', 'BIKE', 'LULL', 'DAE', 'LANCE', 'GRAY', 'LONE', '40908', 'RYDER', 'AC', 'ENTER', 'FORD1', 'HHOND', '8A 9A', 'GENE', 'C AND', 'CAB', 'LOTUS', 'WINDC', 'HY', 'SPYDE', 'NO #3', 'L4677', 'PST B', 'SUKI', 'TRASH', 'JLG', 'XTERR', 'FED E', 'BOULE', 'NISSN', 'ITILI', 'MOTOC', 'EQUUS', 'CENTU', 'BIG T', 'KURB', '5-MO', 'FORD3', '5/15', 'HH', 'TOW', 'KURBM', 'SCOIN', 'AMERI', 'RAAIL', 'ASTON', 'TIBUR', 'C/S 8', 'BLUEB', 'COVET', 'ROL', 'LLBEL', 'GRTDN', 'PICKU', 'APRIL', 'UNKNW', '7AM-1', 'VEH I', 'FUSO', '730-1', 'RIVEA', 'CURRA', 'ORV', 'IMPE', '3HR P', 'XL', 'SEMI', 'ECONO', 'HEAD-', '7-9 P', 'GAUMM', 'MP', 'ARO', 'SLING', '7:30A', 'WED 1', 'ERC', 'VENIC', 'MOPAD', 'NOSEC', 'NI', 'DRIVE', '8-11C', 'COMME', 'SHADO', '4/13', 'MID', 'INTRN', 'CENTR', 'GM', '8/17', 'STARC', 'TRL-', 'MERKU', 'MEHAR', 'ALUMA', 'MITO', '7-9 A', '20706', 'SEACU', 'TRANS', 'NO TA', 'IN', 'LOADR', 'DART', 'ANY', 'GENIS', 'SCAMP', 'NISS4', 'C AN', 'FRIDA', 'LANC', 'FLEET', '7-9:3', 'SECTI', 'SLIN', 'FISKE', 'PARKI', 'CHEET', 'NV', 'L4', 'PK BL', 'BLOC', 'BMV', 'BUS L', '2016', 'MEC', 'SU', 'LAMBO', '8/15', 'CAMPE', 'WHTGM', 'SPART', 'PK IN', 'MON.8', '4-5:3', '415PM', '7-9 S', 'FRONT', '12/15', 'B4', 'GRN', 'CARMA', '2018', '2017', 'AENZ', 'V0LVO', 'ANVIL', 'LARK', 'N', 'UTIMA', 'FOR3', 'BLUBR', 'LOTU', 'HUDSO', 'GRTDA', 'HR', 'DHL', 'TOMOS', 'RODEO', 'FTR', 'INTR', 'ECLIP', '4', 'ALTEZ', 'TEX', 'LEE', 'GMT', 'IMPRO', 'AB', 'DO', 'VV', 'MECUR', 'HOMES', 'N PK', 'UTILM', 'CONT', 'BROD', '4-6 P', 'WARD', 'RIV', 'MAZEA', 'FRGLN', 'CAM', 'VENTU', 'POR', 'AVAN', 'TOW T', 'RAND', 'UNKN7', 'LE4', 'LAVDI', 'CHAE', 'UNI', 'APPAL', 'SILV', 'GRAN', 'PASS', 'MASRA', 'ACURD', 'KFAU', 'MORG', 'VO', 'FEX', 'CARGO', 'AUOR', 'CAY', 'HYBIR', 'PST W', 'DAMON', 'JIFFY', 'HOME', 'MISSI', 'BUIZ7', 'DATSU', 'FOODC', 'FONTA', 'ME', 'SABB', 'HALE', 'SUV', 'GRUMA', 'BAYLI', '4-630', 'MAERS', 'LE', 'KAUFM', 'DETAT', 'SAB', '4-6PM', 'MON 8', 'MONDA', '4:15P', '5/16', 'DETC', 'O4', 'DOWN', '4:15-', 'ROLLS', 'VOV', 'FF', '38306', 'KENWR', 'DUTCH', 'JEEPS', '10 MI', 'WAGON', '9/14', 'CAI', 'DOJ', 'LANRO', '11:28', 'VAHHO', 'MAILT', 'FOREI', 'TOWMA', 'DROVE', '4:00-', 'NO PR', 'FALCO', 'HEN', 'VANTT', 'COACH', 'PST P', 'FERRA', 'TESLE', 'NEWHA', 'JOHN', 'CHEVS', 'ALLIE', 'BMW 7', 'CAPIT', 'ROVER', 'ITAS', 'MAILC', 'LDRV', 'GMC S', 'JE', '3:00-', 'FOLD', 'CAR M', 'FOURW', 'EXP 4', 'LCON', 'BMX', 'LEONA', 'GMC U', 'C/S 1', 'AMGN', 'C/S 2', 'TAIZ', 'EAGR', 'VANPO', 'GENER', 'TRUM', 'MV', 'BUP', 'C/S 7', 'TOYP', 'HORT', 'FLAGS', 'KIA.', 'INTEL', 'CHEVV', 'STUDE', 'BUCI', 'GMC (', 'CHE2V', '02.', 'MADZ', 'FRGHT', 'ALINE', 'SUSK', 'EXP E', 'TM', 'DORO', 'CHRT', 'TSM', 'MIFU', 'LUF', 'WA', 'A', 'PKED', 'GNC', 'C4', 'BUS S', '730A', 'MON 1', 'PTS', 'FRTL', 'LANDS', 'PERKI', 'ARNOL', 'VOYAG', 'CAMP', 'BREN', 'PK OF', '3-630', 'TEMS', 'DYNAS', 'JEDA', 'PK RE', 'POL', 'DV113', 'BWW', 'VULCA', 'Marke', 'FLTWD', 'QUEST', 'QIPA', 'NISA', 'ASANT', 'DIAM', 'WRKH', 'DETAI', 'WINN', 'GALAN', 'HYN', 'NOT', 'ROMEO', 'FOWI', 'MIN C', 'MICKE', 'TELS', 'INIF', 'MALI', 'CARRY', 'AERO', 'F', 'DAYTO', '9-4 N', 'ADVA', 'UDTK', 'S/C 1', 'TORON', 'RPS', 'TAHOE', 'GILL', 'DELIV', 'FSKR', 'WANDE', 'THUR.', 'BM', 'BLUET', 'JAQUA', 'GOCAR', 'SPRI', 'WHITI', 'GOLD', 'RTRK', 'FIES', 'RANAE', 'MNI', 'TESIA', 'STUD', 'LEZU', 'TOYT0', 'IZUZ', '0', 'AREA', 'LNC', 'MUSTA', 'COUPE', 'MUMME', 'DOGE', '80061', 'AUOI', 'BRODY', '8A-11', 'TRL D', 'WASH', 'SELON', 'ION', 'SUZIK', 'SICON', 'LINCL', 'UNKOW', 'CUBE', 'ACR', '#1 &', 'SAMB', 'NO MO', 'C4HEV', 'F0RD', 'TRASE', 'CINTA', 'TRUNK', 'JENS', 'FRIEG', 'WORKT', 'AUUR', '311 S', 'THMS', 'SUZKI', 'EZ PA', 'NOT V', 'BLU', 'CHEVE', 'STRAT', 'CTN', 'AYDI', 'LENOL', 'TYMC', '0BSTR', 'SAF', 'RR', 'JUIL', 'RAV4', 'AL', 'J4500', 'UKN', 'SATIN', 'UTITL', 'LESAB', 'MTR C', 'NEW', 'HAR', 'FIA', 'GALAC', 'SHELB', 'IMPRE', 'ICRP', 'PEPSI', 'FO', 'THOS', 'GOLDW', 'HIN', 'ICC', 'TUE.1', 'NINO', 'MCK', 'BUIX', 'BLUB', 'STL', 'GLADI', 'GNESI', 'HYND', 'NEWH', 'TES', 'YAM', 'CHY', 'KTM', 'SUPER', 'SPINT', 'JP', 'MINI(', 'DETAA', 'HT', 'GONDA', 'TR', 'SCIUN', 'UKNK', 'RB', 'UTIUM', 'FERI', 'FRIEQ', 'BWI', 'HITC', 'ELDO', 'SEDAN', 'HOLID', 'BRIMA', 'CAYEN', 'UNKWO', 'DARCA', 'ROCHC', 'FED', 'UTILT', 'JAUDI', '5/17', 'BOUND', 'LORI', 'VANDU', 'ACCOR', 'C/S 9', 'KABMA', 'LEIK', 'ABF', 'MASAR', 'INFN', 'MAXON', 'SEA R', 'SE', 'FIT C', 'AAU', 'RAN', 'JMST', 'PORC', 'TYPH0', 'VOLKW', 'CIDI', 'VERUC', '430PM', 'PICK', 'VANGU', 'HAUI', 'SCON', 'AMBUL', 'NO CA', 'DSP E', '8/16', '11-2', '9/18', 'GENU', 'MINIV', 'VH BL', 'GILG', 'KI', '4:530', 'HN', 'VAN P', 'ISZ', 'ALF', 'UNITE', 'DBL P', 'HODNA', 'CORBI', '4FORD', 'C/S 4', 'LEUX', 'HUSQ', 'RED', 'GABB', '88902', 'TOWN', 'VEHI', '7A-9A', 'HND', 'FRLI', 'UNIT', 'CORO', 'BOX', '4HYUN', '10/15', '800', 'BMW (', 'EASTE', 'CAN A', 'TSMR\\\\', '3PM-6', 'APPA', '4TH W', 'HUD', 'LADR', 'VILLA', 'CHVY', 'RANRO', 'SUZUI', 'SIGNA', 'CHARG', 'CARM', 'STALL', 'LINC0', 'STOV', 'CAYM', 'SCHBU', 'MINCO', 'OTH00', 'KAWI', 'FUSI', 'ESCA', 'HARD', 'SILVE', 'ELAN', 'SONAT', 'PTBR', 'KUN', 'MAX', 'JAMBO', 'AV', 'AU', 'PB', 'FJJ', 'PRIUS', 'ALTI', 'ALTOM', 'TRIN', 'UNN', 'BRONC', 'PASAT', 'INC', 'OYH', 'SENT', 'VERA', 'INTA', 'OTHW', 'MAXDA', 'MAZAD', 'SEFO', 'LIC', 'RANDG', 'TRAIN', 'LXU', 'LDXU', 'OTH02', 'PORG', 'MUST', 'KIA02', 'COPPE', '//', 'AVALO', 'BOXST', 'GRAND', 'COCA', 'SPHA', 'TRIL', 'OTJ', 'GENSI', 'LINCE', 'SCIOM', 'DEVIL', 'IMPAL', 'FEDX', 'CELIC', 'TERRA', 'IEUZ', 'MAZD0', 'ALTIM', 'FRL', '6A-6:', 'KYMCA', 'SIENN', 'WINDS', 'TEXAS', 'TYSON', 'LEXY', 'FEDE', 'OYT', 'LEXI', 'OSHKO', 'EXPR', 'AGUS', 'BOXTR', 'COM.', 'TODCO', 'GMCL', 'PALOM', '766 4', 'PATRI', 'DISCO', 'HARI', 'STRIC', 'DORSE', '1522', 'PRK I', 'NO AC', 'EXC 2', 'PORT', 'HOLLA', 'PRELU', 'IZUZU', 'PHILB', 'CHALL', 'SA', 'ACADE', 'INTEG', 'SHORE', 'US PO', 'SURE-', 'KING', '38458', '19744', 'CAN C', 'UNKWN', 'SUBUR', 'EAGE', 'LINC3', 'UMNK', 'GREEN', 'BOATT', 'CAPRI', 'SION', 'AZTEK', 'SC', '1', 'EES05', 'MIDGE', 'OO', 'CRYS', 'HITCH', 'LROVE', 'LOWE', 'HUMM2', 'SAT4U', 'XXXXX', 'KENTU', 'MCT', 'LINK', 'OPEL', 'DURA', 'NATIO', 'YUKON', 'MICOO', 'NOT A', 'CHYRS', 'DAEW0', 'ABFTR', 'SUPRE', 'FJR', 'TAXI', 'BRI M', 'MEZR', 'MON 7', 'KORD', 'LESS', 'CHAMP', 'H3', 'VELOS', 'MSC', 'VOLW', '11', 'CITAT', 'DIXIE', 'CONCO', 'ENTEG', 'HOMDA', 'IMPER', 'FBI12', 'FLATB', 'VEHTR', 'DET T', 'HPAMO', 'UTLIL', 'ADJ C', 'CREIG', 'GIVI', 'ADMIR', 'MAZY', 'WS', 'SATUN', 'HYUN4', 'COMTR', 'DAWOO', 'STREE', 'TESLR', '4-7PM', 'LLLLL', 'EAGEL', 'YACH', 'EZPAS', 'STROU', 'THIEL', 'FREVO', 'CUTLA', 'STORM', 'AROUR', 'GO', 'UNIVE', 'DE', 'DTRL', 'FLBED', 'INTEN', 'PINES', 'JERRD', 'SIL', 'TRU', 'RENA', 'BECK', 'USCAR', 'KWSKI', 'MERZ4', 'MAXUM', 'NECON', 'BLBRD', 'D-TCH', 'AMIGO', 'OADRI', 'BURGM', 'FRIEN', 'VOLV4', 'RIVE', 'KSAKI', 'MEZC', 'RIVRA', 'MSCU', 'FABRQ', 'COLT', 'MERZB', 'WORKS', 'HUMMR', 'COM', 'ROTAR', 'GG', 'COM.V', '0LDS', 'TOKIC', 'BMN', 'LIMO', 'MCYCL', 'CONTL', 'ASHTO', 'PTRBL', 'T4', 'J4', 'NSCSA', 'U/T', 'LONG', 'ME4', 'TRAIT', 'SUK', 'ACON', 'LEG', 'LOADE', 'EZ', 'JIFF', 'NABOR', 'TRAL', 'MAZD7', 'TOPHA', 'TOP K', 'ICON', 'AUR', 'AURO', 'RANGW', 'CAMAR', 'RNAGE', 'DIPLO', 'UNFIN', 'US', 'BARTH', 'REG', '300ZX', 'LANDO', 'KENA', 'CONTR', 'KIAD', 'TRIAL', 'TOURB', 'UBFU', 'CUTL', 'STRA', 'HERC', 'HANA', 'CAMR', 'MAGU', 'SCHA', 'EXP', 'MBW', 'LATR', 'PAES', 'SEBR', 'TOYTD', 'CORN', 'DAG', 'MAXIN', 'MAXI', 'LTD', 'CONC', 'ACCO', 'NORTH', 'BOOT', 'PLUT', 'TERC', 'FOCU', 'METR', 'REGA', 'LEGE', 'CON', 'PERO', 'AUID', 'SEVIL', 'FREE', 'MERK', 'ENVO', 'VAHD', 'TYT', 'OOOOO', 'LACAR', 'GALAX', 'MERG', 'JETT', 'JAQUR', 'HUM', 'STOA', 'SIEN', 'LEXSU', 'COBR', 'BRMR', 'MGS', 'RAMB', 'DMW', 'VOLC', 'KARI', 'MBZ', 'AUC', 'BRAM', 'MEBZ', 'RAMS', 'CADL', 'K T M', 'BOMBA', 'SPCO', 'FAST', 'FOSTE', 'FARB', 'OUTBA', 'FORS', 'OPTI', 'USA', 'BENDR', 'INTN', 'HACKN', 'SUNLI', 'MIF', 'FRIEH', 'PETR', 'CRYE', 'FFORD', 'VICT', 'MAULM', 'A2', 'TOT', 'PBLT', 'D', 'LADA', 'NO VA', 'POLS', 'LAMO', 'KIV', 'TEMSA', 'VOKS', 'TAOT', 'CAT', 'GLAV', 'HODA', 'STNT', 'MERRI', 'DIRE', 'BAOD', 'STAU', 'PN', 'TAO', 'AMGE', 'ZERO', 'JONW', 'INDI']\n"
     ]
    }
   ],
   "source": [
    "# see if there's any NAN values; drop NAN values\n",
    "if df.Make.isnull().values.any() == True:\n",
    "    not_null = pd.notnull(df.Make)\n",
    "    make_df = df[not_null]\n",
    "else:\n",
    "    make_df = df\n",
    "\n",
    "# see how many unique entries there are for make, explore values\n",
    "full_list = make_df.Make.unique().tolist()\n",
    "print(len(full_list))\n",
    "print(full_list)"
   ]
  },
  {
   "cell_type": "code",
   "execution_count": 167,
   "metadata": {},
   "outputs": [
    {
     "name": "stdout",
     "output_type": "stream",
     "text": [
      "1598\n",
      "['0BSTR', '0LDS', '0THER', '10 MI', '1HR P', '2 HR', '2HR P', '300ZX', '311 C', '311 S', '36 N', '3HR P', '3PM6', '415P', '415PM', '430PM', '46 N', '46 P', '46PM', '47PM', '4FORD', '4HYUN', '4PM6', '4TH W', '5MO', '6A6', '730A', '730A', '730A', '79 A', '79 N', '79 P', '79 S', '79AM', '7A9A', '7AM1', '7AM9', '811C', '8A 9A', '8A11', '94 N', 'A', 'A2', 'AAU', 'AB', 'ABART', 'ABF', 'ABFT', 'ABFTR', 'AC', 'ACADE', 'ACCO', 'ACCOR', 'ACON', 'ACR', 'ACU', 'ACUA', 'ACUR', 'ACURA', 'ACURD', 'ACUT', 'ADJ C', 'ADMIR', 'ADV', 'ADVA', 'AENZ', 'AERO', 'AGUS', 'AHERN', 'AJAX', 'AL', 'ALERO', 'ALF', 'ALFA', 'ALINE', 'ALL', 'ALLEG', 'ALLIE', 'ALRO', 'ALTE', 'ALTEZ', 'ALTI', 'ALTIM', 'ALTOM', 'ALUMA', 'AMBUL', 'AMC', 'AMC H', 'AMER', 'AMERI', 'AMGE', 'AMGN', 'AMIGO', 'ANVIL', 'ANY', 'APPA', 'APPAL', 'APRI', 'APRIL', 'ARAMA', 'AREA', 'ARNOL', 'ARO', 'AROU', 'AROUR', 'ASANT', 'ASHTO', 'ASK C', 'ASM', 'ASTO', 'ASTON', 'AU', 'AUC', 'AUD', 'AUDI', 'AUDIO', 'AUID', 'AUOI', 'AUOR', 'AUR', 'AURO', 'AUROR', 'AUTC', 'AUTO', 'AUUR', 'AV', 'AVALO', 'AVAN', 'AVANT', 'AYDI', 'AZTEK', 'B0AT', 'B2300', 'B4', 'B6486', 'BACK', 'BAOD', 'BAR B', 'BARB', 'BARTH', 'BAYLI', 'BB', 'BECK', 'BEN', 'BENDR', 'BENT', 'BENTL', 'BENZ', 'BIG T', 'BIKE', 'BLBI', 'BLBRD', 'BLKIN', 'BLOC', 'BLOCK', 'BLU', 'BLUB', 'BLUBR', 'BLUE', 'BLUEB', 'BLUET', 'BM', 'BMN', 'BMV', 'BMW', 'BMW', 'BMW ', 'BMW 7', 'BMX', 'BOAT', 'BOATT', 'BOMBA', 'BOOT', 'BOULE', 'BOUND', 'BOX', 'BOXST', 'BOXTR', 'BOYD', 'BRAM', 'BREN', 'BRI M', 'BRIMA', 'BRMR', 'BROD', 'BRODY', 'BROKE', 'BRONC', 'BRP', 'BUCI', 'BUCK', 'BUDD', 'BUEL', 'BUELL', 'BUGGY', 'BUI', 'BUIC', 'BUICK', 'BUIK', 'BUIX', 'BUIZ7', 'BULL', 'BULLE', 'BUP', 'BURGM', 'BUS', 'BUS L', 'BUS S', 'BUT', 'BWI', 'BWW', 'C AN', 'C AND', 'C4', 'C4HEV', 'CA4', 'CAB', 'CAD', 'CADI', 'CADIL', 'CADL', 'CADO', 'CAI', 'CAM', 'CAMAR', 'CAMP', 'CAMPE', 'CAMR', 'CAN', 'CAN A', 'CAN C', 'CANA', 'CAPIT', 'CAPRI', 'CAR', 'CAR M', 'CARGO', 'CARM', 'CARMA', 'CARR', 'CARRI', 'CARRY', 'CAT', 'CAY', 'CAYEN', 'CAYM', 'CELIC', 'CENTR', 'CENTU', 'CHAE', 'CHALK', 'CHALL', 'CHAMP', 'CHARG', 'CHE', 'CHE2V', 'CHEET', 'CHER', 'CHEV', 'CHEVE', 'CHEVR', 'CHEVS', 'CHEVV', 'CHEVY', 'CHLK', 'CHR', 'CHRT', 'CHRY', 'CHRYS', 'CHUA', 'CHVY', 'CHY', 'CHYR', 'CHYRS', 'CIDI', 'CIM', 'CIMC', 'CINTA', 'CITAT', 'CIVI', 'CLAS', 'COACH', 'COBR', 'COCA', 'COLEM', 'COLT', 'COM', 'COM', 'COMM', 'COMME', 'COMMV', 'COMPL', 'COMTR', 'COMV', 'CON', 'CONC', 'CONCO', 'CONT', 'CONTL', 'CONTR', 'COOP', 'COOPE', 'COPPE', 'CORBI', 'CORN', 'CORO', 'CORV', 'CORVE', 'COTT', 'COUPE', 'COVET', 'CREIG', 'CROSS', 'CROWN', 'CRYE', 'CRYS', 'CS 1', 'CS 2', 'CS 4', 'CS 7', 'CS 8', 'CS 9', 'CTMPL', 'CTN', 'CUBE', 'CURR', 'CURRA', 'CUTL', 'CUTLA', 'CYCLE', 'D', 'DACO', 'DAE', 'DAEW', 'DAEW0', 'DAEWO', 'DAG', 'DAIH', 'DAMON', 'DANE', 'DANZ', 'DARCA', 'DART', 'DATS', 'DATSU', 'DAWOO', 'DAYTO', 'DBL P', 'DE', 'DE TR', 'DEACH', 'DEALE', 'DELIV', 'DET T', 'DETAA', 'DETAC', 'DETAI', 'DETAT', 'DETC', 'DETCH', 'DETEA', 'DETRL', 'DEVIL', 'DHL', 'DIAM', 'DIAMO', 'DIPLO', 'DIRE', 'DISCO', 'DISP', 'DISPL', 'DIXIE', 'DMW', 'DO', 'DOD', 'DODG', 'DODGE', 'DOGD', 'DOGE', 'DOJ', 'DOON', 'DORO', 'DORSE', 'DOUBL', 'DOWN', 'DRIVE', 'DROVE', 'DSP E', 'DTCH', 'DTRL', 'DUCA', 'DUCAT', 'DUMP', 'DUMPE', 'DURA', 'DURAP', 'DUTCH', 'DV113', 'DYNAS', 'EAG', 'EAGE', 'EAGEL', 'EAGL', 'EAGLE', 'EAGR', 'EAS', 'EAST', 'EASTE', 'ECLIP', 'ECONO', 'EES05', 'EGIL', 'ELAN', 'ELDO', 'ENTEG', 'ENTER', 'ENVO', 'EQUA', 'EQUUS', 'ERC', 'ESCA', 'ESMC', 'EVERG', 'EXC 2', 'EXCEE', 'EXP', 'EXP 4', 'EXP E', 'EXP M', 'EXP T', 'EXPED', 'EXPIR', 'EXPR', 'EZ', 'EZ DU', 'EZ PA', 'EZDUM', 'EZPAS', 'F', 'F0RD', 'FABRQ', 'FACE', 'FAIT', 'FALCO', 'FARB', 'FAST', 'FBI12', 'FED', 'FED E', 'FEDE', 'FEDEX', 'FEDX', 'FERI', 'FERR', 'FERRA', 'FEX', 'FF', 'FFORD', 'FIA', 'FIAT', 'FIES', 'FISK', 'FISKE', 'FIT C', 'FJJ', 'FJR', 'FLAGS', 'FLAT', 'FLATB', 'FLBED', 'FLEE', 'FLEET', 'FLIN', 'FLOR', 'FLTWD', 'FO', 'FOCU', 'FOLD', 'FON', 'FONT', 'FONTA', 'FOODC', 'FOR', 'FOR3', 'FORD', 'FORD1', 'FORD3', 'FOREI', 'FORES', 'FORS', 'FORV', 'FOSTE', 'FOURW', 'FOWI', 'FRD', 'FRE', 'FREE', 'FREI', 'FREIG', 'FREIT', 'FREVO', 'FRGHT', 'FRGLN', 'FRGT', 'FRH', 'FRHT', 'FRIDA', 'FRIE', 'FRIEG', 'FRIEH', 'FRIEN', 'FRIEQ', 'FRIGH', 'FRL', 'FRLI', 'FRONT', 'FRT', 'FRTL', 'FRUE', 'FRUEH', 'FSKR', 'FTL', 'FTR', 'FUSI', 'FUSO', 'G D', 'GABB', 'GALAC', 'GALAN', 'GALAX', 'GALBR', 'GAUMM', 'GD', 'GDAN', 'GDT', 'GEM', 'GENE', 'GENER', 'GENES', 'GENIS', 'GENSI', 'GENU', 'GEO', 'GEORG', 'GG', 'GILG', 'GILL', 'GIND', 'GIVI', 'GLADI', 'GLAV', 'GM', 'GMAC', 'GMC', 'GMC', 'GMC ', 'GMC S', 'GMC U', 'GMCL', 'GMT', 'GMV', 'GNC', 'GNESI', 'GO', 'GOCAR', 'GOLD', 'GOLDW', 'GONDA', 'GOSH', 'GRAN', 'GRAND', 'GRAT', 'GRAY', 'GRDA', 'GRDN', 'GREA', 'GREAT', 'GREEN', 'GRIEC', 'GRN', 'GRTD', 'GRTDA', 'GRTDN', 'GRUMA', 'GRUMM', 'GT', 'GTD', 'H0NDA', 'H3', 'HACKN', 'HALE', 'HANA', 'HAR', 'HARD', 'HARI', 'HARL', 'HARLE', 'HARLY', 'HAUI', 'HAULM', 'HB', 'HD', 'HD', 'HEAD', 'HEI', 'HEIL', 'HEN', 'HERC', 'HH', 'HHOND', 'HIN', 'HIND', 'HINO', 'HITC', 'HITCH', 'HMDE', 'HN', 'HND', 'HO', 'HODA', 'HODNA', 'HOLID', 'HOLLA', 'HOLRA', 'HOMD', 'HOMDA', 'HOME', 'HOMES', 'HON', 'HONA', 'HOND', 'HONDA', 'HONS', 'HORT', 'HPAMO', 'HR', 'HT', 'HUD', 'HUDSO', 'HUM', 'HUMM', 'HUMM2', 'HUMME', 'HUMMR', 'HUSQ', 'HUSQV', 'HY', 'HYBIR', 'HYD', 'HYN', 'HYND', 'HYTR', 'HYU', 'HYUN', 'HYUN4', 'HYUND', 'Hyund', 'IAME', 'IC', 'IC CO', 'ICBU', 'ICC', 'ICON', 'ICRP', 'IEUZ', 'IMPAL', 'IMPE', 'IMPED', 'IMPER', 'IMPRE', 'IMPRO', 'IN', 'IN3', 'INC', 'INDI', 'INF', 'INFI', 'INFIN', 'INFN', 'INIF', 'INT', 'INTA', 'INTE', 'INTEG', 'INTEL', 'INTEN', 'INTER', 'INTL', 'INTN', 'INTR', 'INTRI', 'INTRN', 'ION', 'ISU', 'ISUS', 'ISUZ', 'ISUZU', 'ISZ', 'ISZU', 'ITAS', 'ITILI', 'IZUZ', 'IZUZU', 'J4', 'J4500', 'JAG', 'JAGR', 'JAGU', 'JAGUA', 'JAMBO', 'JAQ', 'JAQU', 'JAQUA', 'JAQUR', 'JAUDI', 'JAYCO', 'JE', 'JEDA', 'JEE', 'JEEP', 'JEEPS', 'JENS', 'JEP', 'JEPP', 'JERRD', 'JETT', 'JETTA', 'JH', 'JIFF', 'JIFFY', 'JINDO', 'JLG', 'JMH', 'JMST', 'JOHN', 'JONW', 'JP', 'JUIL', 'K T M', 'KABMA', 'KAIT', 'KARI', 'KAUFM', 'KAW', 'KAWA', 'KAWAS', 'KAWI', 'KAWK', 'KEN', 'KENA', 'KENS', 'KENT', 'KENTU', 'KENW', 'KENWO', 'KENWR', 'KFAU', 'KI', 'KIA', 'KIA', 'KIA M', 'KIA02', 'KIAD', 'KING', 'KIV', 'KOMFO', 'KORD', 'KSAKI', 'KTM', 'KUN', 'KURB', 'KURBM', 'KW', 'KWSKI', 'KYMC', 'KYMCA', 'KYMCO', 'L R', 'L4', 'L4677', 'LA TR', 'LACAR', 'LADA', 'LADR', 'LAMBO', 'LAMO', 'LAN', 'LANC', 'LANCE', 'LAND', 'LANDO', 'LANDR', 'LANDS', 'LANR', 'LANRO', 'LARK', 'LARO', 'LARV', 'LATR', 'LAVDI', 'LCON', 'LDRO', 'LDRV', 'LDV', 'LDXU', 'LE', 'LE E', 'LE4', 'LEE', 'LEG', 'LEGAC', 'LEGE', 'LEIK', 'LENOL', 'LEONA', 'LESAB', 'LESS', 'LEUX', 'LEX', 'LEXI', 'LEXS', 'LEXSU', 'LEXU', 'LEXUS', 'LEXY', 'LEZU', 'LIC', 'LIMO', 'LIN', 'LINC', 'LINC0', 'LINC3', 'LINCE', 'LINCL', 'LINCN', 'LINCO', 'LINK', 'LINVO', 'LLBEL', 'LLLLL', 'LNC', 'LND', 'LNDR', 'LNRO', 'LNRV', 'LOADE', 'LOADR', 'LOKI', 'LONE', 'LONG', 'LORI', 'LOTU', 'LOTUS', 'LOWE', 'LR', 'LR', 'LROVE', 'LTD', 'LUF', 'LULL', 'LXU', 'M B', 'MAC', 'MAC T', 'MACK', 'MADZ', 'MAERS', 'MAGU', 'MAIL', 'MAILC', 'MAILT', 'MAJE', 'MALI', 'MALIB', 'MANAC', 'MARK', 'MARYL', 'MAS', 'MASAR', 'MASE', 'MASER', 'MASRA', 'MASTE', 'MAULM', 'MAX', 'MAXD', 'MAXDA', 'MAXI', 'MAXIN', 'MAXON', 'MAXUM', 'MAYB', 'MAZ', 'MAZA', 'MAZAD', 'MAZD', 'MAZD0', 'MAZD7', 'MAZDA', 'MAZEA', 'MAZY', 'MB', 'MB', 'MBW', 'MBZ', 'MC', 'MCDNL', 'MCI', 'MCIN', 'MCK', 'MCT', 'MCYCL', 'MD', 'ME', 'ME4', 'MEB', 'MEBZ', 'MEC', 'MECUR', 'MEHAR', 'MER', 'MERB', 'MERC', 'MERCE', 'MERCU', 'MERCY', 'MERG', 'MERK', 'MERKU', 'MERRI', 'MERZ', 'MERZ4', 'MERZB', 'METER', 'METR', 'METRO', 'MEZ', 'MEZC', 'MEZR', 'MG', 'MGS', 'MICK', 'MICKE', 'MICOO', 'MID', 'MIDGE', 'MIF', 'MIFU', 'MIN', 'MIN C', 'MINC', 'MINCO', 'MINI', 'MINI', 'MINI', 'MINIC', 'MINIV', 'MISSI', 'MIST', 'MIT', 'MITI', 'MITO', 'MITS', 'MITSU', 'MITZ', 'MNI', 'MNIB', 'MNNI', 'MOBIL', 'MON 1', 'MON 7', 'MON 8', 'MON A', 'MON8', 'MONDA', 'MONN', 'MONT', 'MOPAD', 'MOPED', 'MORG', 'MOTO', 'MOTOC', 'MOTOR', 'MP', 'MREC', 'MSC', 'MSCU', 'MTR C', 'MTS', 'MUMME', 'MURRA', 'MUST', 'MUSTA', 'MV', 'Marke', 'N', 'N PK', 'NABI', 'NABOR', 'NATIO', 'NDMC', 'NECON', 'NEFL', 'NEON', 'NEOP', 'NEW', 'NEW F', 'NEWF', 'NEWH', 'NEWHA', 'NFLY', 'NFUS', 'NI', 'NINO', 'NIS', 'NISA', 'NISN', 'NISS', 'NISS4', 'NISSA', 'NISSN', 'NITS', 'NO 3', 'NO AC', 'NO CA', 'NO EM', 'NO EZ', 'NO MO', 'NO P', 'NO PA', 'NO PE', 'NO PK', 'NO PR', 'NO S', 'NO ST', 'NO TA', 'NO VA', 'NONE', 'NORTH', 'NOSEC', 'NOT', 'NOT A', 'NOT V', 'NOTHI', 'NSCSA', 'NV', 'NWFL', 'O4', 'OADRI', 'OBSER', 'OBSTR', 'OLD', 'OLDS', 'OLDSM', 'OO', 'OOOOO', 'OPEL', 'OPTI', 'ORIO', 'ORV', 'OSHK', 'OSHKO', 'OTH', 'OTH00', 'OTH01', 'OTH02', 'OTH90', 'OTHE', 'OTHEH', 'OTHER', 'OTHR', 'OTHW', 'OTJ', 'OUTBA', 'OUTL', 'OYH', 'OYT', 'PACE', 'PAES', 'PALOM', 'PARK', 'PARKE', 'PARKI', 'PASAT', 'PASS', 'PATRI', 'PB', 'PBLT', 'PEACE', 'PENSK', 'PEPSI', 'PERKI', 'PERL', 'PERO', 'PET', 'PETE', 'PETER', 'PETR', 'PEUG', 'PHILB', 'PIAG', 'PICK', 'PICKU', 'PIER', 'PIN', 'PINE', 'PINES', 'PIRC', 'PK BL', 'PK IN', 'PK OF', 'PK RE', 'PKED', 'PLUT', 'PLY', 'PLYM', 'PLYMO', 'PN', 'POL', 'POLA', 'POLAR', 'POLS', 'PON', 'PONI', 'PONT', 'PONTI', 'POR', 'PORC', 'PORCH', 'PORG', 'PORS', 'PORSC', 'PORSH', 'PORT', 'POSTA', 'POSTE', 'PRELU', 'PREO', 'PREV', 'PREVO', 'PRIUS', 'PRK I', 'PROVI', 'PROW', 'PST B', 'PST C', 'PST N', 'PST P', 'PST T', 'PST W', 'PSTD', 'PTB', 'PTBR', 'PTRB', 'PTRBL', 'PTS', 'QIPA', 'QQ', 'QUEST', 'R ROV', 'RAAIL', 'RAM', 'RAMB', 'RAMS', 'RAN', 'RANAE', 'RAND', 'RANDG', 'RANDR', 'RANG', 'RANGE', 'RANGR', 'RANGW', 'RANRO', 'RAV4', 'RB', 'RECO', 'RED', 'REG', 'REGA', 'REGAL', 'REIT', 'REITN', 'RENA', 'RESER', 'RIV', 'RIVE', 'RIVEA', 'RIVER', 'RIVIE', 'RIVRA', 'RNAGE', 'ROAD', 'ROCHC', 'RODEO', 'ROL', 'ROLL', 'ROLLS', 'ROMEO', 'RORO', 'ROTAR', 'ROUTE', 'ROV', 'ROVE', 'ROVER', 'ROVR', 'RPS', 'RR', 'RROV', 'RROVE', 'RTRK', 'RV', 'RYDER', 'SA', 'SAA', 'SAAB', 'SAB', 'SABB', 'SAF', 'SAMB', 'SAT', 'SAT4U', 'SATIN', 'SATN', 'SATR', 'SATU', 'SATUN', 'SATUR', 'SC', 'SC 1', 'SCAMP', 'SCHA', 'SCHBU', 'SCHOO', 'SCI', 'SCIO', 'SCIOM', 'SCION', 'SCIUN', 'SCOIN', 'SCON', 'SE', 'SEA R', 'SEACU', 'SEBLI', 'SEBR', 'SECTI', 'SEDA', 'SEDAN', 'SEFO', 'SELON', 'SEMI', 'SENT', 'SERRA', 'SETR', 'SEVIL', 'SHADO', 'SHELB', 'SHORE', 'SICON', 'SIEN', 'SIENN', 'SIGNA', 'SIL', 'SILV', 'SILVE', 'SINGA', 'SION', 'SKT', 'SLIN', 'SLING', 'SMALL', 'SMAR', 'SMART', 'SMRT', 'SOME', 'SONAT', 'SPART', 'SPCO', 'SPHA', 'SPIDE', 'SPINT', 'SPNR', 'SPRI', 'SPRIN', 'SPYDE', 'STALL', 'STAO', 'STAR', 'STARC', 'STAU', 'STEM', 'STEP', 'STER', 'STERL', 'STL', 'STLG', 'STNT', 'STNTE', 'STO', 'STOA', 'STORM', 'STOU', 'STOUG', 'STOV', 'STR', 'STRA', 'STRAT', 'STREE', 'STRG', 'STRI', 'STRIC', 'STRN', 'STROU', 'STUD', 'STUDE', 'SU', 'SUB', 'SUBA', 'SUBAR', 'SUBU', 'SUBUR', 'SUK', 'SUKI', 'SUNLI', 'SUPER', 'SUPR', 'SUPRE', 'SURE', 'SUSK', 'SUV', 'SUZ', 'SUZI', 'SUZIK', 'SUZK', 'SUZKI', 'SUZU', 'SUZUI', 'SUZUK', 'SUZX', 'SYSCO', 'T4', 'TACO', 'TAGA', 'TAGS', 'TAHOE', 'TAIZ', 'TALON', 'TAO', 'TAOT', 'TAOTA', 'TAXI', 'TE5LR', 'TELS', 'TELSA', 'TEMS', 'TEMSA', 'TERC', 'TERRA', 'TES', 'TESIA', 'TESL', 'TESLA', 'TESLE', 'TESLR', 'TEX', 'TEXAS', 'THIEL', 'THMS', 'THOM', 'THOMA', 'THOR', 'THOS', 'THUND', 'THUR', 'THURS', 'TIBUR', 'TITA', 'TK LO', 'TM', 'TMO', 'TO', 'TODCO', 'TOKIC', 'TOMOS', 'TOP', 'TOP B', 'TOP K', 'TOPHA', 'TORFL', 'TORON', 'TOT', 'TOTY', 'TOUR', 'TOURB', 'TOW', 'TOW T', 'TOWMA', 'TOWN', 'TOY', 'TOYA', 'TOYO', 'TOYOT', 'TOYP', 'TOYT', 'TOYT0', 'TOYTA', 'TOYTD', 'TR', 'TRA', 'TRAC', 'TRACK', 'TRACT', 'TRAI', 'TRAIL', 'TRAIN', 'TRAIT', 'TRAL', 'TRAN', 'TRANS', 'TRASE', 'TRASH', 'TRGB', 'TRIA', 'TRIAL', 'TRIL', 'TRIN', 'TRIP', 'TRIU', 'TRIUM', 'TRK', 'TRL', 'TRL', 'TRL D', 'TRLM', 'TRLR', 'TRU', 'TRUC', 'TRUCK', 'TRUM', 'TRUNK', 'TSM', 'TSMR', 'TSMR', 'TUE1', 'TUES', 'TUON', 'TURT', 'TUSCA', 'TY', 'TYMC', 'TYPH0', 'TYSON', 'TYT', 'U HAU', 'UBFU', 'UD', 'UD', 'UD2', 'UDT', 'UDTK', 'UHAUL', 'UKN', 'UKNK', 'UMNK', 'UN', 'UNFIN', 'UNI', 'UNIT', 'UNITE', 'UNIVE', 'UNK', 'UNKN', 'UNKN7', 'UNKNO', 'UNKNW', 'UNKOW', 'UNKWN', 'UNKWO', 'UNN', 'UPS', 'US', 'US PO', 'USA', 'USCAR', 'USPS', 'UT', 'UTI', 'UTIL', 'UTILI', 'UTILM', 'UTILT', 'UTIMA', 'UTITL', 'UTIUM', 'UTL', 'UTLI', 'UTLIL', 'V W', 'V0LVO', 'VAHD', 'VAHHO', 'VAHO', 'VAN', 'VAN P', 'VANDU', 'VANG', 'VANGU', 'VANH', 'VANHO', 'VANPO', 'VANTT', 'VCTY', 'VEH I', 'VEHI', 'VEHTR', 'VELOS', 'VENIC', 'VENTU', 'VERA', 'VERUC', 'VESPA', 'VH BL', 'VICT', 'VICTO', 'VILLA', 'VIPER', 'VISIB', 'VLK', 'VLV', 'VLW', 'VNHL', 'VNTC', 'VO', 'VOKS', 'VOL', 'VOLC', 'VOLK', 'VOLKS', 'VOLKW', 'VOLO', 'VOLV', 'VOLV4', 'VOLVO', 'VOLW', 'VOV', 'VOVL', 'VOYAG', 'VPG', 'VULCA', 'VV', 'VW', 'VW', 'WA', 'WAB', 'WABA', 'WABAS', 'WAGON', 'WALK', 'WALKE', 'WANC', 'WANDE', 'WARD', 'WASH', 'WBS', 'WED 1', 'WED 8', 'WEST', 'WESTE', 'WHITE', 'WHITI', 'WHTGM', 'WINDC', 'WINDS', 'WINN', 'WINNE', 'WORK', 'WORKH', 'WORKS', 'WORKT', 'WRANG', 'WRKH', 'WS', 'WSTR', 'X L S', 'XL', 'XTERR', 'XX', 'XXX', 'XXXXX', 'YACH', 'YAM', 'YAMA', 'YAMAH', 'YUKON', 'ZERO', 'ZHEJ', 'ZQQ']\n"
     ]
    }
   ],
   "source": [
    "# make all uppercase, remove tralining space\n",
    "make_df.Make = make_df['Make'].str.upper()\n",
    "make_df.Make = make_df['Make'].str.strip()\n",
    "\n",
    "# now handle the full_list first\n",
    "# replace any special characters\n",
    "list_1 =  [m.translate({ord(c): \"\" for c in \"!@#$%^&*()[]{};:,./<>?\\|`~-=_+\"}) for m in full_list]\n",
    "\n",
    "# drop values that doesn't contain any letters\n",
    "import re\n",
    "list_2 = [make for make in list_1 if re.search('[a-zA-Z]', make) != None]\n",
    "print(len(list_2))\n",
    "print(sorted(list_2))"
   ]
  },
  {
   "cell_type": "code",
   "execution_count": 173,
   "metadata": {},
   "outputs": [
    {
     "name": "stdout",
     "output_type": "stream",
     "text": [
      "1557\n",
      "['MAZD', 'ACUR', 'TOYT', 'FORD', 'SUBA', 'NISS', 'HOND', 'HYUN', 'JEEP', 'CHEV', 'TOYOT', 'CHRY', 'KIA', 'BMW', 'LEXS', 'DODG', 'ACURA', 'BUIC', 'RAM', 'MERZ', 'VOLK', 'LEXUS', 'INFI', 'LAND', 'PONT', 'MERC', 'CADI', 'STRN', 'LINC', 'DOD', 'GMC', 'AUDI', 'LEXU', 'CHEVR', 'SUBAR', 'SUZU', 'VOLV', 'HYUND', 'JAQU', 'MAZDA', 'DODGE', 'TOY', 'SATU', 'SAA', 'CHRYS', 'SATR', 'HONDA', 'INFIN', 'FIAT', 'MITS', 'UNK', 'LNDR', 'SUZI', 'YAMA', 'HON', 'MNNI', 'NIS', 'MERCU', 'LAN', 'VOLKS', 'UNKN', 'TOYO', 'OLDS', 'VOLVO', 'NISSA', 'ISUZ', 'BUICK', 'FOR', 'MINI', 'MAZ', 'PLYM', 'SCIO', 'HUMM', 'PORS', 'MASER', 'LINCO', 'CADIL', 'OTH', 'ROV', 'DEALE', 'VCTY', 'CANA', 'INTE', 'MACK', 'NFLY', 'SAAB', 'HYU', 'SATUR', 'JAGU', 'TESL', 'V W', 'KAWA', 'PONTI', 'MOPED', 'MOTOR', 'MITSU', 'MERCE', 'ISU', 'HD', 'VLV', 'OLD', 'CHE', 'SUB', 'LEX', 'CAD', 'INTER', 'FREI', 'TSMR', 'STER', 'STERL', 'SUZK', 'FRHT', 'ALFA', 'SUZUK', 'SCION', 'MASE', 'BUI', 'MB', 'FRD', 'BOAT', 'RANG', 'JEE', 'AUTO', 'TRAI', 'METRO', 'APRI', 'TRUC', 'JAG', 'KENWO', 'CHR', 'LND', 'SUBU', 'SEDA', 'CHEVY', 'FREIG', 'FTL', 'GEO', 'INTL', 'MIT', 'UN', 'NEWF', 'ISUZU', 'PLYMO', 'JEP', 'MITZ', 'TOYA', 'SUZX', 'DAEW', 'KAWAS', 'AUD', 'SAT', 'JAGUA', 'SUZ', 'REGAL', 'OLDSM', 'ACU', 'HONA', 'VW', 'NFUS', 'KIA M', 'VLK', 'HARL', 'IC', 'MAXD', 'VOL', 'EAGL', 'PON', 'MEB', 'HINO', 'LANR', 'PTRB', 'INF', 'HARLE', 'FRIGH', 'NISN', 'HUMME', 'MREC', 'HD', 'M B', 'KAWK', 'KW', 'PETE', 'FLEE', 'OTH90', 'HOMD', 'FAIT', 'TRK', 'OTH01', 'RANDR', 'NEOP', 'BUEL', 'JEPP', 'ACUT', 'TRIU', 'PLY', 'ROVE', 'NEFL', 'ROVR', 'ACUA', 'ISUS', 'OTHR', 'COOP', 'DANZ', 'LNRV', 'RANGE', 'AUROR', 'PETER', 'CHUA', 'KAIT', 'NABI', 'YAMAH', 'EQUA', 'LANDR', 'DUCA', 'TACO', 'TRAIL', 'THOM', 'RANGR', 'FRE', 'DETRL', 'JETTA', 'GREAT', 'AUDIO', 'ISZU', 'VW', 'LINCN', 'COMM', 'WRANG', 'SEBLI', 'GREA', 'UNKNO', 'PORSH', 'UTI', 'SATN', 'FLAT', 'ALTE', 'FORES', 'NWFL', 'TRIA', 'BUS', 'LARO', 'DOUBL', 'WSTR', 'CORVE', 'MINI', 'IAME', 'MIN', 'ROLL', 'TY', 'MER', 'B0AT', 'PONI', 'SMART', 'RIVIE', 'PREVO', 'PORSC', 'RROVE', 'FEDEX', 'FREIT', 'NO PA', 'VAN', 'COMMV', 'BENZ', 'DE TR', 'DETAC', 'PARK', 'MCDNL', 'EAGLE', 'NEON', 'DETCH', 'RV', 'TRUCK', 'NO ST', 'NO EZ', 'DISP', 'WESTE', 'MAIL', 'FRIE', 'KAW', 'FRGT', 'MICK', 'PET', 'TOP B', 'GENES', 'THOMA', 'BULLE', 'STOU', 'MEZ', 'DAEWO', 'UTILI', 'LDV', 'WABA', 'WABAS', 'GDAN', 'WAB', 'MON A', 'TALON', 'WORK', 'XXX', 'TRL', 'STOUG', 'NO PK', 'AMER', 'EGIL', 'GRDA', 'HB', 'AHERN', 'PIN', 'ALL', 'STRI', 'TK LO', 'WBS', 'XX', 'MALIB', 'CHALK', 'LR', 'KOMFO', 'TRIUM', 'VANG', 'BENTL', 'CAR', 'VANHO', 'BENT', 'STEP', 'NO P', 'DEACH', 'HAULM', 'PIAG', 'DETEA', 'BUELL', 'NITS', 'HARLY', 'PEUG', 'TOYTA', 'TMO', 'TOUR', 'COTT', 'DISPL', 'GD', 'SMALL', 'POSTA', 'MARYL', 'DOON', 'NO PE', 'SMRT', 'OBSER', 'HO', 'RROV', 'VIPER', 'BUGGY', 'OTHER', 'WANC', 'SPIDE', 'CHER', 'OSHK', 'MANAC', 'UPS', 'SMAR', 'AROU', 'HMDE', 'WHITE', 'EXPIR', 'HUSQV', 'ZHEJ', 'EXCEE', 'UHAUL', 'HYD', '2HR P', 'CA4', 'BUCK', 'TOTY', 'TRLR', 'NO EM', 'ALLEG', 'GRDN', 'BLOCK', 'COOPE', 'KYMC', 'TELSA', 'LIN', 'POSTE', 'CROWN', 'R ROV', 'GOSH', 'AMC H', 'VLW', 'MAZA', 'TUON', 'MOBIL', 'ALRO', 'DUMPE', 'JAYCO', 'TITA', 'DUMP', 'AMC', 'BB', 'GMV', 'FRUE', 'ABART', 'MB', 'TORFL', 'U HAU', 'COMPL', 'SCHOO', 'CYCLE', 'INTRI', 'TUSCA', 'LA TR', 'QQ', 'SERRA', 'SPRIN', 'PROW', 'OBSTR', 'MOTO', 'EZDUM', 'ROUTE', 'SYSCO', 'MONT', 'JH', 'GRUMM', 'DURAP', 'VISIB', 'FRUEH', 'EXP T', '1HR P', 'SINGA', 'PORCH', 'THUND', 'PST T', '0THER', 'CHLK', 'EVERG', 'CIMC', 'NONE', 'TO', 'BULL', 'TESLA', 'EXP M', 'DANE', 'MINIC', '2 HR', 'TAOTA', 'NOTHI', 'WED 8', 'ALERO', 'PST N', 'GT', 'MURRA', 'VICTO', 'USPS', 'BROKE', 'PARKE', 'TRACK', 'ASK C', 'TRACT', 'MASTE', 'TUES', 'IN3', 'BACK', 'H0NDA', 'LINVO', 'MERCY', 'TRAC', 'VESPA', 'PEACE', 'CLAS', 'KYMCO', 'OTHE', 'STRG', 'CIVI', 'LEGAC', 'VAHO', 'VNTC', 'CORV', 'HEIL', 'Hyund', 'BLUE', 'SOME', 'VPG', 'CIM', 'NEW F', 'THOR', 'RORO', 'BARB', 'PIER', 'AUTC', 'WORKH', 'MAC', 'WEST', 'MCI', 'STLG', 'ICBU', 'STAR', 'BUIK', 'FLIN', 'TURT', 'MG', 'UTL', 'GTD', 'PACE', 'TRA', 'LOKI', 'EAS', 'TRIP', 'UD', 'HEI', 'INT', 'FON', 'G D', 'LARV', 'KENW', 'EAST', 'MAJE', 'SKT', 'MC', 'REITN', 'ESMC', 'IC CO', 'L R', 'PREO', 'FISK', 'ASTO', 'FRT', 'BMW', 'RECO', 'TRAN', 'MCIN', 'MAS', 'PTB', 'VNHL', 'MAC T', 'SETR', 'UDT', 'GDT', 'ORIO', 'UTIL', 'TRLM', 'STR', 'BEN', 'POLAR', 'PINE', 'GALBR', 'TAGS', 'CURR', 'MD', 'MINC', 'X L S', 'NDMC', 'PIRC', 'PREV', 'VANH', 'MARK', 'POLA', 'DOGD', 'HIND', 'JAGR', 'FLOR', 'EZ DU', 'PERL', 'VOVL', 'HONS', 'VOLO', 'TAGA', 'MAYB', 'FACE', 'SUPR', 'GRTD', 'GMAC', 'CAN', 'CADO', 'TRGB', 'STEM', 'KEN', 'AJAX', 'WALKE', 'MNIB', 'FONT', 'AVANT', 'GIND', 'UTLI', 'UD', 'ROAD', 'BLBI', 'LR', 'KENT', 'GRAT', 'DATS', 'MERB', 'WALK', 'CARRI', 'BAR B', 'ASM', 'FORV', 'STAO', 'DIAMO', 'FRH', 'LNRO', 'MITI', 'HYTR', 'JMH', 'CHYR', 'OUTL', 'SCI', 'EAG', 'BUDD', 'PROVI', 'TOP', 'GEORG', 'REIT', 'GMC', 'BUT', 'UD2', 'LDRO', 'DACO', 'LE E', 'CARR', 'STNTE', 'MONN', 'KENS', 'ADV', 'SPNR', 'BOYD', 'JINDO', 'MIST', 'STO', 'FERR', 'RESER', 'EXPED', 'ARAMA', 'PSTD', 'ABFT', 'THURS', 'TE5LR', 'BRP', 'OTHEH', 'MTS', 'IMPED', 'NO S', 'COLEM', 'WINNE', 'ZQQ', 'RIVER', 'PENSK', 'CTMPL', 'PST C', 'DAIH', 'BLKIN', 'METER', 'GEM', 'GRIEC', 'CROSS', 'HOLRA', 'JAQ', 'DUCAT', 'BIKE', 'LULL', 'DAE', 'LANCE', 'GRAY', 'LONE', 'RYDER', 'AC', 'ENTER', 'FORD1', 'HHOND', '8A 9A', 'GENE', 'C AND', 'CAB', 'LOTUS', 'WINDC', 'HY', 'SPYDE', 'NO 3', 'PST B', 'SUKI', 'TRASH', 'JLG', 'XTERR', 'FED E', 'BOULE', 'NISSN', 'ITILI', 'MOTOC', 'EQUUS', 'CENTU', 'BIG T', 'KURB', '5MO', 'FORD3', 'HH', 'TOW', 'KURBM', 'SCOIN', 'AMERI', 'RAAIL', 'ASTON', 'TIBUR', 'CS 8', 'BLUEB', 'COVET', 'ROL', 'LLBEL', 'GRTDN', 'PICKU', 'APRIL', 'UNKNW', 'VEH I', 'FUSO', 'RIVEA', 'CURRA', 'ORV', 'IMPE', '3HR P', 'XL', 'SEMI', 'ECONO', 'HEAD', 'GAUMM', 'MP', 'ARO', 'SLING', 'WED 1', 'ERC', 'VENIC', 'MOPAD', 'NOSEC', 'NI', 'DRIVE', 'COMME', 'SHADO', 'MID', 'INTRN', 'CENTR', 'GM', 'STARC', 'TRL', 'MERKU', 'MEHAR', 'ALUMA', 'MITO', 'SEACU', 'TRANS', 'NO TA', 'IN', 'LOADR', 'DART', 'ANY', 'GENIS', 'SCAMP', 'NISS4', 'C AN', 'FRIDA', 'LANC', 'FLEET', 'SECTI', 'SLIN', 'FISKE', 'PARKI', 'CHEET', 'NV', 'PK BL', 'BLOC', 'BMV', 'BUS L', 'MEC', 'SU', 'LAMBO', 'CAMPE', 'WHTGM', 'SPART', 'PK IN', 'MON8', 'FRONT', 'GRN', 'CARMA', 'AENZ', 'V0LVO', 'ANVIL', 'LARK', 'N', 'UTIMA', 'FOR3', 'BLUBR', 'LOTU', 'HUDSO', 'GRTDA', 'HR', 'DHL', 'TOMOS', 'RODEO', 'FTR', 'INTR', 'ECLIP', 'ALTEZ', 'TEX', 'LEE', 'GMT', 'IMPRO', 'AB', 'DO', 'VV', 'MECUR', 'HOMES', 'N PK', 'UTILM', 'CONT', 'BROD', 'WARD', 'RIV', 'MAZEA', 'FRGLN', 'CAM', 'VENTU', 'POR', 'AVAN', 'TOW T', 'RAND', 'UNKN7', 'LE4', 'LAVDI', 'CHAE', 'UNI', 'APPAL', 'SILV', 'GRAN', 'PASS', 'MASRA', 'ACURD', 'KFAU', 'MORG', 'VO', 'FEX', 'CARGO', 'AUOR', 'CAY', 'HYBIR', 'PST W', 'DAMON', 'JIFFY', 'HOME', 'MISSI', 'BUIZ7', 'DATSU', 'FOODC', 'FONTA', 'ME', 'SABB', 'HALE', 'SUV', 'GRUMA', 'BAYLI', 'MAERS', 'LE', 'KAUFM', 'DETAT', 'SAB', 'MON 8', 'MONDA', 'DETC', 'DOWN', 'ROLLS', 'VOV', 'FF', 'KENWR', 'DUTCH', 'JEEPS', '10 MI', 'WAGON', 'CAI', 'DOJ', 'LANRO', 'VAHHO', 'MAILT', 'FOREI', 'TOWMA', 'DROVE', 'NO PR', 'FALCO', 'HEN', 'VANTT', 'COACH', 'PST P', 'FERRA', 'TESLE', 'NEWHA', 'JOHN', 'CHEVS', 'ALLIE', 'BMW 7', 'CAPIT', 'ROVER', 'ITAS', 'MAILC', 'LDRV', 'GMC S', 'JE', 'FOLD', 'CAR M', 'FOURW', 'EXP 4', 'LCON', 'BMX', 'LEONA', 'GMC U', 'CS 1', 'AMGN', 'CS 2', 'TAIZ', 'EAGR', 'VANPO', 'GENER', 'TRUM', 'MV', 'BUP', 'CS 7', 'TOYP', 'HORT', 'FLAGS', 'KIA', 'INTEL', 'CHEVV', 'STUDE', 'BUCI', 'GMC ', 'CHE2V', 'MADZ', 'FRGHT', 'ALINE', 'SUSK', 'EXP E', 'TM', 'DORO', 'CHRT', 'TSM', 'MIFU', 'LUF', 'WA', 'A', 'PKED', 'GNC', 'BUS S', 'MON 1', 'PTS', 'FRTL', 'LANDS', 'PERKI', 'ARNOL', 'VOYAG', 'CAMP', 'BREN', 'PK OF', 'TEMS', 'DYNAS', 'JEDA', 'PK RE', 'POL', 'BWW', 'VULCA', 'Marke', 'FLTWD', 'QUEST', 'QIPA', 'NISA', 'ASANT', 'DIAM', 'WRKH', 'DETAI', 'WINN', 'GALAN', 'HYN', 'NOT', 'ROMEO', 'FOWI', 'MIN C', 'MICKE', 'TELS', 'INIF', 'MALI', 'CARRY', 'AERO', 'F', 'DAYTO', 'ADVA', 'UDTK', 'SC 1', 'TORON', 'RPS', 'TAHOE', 'GILL', 'DELIV', 'FSKR', 'WANDE', 'THUR', 'BM', 'BLUET', 'JAQUA', 'GOCAR', 'SPRI', 'WHITI', 'GOLD', 'RTRK', 'FIES', 'RANAE', 'MNI', 'TESIA', 'STUD', 'LEZU', 'TOYT0', 'IZUZ', 'AREA', 'LNC', 'MUSTA', 'COUPE', 'MUMME', 'DOGE', 'AUOI', 'BRODY', 'TRL D', 'WASH', 'SELON', 'ION', 'SUZIK', 'SICON', 'LINCL', 'UNKOW', 'CUBE', 'ACR', 'SAMB', 'NO MO', 'C4HEV', 'F0RD', 'TRASE', 'CINTA', 'TRUNK', 'JENS', 'FRIEG', 'WORKT', 'AUUR', 'THMS', 'SUZKI', 'EZ PA', 'NOT V', 'BLU', 'CHEVE', 'STRAT', 'CTN', 'AYDI', 'LENOL', 'TYMC', '0BSTR', 'SAF', 'RR', 'JUIL', 'RAV4', 'AL', 'UKN', 'SATIN', 'UTITL', 'LESAB', 'MTR C', 'NEW', 'HAR', 'FIA', 'GALAC', 'SHELB', 'IMPRE', 'ICRP', 'PEPSI', 'FO', 'THOS', 'GOLDW', 'HIN', 'ICC', 'TUE1', 'NINO', 'MCK', 'BUIX', 'BLUB', 'STL', 'GLADI', 'GNESI', 'HYND', 'NEWH', 'TES', 'YAM', 'CHY', 'KTM', 'SUPER', 'SPINT', 'JP', 'MINI', 'DETAA', 'HT', 'GONDA', 'TR', 'SCIUN', 'UKNK', 'RB', 'UTIUM', 'FERI', 'FRIEQ', 'BWI', 'HITC', 'ELDO', 'SEDAN', 'HOLID', 'BRIMA', 'CAYEN', 'UNKWO', 'DARCA', 'ROCHC', 'FED', 'UTILT', 'JAUDI', 'BOUND', 'LORI', 'VANDU', 'ACCOR', 'CS 9', 'KABMA', 'LEIK', 'ABF', 'MASAR', 'INFN', 'MAXON', 'SEA R', 'SE', 'FIT C', 'AAU', 'RAN', 'JMST', 'PORC', 'TYPH0', 'VOLKW', 'CIDI', 'VERUC', 'PICK', 'VANGU', 'HAUI', 'SCON', 'AMBUL', 'NO CA', 'DSP E', 'GENU', 'MINIV', 'VH BL', 'GILG', 'KI', 'HN', 'VAN P', 'ISZ', 'ALF', 'UNITE', 'DBL P', 'HODNA', 'CORBI', '4FORD', 'CS 4', 'LEUX', 'HUSQ', 'RED', 'GABB', 'TOWN', 'VEHI', 'HND', 'FRLI', 'UNIT', 'CORO', 'BOX', '4HYUN', 'BMW ', 'EASTE', 'CAN A', 'TSMR', 'APPA', '4TH W', 'HUD', 'LADR', 'VILLA', 'CHVY', 'RANRO', 'SUZUI', 'SIGNA', 'CHARG', 'CARM', 'STALL', 'LINC0', 'STOV', 'CAYM', 'SCHBU', 'MINCO', 'OTH00', 'KAWI', 'FUSI', 'ESCA', 'HARD', 'SILVE', 'ELAN', 'SONAT', 'PTBR', 'KUN', 'MAX', 'JAMBO', 'AV', 'AU', 'PB', 'FJJ', 'PRIUS', 'ALTI', 'ALTOM', 'TRIN', 'UNN', 'BRONC', 'PASAT', 'INC', 'OYH', 'SENT', 'VERA', 'INTA', 'OTHW', 'MAXDA', 'MAZAD', 'SEFO', 'LIC', 'RANDG', 'TRAIN', 'LXU', 'LDXU', 'OTH02', 'PORG', 'MUST', 'KIA02', 'COPPE', 'AVALO', 'BOXST', 'GRAND', 'COCA', 'SPHA', 'TRIL', 'OTJ', 'GENSI', 'LINCE', 'SCIOM', 'DEVIL', 'IMPAL', 'FEDX', 'CELIC', 'TERRA', 'IEUZ', 'MAZD0', 'ALTIM', 'FRL', 'KYMCA', 'SIENN', 'WINDS', 'TEXAS', 'TYSON', 'LEXY', 'FEDE', 'OYT', 'LEXI', 'OSHKO', 'EXPR', 'AGUS', 'BOXTR', 'COM', 'TODCO', 'GMCL', 'PALOM', 'PATRI', 'DISCO', 'HARI', 'STRIC', 'DORSE', 'PRK I', 'NO AC', 'EXC 2', 'PORT', 'HOLLA', 'PRELU', 'IZUZU', 'PHILB', 'CHALL', 'SA', 'ACADE', 'INTEG', 'SHORE', 'US PO', 'SURE', 'KING', 'CAN C', 'UNKWN', 'SUBUR', 'EAGE', 'LINC3', 'UMNK', 'GREEN', 'BOATT', 'CAPRI', 'SION', 'AZTEK', 'SC', 'EES05', 'MIDGE', 'OO', 'CRYS', 'HITCH', 'LROVE', 'LOWE', 'HUMM2', 'SAT4U', 'XXXXX', 'KENTU', 'MCT', 'LINK', 'OPEL', 'DURA', 'NATIO', 'YUKON', 'MICOO', 'NOT A', 'CHYRS', 'DAEW0', 'ABFTR', 'SUPRE', 'FJR', 'TAXI', 'BRI M', 'MEZR', 'MON 7', 'KORD', 'LESS', 'CHAMP', 'VELOS', 'MSC', 'VOLW', 'CITAT', 'DIXIE', 'CONCO', 'ENTEG', 'HOMDA', 'IMPER', 'FBI12', 'FLATB', 'VEHTR', 'DET T', 'HPAMO', 'UTLIL', 'ADJ C', 'CREIG', 'GIVI', 'ADMIR', 'MAZY', 'WS', 'SATUN', 'HYUN4', 'COMTR', 'DAWOO', 'STREE', 'TESLR', 'LLLLL', 'EAGEL', 'YACH', 'EZPAS', 'STROU', 'THIEL', 'FREVO', 'CUTLA', 'STORM', 'AROUR', 'GO', 'UNIVE', 'DE', 'DTRL', 'FLBED', 'INTEN', 'PINES', 'JERRD', 'SIL', 'TRU', 'RENA', 'BECK', 'USCAR', 'KWSKI', 'MERZ4', 'MAXUM', 'NECON', 'BLBRD', 'DTCH', 'AMIGO', 'OADRI', 'BURGM', 'FRIEN', 'VOLV4', 'RIVE', 'KSAKI', 'MEZC', 'RIVRA', 'MSCU', 'FABRQ', 'COLT', 'MERZB', 'WORKS', 'HUMMR', 'COM', 'ROTAR', 'GG', 'COMV', '0LDS', 'TOKIC', 'BMN', 'LIMO', 'MCYCL', 'CONTL', 'ASHTO', 'PTRBL', 'NSCSA', 'UT', 'LONG', 'ME4', 'TRAIT', 'SUK', 'ACON', 'LEG', 'LOADE', 'EZ', 'JIFF', 'NABOR', 'TRAL', 'MAZD7', 'TOPHA', 'TOP K', 'ICON', 'AUR', 'AURO', 'RANGW', 'CAMAR', 'RNAGE', 'DIPLO', 'UNFIN', 'US', 'BARTH', 'REG', 'LANDO', 'KENA', 'CONTR', 'KIAD', 'TRIAL', 'TOURB', 'UBFU', 'CUTL', 'STRA', 'HERC', 'HANA', 'CAMR', 'MAGU', 'SCHA', 'EXP', 'MBW', 'LATR', 'PAES', 'SEBR', 'TOYTD', 'CORN', 'DAG', 'MAXIN', 'MAXI', 'LTD', 'CONC', 'ACCO', 'NORTH', 'BOOT', 'PLUT', 'TERC', 'FOCU', 'METR', 'REGA', 'LEGE', 'CON', 'PERO', 'AUID', 'SEVIL', 'FREE', 'MERK', 'ENVO', 'VAHD', 'TYT', 'OOOOO', 'LACAR', 'GALAX', 'MERG', 'JETT', 'JAQUR', 'HUM', 'STOA', 'SIEN', 'LEXSU', 'COBR', 'BRMR', 'MGS', 'RAMB', 'DMW', 'VOLC', 'KARI', 'MBZ', 'AUC', 'BRAM', 'MEBZ', 'RAMS', 'CADL', 'K T M', 'BOMBA', 'SPCO', 'FAST', 'FOSTE', 'FARB', 'OUTBA', 'FORS', 'OPTI', 'USA', 'BENDR', 'INTN', 'HACKN', 'SUNLI', 'MIF', 'FRIEH', 'PETR', 'CRYE', 'FFORD', 'VICT', 'MAULM', 'TOT', 'PBLT', 'D', 'LADA', 'NO VA', 'POLS', 'LAMO', 'KIV', 'TEMSA', 'VOKS', 'TAOT', 'CAT', 'GLAV', 'HODA', 'STNT', 'MERRI', 'DIRE', 'BAOD', 'STAU', 'PN', 'TAO', 'AMGE', 'ZERO', 'JONW', 'INDI']\n"
     ]
    }
   ],
   "source": [
    "# remove anything that contains 2 or more numbers\n",
    "list_3 = [s for s in list_2 if (sum(c.isdigit() for c in s)/len(s))<0.5]\n",
    "print(len(list_3))\n",
    "print(list_3)"
   ]
  },
  {
   "cell_type": "code",
   "execution_count": null,
   "metadata": {},
   "outputs": [],
   "source": []
  }
 ],
 "metadata": {
  "kernelspec": {
   "display_name": "incubator-64",
   "language": "python",
   "name": "incubator-64"
  },
  "language_info": {
   "codemirror_mode": {
    "name": "ipython",
    "version": 3
   },
   "file_extension": ".py",
   "mimetype": "text/x-python",
   "name": "python",
   "nbconvert_exporter": "python",
   "pygments_lexer": "ipython3",
   "version": "3.7.4"
  }
 },
 "nbformat": 4,
 "nbformat_minor": 2
}
