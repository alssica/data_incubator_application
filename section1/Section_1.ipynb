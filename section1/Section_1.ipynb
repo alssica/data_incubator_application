{
 "cells": [
  {
   "cell_type": "markdown",
   "metadata": {},
   "source": [
    "# Section 1\n",
    "The City of Baltimore maintains a database of parking citations issued within the city. More information about the dataset can be found here. You can download the dataset as a CSV file here. Unless stated otherwise, you should only consider citations written before January 1, 2019."
   ]
  },
  {
   "cell_type": "markdown",
   "metadata": {},
   "source": [
    "### Data cleaning and prep"
   ]
  },
  {
   "cell_type": "code",
   "execution_count": 69,
   "metadata": {},
   "outputs": [],
   "source": [
    "import pandas as pd\n",
    "import numpy as np\n",
    "from datetime import datetime"
   ]
  },
  {
   "cell_type": "code",
   "execution_count": 70,
   "metadata": {},
   "outputs": [
    {
     "data": {
      "text/html": [
       "<div>\n",
       "<style scoped>\n",
       "    .dataframe tbody tr th:only-of-type {\n",
       "        vertical-align: middle;\n",
       "    }\n",
       "\n",
       "    .dataframe tbody tr th {\n",
       "        vertical-align: top;\n",
       "    }\n",
       "\n",
       "    .dataframe thead th {\n",
       "        text-align: right;\n",
       "    }\n",
       "</style>\n",
       "<table border=\"1\" class=\"dataframe\">\n",
       "  <thead>\n",
       "    <tr style=\"text-align: right;\">\n",
       "      <th></th>\n",
       "      <th>Citation</th>\n",
       "      <th>Make</th>\n",
       "      <th>ViolFine</th>\n",
       "      <th>ViolDate</th>\n",
       "      <th>OpenPenalty</th>\n",
       "      <th>PoliceDistrict</th>\n",
       "    </tr>\n",
       "  </thead>\n",
       "  <tbody>\n",
       "    <tr>\n",
       "      <th>0</th>\n",
       "      <td>82691651</td>\n",
       "      <td>MAZD</td>\n",
       "      <td>40.0</td>\n",
       "      <td>04/12/2018 05:36:00 PM</td>\n",
       "      <td>0.0</td>\n",
       "      <td>NaN</td>\n",
       "    </tr>\n",
       "    <tr>\n",
       "      <th>1</th>\n",
       "      <td>85937226</td>\n",
       "      <td>ACUR</td>\n",
       "      <td>40.0</td>\n",
       "      <td>12/20/2018 12:09:00 PM</td>\n",
       "      <td>0.0</td>\n",
       "      <td>NaN</td>\n",
       "    </tr>\n",
       "    <tr>\n",
       "      <th>2</th>\n",
       "      <td>82691115</td>\n",
       "      <td>TOYT</td>\n",
       "      <td>40.0</td>\n",
       "      <td>04/12/2018 05:14:00 PM</td>\n",
       "      <td>0.0</td>\n",
       "      <td>NaN</td>\n",
       "    </tr>\n",
       "    <tr>\n",
       "      <th>3</th>\n",
       "      <td>82694689</td>\n",
       "      <td>FORD</td>\n",
       "      <td>40.0</td>\n",
       "      <td>04/12/2018 07:14:00 PM</td>\n",
       "      <td>0.0</td>\n",
       "      <td>NaN</td>\n",
       "    </tr>\n",
       "    <tr>\n",
       "      <th>4</th>\n",
       "      <td>82691214</td>\n",
       "      <td>SUBA</td>\n",
       "      <td>40.0</td>\n",
       "      <td>04/12/2018 05:20:00 PM</td>\n",
       "      <td>0.0</td>\n",
       "      <td>NaN</td>\n",
       "    </tr>\n",
       "  </tbody>\n",
       "</table>\n",
       "</div>"
      ],
      "text/plain": [
       "   Citation  Make  ViolFine                ViolDate  OpenPenalty  \\\n",
       "0  82691651  MAZD      40.0  04/12/2018 05:36:00 PM          0.0   \n",
       "1  85937226  ACUR      40.0  12/20/2018 12:09:00 PM          0.0   \n",
       "2  82691115  TOYT      40.0  04/12/2018 05:14:00 PM          0.0   \n",
       "3  82694689  FORD      40.0  04/12/2018 07:14:00 PM          0.0   \n",
       "4  82691214  SUBA      40.0  04/12/2018 05:20:00 PM          0.0   \n",
       "\n",
       "  PoliceDistrict  \n",
       "0            NaN  \n",
       "1            NaN  \n",
       "2            NaN  \n",
       "3            NaN  \n",
       "4            NaN  "
      ]
     },
     "execution_count": 70,
     "metadata": {},
     "output_type": "execute_result"
    }
   ],
   "source": [
    "# initial read of file, forcing dtypes\n",
    "data = 'Parking_Citations.csv'\n",
    "cols_keep = ['Citation', 'Make', 'ViolFine', 'ViolDate','OpenPenalty', 'PoliceDistrict']\n",
    "cols_types = ['int64', 'str', 'float64', 'str', 'float64', 'str']\n",
    "df = pd.read_csv(data, usecols=cols_keep, dtype=dict(zip(cols_keep, cols_types)))\n",
    "# df = pd.read_csv(data, usecols=cols_keep, dtype=dict(zip(cols_keep, cols_types)), parse_dates=['ViolDate'])\n",
    "df.head()"
   ]
  },
  {
   "cell_type": "code",
   "execution_count": 71,
   "metadata": {},
   "outputs": [
    {
     "data": {
      "text/plain": [
       "Citation                   int64\n",
       "Make                      object\n",
       "ViolFine                 float64\n",
       "ViolDate          datetime64[ns]\n",
       "OpenPenalty              float64\n",
       "PoliceDistrict            object\n",
       "dtype: object"
      ]
     },
     "execution_count": 71,
     "metadata": {},
     "output_type": "execute_result"
    }
   ],
   "source": [
    "# converting ViolDate column into python date time\n",
    "df.ViolDate = pd.to_datetime(df.ViolDate, format='%m/%d/%Y %I:%M:%S %p', infer_datetime_format=True)\n",
    "df.dtypes"
   ]
  },
  {
   "cell_type": "markdown",
   "metadata": {},
   "source": [
    "### Q1. For all citations, what is the mean violation fine?"
   ]
  },
  {
   "cell_type": "code",
   "execution_count": 72,
   "metadata": {},
   "outputs": [
    {
     "name": "stdout",
     "output_type": "stream",
     "text": [
      "49.8959492313\n"
     ]
    }
   ],
   "source": [
    "mean_vio_fine = df.ViolFine.mean()\n",
    "print(round(mean_vio_fine,10))"
   ]
  },
  {
   "cell_type": "markdown",
   "metadata": {},
   "source": [
    "### Q2. Find the police district that has the highest mean violation fine. What is that mean violation fine? Keep in mind that Baltimore is divided into nine police districts, so clean the data accordingly."
   ]
  },
  {
   "cell_type": "code",
   "execution_count": 73,
   "metadata": {},
   "outputs": [
    {
     "name": "stdout",
     "output_type": "stream",
     "text": [
      "[nan 'Eastern' 'Western' 'Northern' 'Central' 'Southeastern' 'Notheastern'\n",
      " 'Northwestern' 'NORTHERN' 'Southern' 'SOUTHERN' 'Southwestern'\n",
      " 'SOUTHWESTERN' 'SOUTHEASTERN' 'CENTRAL' 'WESTERN' 'EASTERN'\n",
      " 'NORTHWESTERN' 'NORTHEASTERN']\n"
     ]
    }
   ],
   "source": [
    "# find unique values in district column:\n",
    "districts = df.PoliceDistrict.unique()\n",
    "print(districts)"
   ]
  },
  {
   "cell_type": "code",
   "execution_count": 74,
   "metadata": {},
   "outputs": [],
   "source": [
    "# replace 'Notheastern' with 'Northeastern'\n",
    "df.PoliceDistrict = df.PoliceDistrict.replace('Notheastern', 'NORTHEASTERN')"
   ]
  },
  {
   "cell_type": "code",
   "execution_count": 75,
   "metadata": {},
   "outputs": [
    {
     "data": {
      "text/html": [
       "<div>\n",
       "<style scoped>\n",
       "    .dataframe tbody tr th:only-of-type {\n",
       "        vertical-align: middle;\n",
       "    }\n",
       "\n",
       "    .dataframe tbody tr th {\n",
       "        vertical-align: top;\n",
       "    }\n",
       "\n",
       "    .dataframe thead th {\n",
       "        text-align: right;\n",
       "    }\n",
       "</style>\n",
       "<table border=\"1\" class=\"dataframe\">\n",
       "  <thead>\n",
       "    <tr style=\"text-align: right;\">\n",
       "      <th></th>\n",
       "      <th>Citation</th>\n",
       "      <th>ViolFine</th>\n",
       "      <th>OpenPenalty</th>\n",
       "    </tr>\n",
       "    <tr>\n",
       "      <th>PoliceDistrict</th>\n",
       "      <th></th>\n",
       "      <th></th>\n",
       "      <th></th>\n",
       "    </tr>\n",
       "  </thead>\n",
       "  <tbody>\n",
       "    <tr>\n",
       "      <th>central</th>\n",
       "      <td>7.3842492001e+07</td>\n",
       "      <td>44.8028723651</td>\n",
       "      <td>38.5895606517</td>\n",
       "    </tr>\n",
       "    <tr>\n",
       "      <th>northern</th>\n",
       "      <td>7.6267226602e+07</td>\n",
       "      <td>48.1452263091</td>\n",
       "      <td>32.2822440838</td>\n",
       "    </tr>\n",
       "    <tr>\n",
       "      <th>southeastern</th>\n",
       "      <td>7.4997810382e+07</td>\n",
       "      <td>48.7509418860</td>\n",
       "      <td>28.7512592981</td>\n",
       "    </tr>\n",
       "    <tr>\n",
       "      <th>eastern</th>\n",
       "      <td>7.4697449202e+07</td>\n",
       "      <td>50.8005944339</td>\n",
       "      <td>64.4070971809</td>\n",
       "    </tr>\n",
       "    <tr>\n",
       "      <th>western</th>\n",
       "      <td>7.2524726431e+07</td>\n",
       "      <td>53.4737451941</td>\n",
       "      <td>67.4415652815</td>\n",
       "    </tr>\n",
       "    <tr>\n",
       "      <th>southern</th>\n",
       "      <td>7.7515468806e+07</td>\n",
       "      <td>54.3874258100</td>\n",
       "      <td>30.1075633250</td>\n",
       "    </tr>\n",
       "    <tr>\n",
       "      <th>southwestern</th>\n",
       "      <td>7.2115918031e+07</td>\n",
       "      <td>58.2980085349</td>\n",
       "      <td>56.8853129445</td>\n",
       "    </tr>\n",
       "    <tr>\n",
       "      <th>northwestern</th>\n",
       "      <td>7.0819505604e+07</td>\n",
       "      <td>59.7556851742</td>\n",
       "      <td>57.0510189014</td>\n",
       "    </tr>\n",
       "    <tr>\n",
       "      <th>northeastern</th>\n",
       "      <td>7.3509503138e+07</td>\n",
       "      <td>61.3523935667</td>\n",
       "      <td>48.3817218543</td>\n",
       "    </tr>\n",
       "  </tbody>\n",
       "</table>\n",
       "</div>"
      ],
      "text/plain": [
       "                        Citation       ViolFine    OpenPenalty\n",
       "PoliceDistrict                                                \n",
       "central         7.3842492001e+07  44.8028723651  38.5895606517\n",
       "northern        7.6267226602e+07  48.1452263091  32.2822440838\n",
       "southeastern    7.4997810382e+07  48.7509418860  28.7512592981\n",
       "eastern         7.4697449202e+07  50.8005944339  64.4070971809\n",
       "western         7.2524726431e+07  53.4737451941  67.4415652815\n",
       "southern        7.7515468806e+07  54.3874258100  30.1075633250\n",
       "southwestern    7.2115918031e+07  58.2980085349  56.8853129445\n",
       "northwestern    7.0819505604e+07  59.7556851742  57.0510189014\n",
       "northeastern    7.3509503138e+07  61.3523935667  48.3817218543"
      ]
     },
     "execution_count": 75,
     "metadata": {},
     "output_type": "execute_result"
    }
   ],
   "source": [
    "# group df by lowercased district name and find mean violation find\n",
    "pd.set_option('display.precision',10)\n",
    "dist_gp = df.groupby(df['PoliceDistrict'].str.lower())\n",
    "dist_gp.mean().sort_values(by=['ViolFine'])"
   ]
  },
  {
   "cell_type": "markdown",
   "metadata": {},
   "source": [
    "### Q3. First, find the total number of citations given in each year between 2004 and 2014 (inclusive). Next, using linear regression, create a function that plots the total number of citations as a function of the year. If you were to plot a line using this function, what would be the slope of that line?"
   ]
  },
  {
   "cell_type": "code",
   "execution_count": null,
   "metadata": {},
   "outputs": [],
   "source": []
  }
 ],
 "metadata": {
  "kernelspec": {
   "display_name": "incubator-64",
   "language": "python",
   "name": "incubator-64"
  },
  "language_info": {
   "codemirror_mode": {
    "name": "ipython",
    "version": 3
   },
   "file_extension": ".py",
   "mimetype": "text/x-python",
   "name": "python",
   "nbconvert_exporter": "python",
   "pygments_lexer": "ipython3",
   "version": "3.7.4"
  }
 },
 "nbformat": 4,
 "nbformat_minor": 2
}
