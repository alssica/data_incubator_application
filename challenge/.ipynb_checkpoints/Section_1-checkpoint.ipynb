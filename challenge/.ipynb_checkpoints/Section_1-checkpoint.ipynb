{
 "cells": [
  {
   "cell_type": "markdown",
   "metadata": {},
   "source": [
    "# Section 1\n",
    "The City of Baltimore maintains a database of parking citations issued within the city. More information about the dataset can be found here. You can download the dataset as a CSV file here. Unless stated otherwise, you should only consider citations written before January 1, 2019."
   ]
  },
  {
   "cell_type": "markdown",
   "metadata": {},
   "source": [
    "### Data cleaning and prep"
   ]
  },
  {
   "cell_type": "code",
   "execution_count": 27,
   "metadata": {},
   "outputs": [],
   "source": [
    "import pandas as pd\n",
    "import numpy as np\n",
    "import matplotlib.pyplot as plt\n",
    "from sklearn.linear_model import LinearRegression\n",
    "import fuzzywuzzy\n",
    "from fuzzywuzzy import process"
   ]
  },
  {
   "cell_type": "markdown",
   "metadata": {},
   "source": [
    "#### initial read of file, drop unneccessary columns"
   ]
  },
  {
   "cell_type": "code",
   "execution_count": 28,
   "metadata": {},
   "outputs": [
    {
     "data": {
      "text/html": [
       "<div>\n",
       "<style scoped>\n",
       "    .dataframe tbody tr th:only-of-type {\n",
       "        vertical-align: middle;\n",
       "    }\n",
       "\n",
       "    .dataframe tbody tr th {\n",
       "        vertical-align: top;\n",
       "    }\n",
       "\n",
       "    .dataframe thead th {\n",
       "        text-align: right;\n",
       "    }\n",
       "</style>\n",
       "<table border=\"1\" class=\"dataframe\">\n",
       "  <thead>\n",
       "    <tr style=\"text-align: right;\">\n",
       "      <th></th>\n",
       "      <th>Citation</th>\n",
       "      <th>Make</th>\n",
       "      <th>ViolFine</th>\n",
       "      <th>ViolDate</th>\n",
       "      <th>OpenPenalty</th>\n",
       "      <th>PoliceDistrict</th>\n",
       "    </tr>\n",
       "  </thead>\n",
       "  <tbody>\n",
       "    <tr>\n",
       "      <th>0</th>\n",
       "      <td>82691651</td>\n",
       "      <td>MAZD</td>\n",
       "      <td>40.0</td>\n",
       "      <td>04/12/2018 05:36:00 PM</td>\n",
       "      <td>0.0</td>\n",
       "      <td>NaN</td>\n",
       "    </tr>\n",
       "    <tr>\n",
       "      <th>1</th>\n",
       "      <td>85937226</td>\n",
       "      <td>ACUR</td>\n",
       "      <td>40.0</td>\n",
       "      <td>12/20/2018 12:09:00 PM</td>\n",
       "      <td>0.0</td>\n",
       "      <td>NaN</td>\n",
       "    </tr>\n",
       "    <tr>\n",
       "      <th>2</th>\n",
       "      <td>82691115</td>\n",
       "      <td>TOYT</td>\n",
       "      <td>40.0</td>\n",
       "      <td>04/12/2018 05:14:00 PM</td>\n",
       "      <td>0.0</td>\n",
       "      <td>NaN</td>\n",
       "    </tr>\n",
       "    <tr>\n",
       "      <th>3</th>\n",
       "      <td>82694689</td>\n",
       "      <td>FORD</td>\n",
       "      <td>40.0</td>\n",
       "      <td>04/12/2018 07:14:00 PM</td>\n",
       "      <td>0.0</td>\n",
       "      <td>NaN</td>\n",
       "    </tr>\n",
       "    <tr>\n",
       "      <th>4</th>\n",
       "      <td>82691214</td>\n",
       "      <td>SUBA</td>\n",
       "      <td>40.0</td>\n",
       "      <td>04/12/2018 05:20:00 PM</td>\n",
       "      <td>0.0</td>\n",
       "      <td>NaN</td>\n",
       "    </tr>\n",
       "  </tbody>\n",
       "</table>\n",
       "</div>"
      ],
      "text/plain": [
       "   Citation  Make  ViolFine                ViolDate  OpenPenalty  \\\n",
       "0  82691651  MAZD      40.0  04/12/2018 05:36:00 PM          0.0   \n",
       "1  85937226  ACUR      40.0  12/20/2018 12:09:00 PM          0.0   \n",
       "2  82691115  TOYT      40.0  04/12/2018 05:14:00 PM          0.0   \n",
       "3  82694689  FORD      40.0  04/12/2018 07:14:00 PM          0.0   \n",
       "4  82691214  SUBA      40.0  04/12/2018 05:20:00 PM          0.0   \n",
       "\n",
       "  PoliceDistrict  \n",
       "0            NaN  \n",
       "1            NaN  \n",
       "2            NaN  \n",
       "3            NaN  \n",
       "4            NaN  "
      ]
     },
     "execution_count": 28,
     "metadata": {},
     "output_type": "execute_result"
    }
   ],
   "source": [
    "data = 'Parking_Citations.csv'\n",
    "cols_keep = ['Citation', 'Make', 'ViolFine', 'ViolDate','OpenPenalty', 'PoliceDistrict']\n",
    "cols_types = ['int64', 'str', 'float64', 'str', 'float64', 'str']\n",
    "df = pd.read_csv(data, usecols=cols_keep, dtype=dict(zip(cols_keep, cols_types)))\n",
    "# df = pd.read_csv(data, usecols=cols_keep, dtype=dict(zip(cols_keep, cols_types)), parse_dates=['ViolDate'])\n",
    "df.head()"
   ]
  },
  {
   "cell_type": "markdown",
   "metadata": {},
   "source": [
    "#### Look at missing data"
   ]
  },
  {
   "cell_type": "code",
   "execution_count": 29,
   "metadata": {},
   "outputs": [
    {
     "data": {
      "text/plain": [
       "Citation                0\n",
       "Make                 3177\n",
       "ViolFine                0\n",
       "ViolDate             4530\n",
       "OpenPenalty             0\n",
       "PoliceDistrict    3034615\n",
       "dtype: int64"
      ]
     },
     "execution_count": 29,
     "metadata": {},
     "output_type": "execute_result"
    }
   ],
   "source": [
    "# look at missing data\n",
    "df.isnull().sum()"
   ]
  },
  {
   "cell_type": "markdown",
   "metadata": {},
   "source": [
    "Rather than dropping all missing fields, missing data in Make, ViolDate, and PoliceDistrict should be handled separately in each question related to these fields. Refer to each question's section for details."
   ]
  },
  {
   "cell_type": "markdown",
   "metadata": {},
   "source": [
    "#### Convert data types"
   ]
  },
  {
   "cell_type": "code",
   "execution_count": 30,
   "metadata": {},
   "outputs": [
    {
     "data": {
      "text/plain": [
       "Citation                   int64\n",
       "Make                      object\n",
       "ViolFine                 float64\n",
       "ViolDate          datetime64[ns]\n",
       "OpenPenalty              float64\n",
       "PoliceDistrict            object\n",
       "dtype: object"
      ]
     },
     "execution_count": 30,
     "metadata": {},
     "output_type": "execute_result"
    }
   ],
   "source": [
    "# converting ViolDate column into python date time\n",
    "df.ViolDate = pd.to_datetime(df.ViolDate, format='%m/%d/%Y %I:%M:%S %p', infer_datetime_format=True)\n",
    "df.dtypes"
   ]
  },
  {
   "cell_type": "markdown",
   "metadata": {},
   "source": [
    "### Q1. For all citations, what is the mean violation fine?"
   ]
  },
  {
   "cell_type": "code",
   "execution_count": 31,
   "metadata": {},
   "outputs": [
    {
     "name": "stdout",
     "output_type": "stream",
     "text": [
      "49.8959492313\n"
     ]
    }
   ],
   "source": [
    "# There is no empty or null entries for violation fine, so we calculate the mean directly:\n",
    "mean_vio_fine = df.ViolFine.mean()\n",
    "print(round(mean_vio_fine,10))"
   ]
  },
  {
   "cell_type": "markdown",
   "metadata": {},
   "source": [
    "### Q2. Find the police district that has the highest mean violation fine. What is that mean violation fine? Keep in mind that Baltimore is divided into nine police districts, so clean the data accordingly."
   ]
  },
  {
   "cell_type": "markdown",
   "metadata": {},
   "source": [
    "#### Clean district entries"
   ]
  },
  {
   "cell_type": "code",
   "execution_count": 32,
   "metadata": {},
   "outputs": [
    {
     "name": "stdout",
     "output_type": "stream",
     "text": [
      "[nan 'Eastern' 'Western' 'Northern' 'Central' 'Southeastern' 'Notheastern'\n",
      " 'Northwestern' 'NORTHERN' 'Southern' 'SOUTHERN' 'Southwestern'\n",
      " 'SOUTHWESTERN' 'SOUTHEASTERN' 'CENTRAL' 'WESTERN' 'EASTERN'\n",
      " 'NORTHWESTERN' 'NORTHEASTERN']\n"
     ]
    }
   ],
   "source": [
    "# find unique values in district column:\n",
    "districts = df.PoliceDistrict.unique()\n",
    "print(districts)"
   ]
  },
  {
   "cell_type": "code",
   "execution_count": 33,
   "metadata": {},
   "outputs": [],
   "source": [
    "# replace 'Notheastern' with 'Northeastern'\n",
    "df.PoliceDistrict = df.PoliceDistrict.replace('Notheastern', 'NORTHEASTERN')"
   ]
  },
  {
   "cell_type": "markdown",
   "metadata": {},
   "source": [
    "#### Calculate mean violation of each district group"
   ]
  },
  {
   "cell_type": "code",
   "execution_count": 173,
   "metadata": {},
   "outputs": [
    {
     "data": {
      "text/html": [
       "<div>\n",
       "<style scoped>\n",
       "    .dataframe tbody tr th:only-of-type {\n",
       "        vertical-align: middle;\n",
       "    }\n",
       "\n",
       "    .dataframe tbody tr th {\n",
       "        vertical-align: top;\n",
       "    }\n",
       "\n",
       "    .dataframe thead th {\n",
       "        text-align: right;\n",
       "    }\n",
       "</style>\n",
       "<table border=\"1\" class=\"dataframe\">\n",
       "  <thead>\n",
       "    <tr style=\"text-align: right;\">\n",
       "      <th></th>\n",
       "      <th>Citation</th>\n",
       "      <th>ViolFine</th>\n",
       "      <th>OpenPenalty</th>\n",
       "    </tr>\n",
       "    <tr>\n",
       "      <th>PoliceDistrict</th>\n",
       "      <th></th>\n",
       "      <th></th>\n",
       "      <th></th>\n",
       "    </tr>\n",
       "  </thead>\n",
       "  <tbody>\n",
       "    <tr>\n",
       "      <th>CENTRAL</th>\n",
       "      <td>7.3842492001e+07</td>\n",
       "      <td>44.8028723651</td>\n",
       "      <td>38.5895606517</td>\n",
       "    </tr>\n",
       "    <tr>\n",
       "      <th>NORTHERN</th>\n",
       "      <td>7.6267226602e+07</td>\n",
       "      <td>48.1452263091</td>\n",
       "      <td>32.2822440838</td>\n",
       "    </tr>\n",
       "    <tr>\n",
       "      <th>SOUTHEASTERN</th>\n",
       "      <td>7.4997810382e+07</td>\n",
       "      <td>48.7509418860</td>\n",
       "      <td>28.7512592981</td>\n",
       "    </tr>\n",
       "    <tr>\n",
       "      <th>EASTERN</th>\n",
       "      <td>7.4697449202e+07</td>\n",
       "      <td>50.8005944339</td>\n",
       "      <td>64.4070971809</td>\n",
       "    </tr>\n",
       "    <tr>\n",
       "      <th>WESTERN</th>\n",
       "      <td>7.2524726431e+07</td>\n",
       "      <td>53.4737451941</td>\n",
       "      <td>67.4415652815</td>\n",
       "    </tr>\n",
       "    <tr>\n",
       "      <th>SOUTHERN</th>\n",
       "      <td>7.7515468806e+07</td>\n",
       "      <td>54.3874258100</td>\n",
       "      <td>30.1075633250</td>\n",
       "    </tr>\n",
       "    <tr>\n",
       "      <th>SOUTHWESTERN</th>\n",
       "      <td>7.2115918031e+07</td>\n",
       "      <td>58.2980085349</td>\n",
       "      <td>56.8853129445</td>\n",
       "    </tr>\n",
       "    <tr>\n",
       "      <th>NORTHWESTERN</th>\n",
       "      <td>7.0819505604e+07</td>\n",
       "      <td>59.7556851742</td>\n",
       "      <td>57.0510189014</td>\n",
       "    </tr>\n",
       "    <tr>\n",
       "      <th>NORTHEASTERN</th>\n",
       "      <td>7.3509503138e+07</td>\n",
       "      <td>61.3523935667</td>\n",
       "      <td>48.3817218543</td>\n",
       "    </tr>\n",
       "  </tbody>\n",
       "</table>\n",
       "</div>"
      ],
      "text/plain": [
       "                        Citation       ViolFine    OpenPenalty\n",
       "PoliceDistrict                                                \n",
       "CENTRAL         7.3842492001e+07  44.8028723651  38.5895606517\n",
       "NORTHERN        7.6267226602e+07  48.1452263091  32.2822440838\n",
       "SOUTHEASTERN    7.4997810382e+07  48.7509418860  28.7512592981\n",
       "EASTERN         7.4697449202e+07  50.8005944339  64.4070971809\n",
       "WESTERN         7.2524726431e+07  53.4737451941  67.4415652815\n",
       "SOUTHERN        7.7515468806e+07  54.3874258100  30.1075633250\n",
       "SOUTHWESTERN    7.2115918031e+07  58.2980085349  56.8853129445\n",
       "NORTHWESTERN    7.0819505604e+07  59.7556851742  57.0510189014\n",
       "NORTHEASTERN    7.3509503138e+07  61.3523935667  48.3817218543"
      ]
     },
     "execution_count": 173,
     "metadata": {},
     "output_type": "execute_result"
    }
   ],
   "source": [
    "# group df by lowercased district name and find mean violation find\n",
    "pd.set_option('display.precision',10)\n",
    "dist_gp = df.groupby(df['PoliceDistrict'].str.upper()) # missing data is automatically dropped in 'groupby' method\n",
    "dist_gp.mean().sort_values(by=['ViolFine'])"
   ]
  },
  {
   "cell_type": "markdown",
   "metadata": {},
   "source": [
    "### Q3. First, find the total number of citations given in each year between 2004 and 2014 (inclusive). Next, using linear regression, create a function that plots the total number of citations as a function of the year. If you were to plot a line using this function, what would be the slope of that line?"
   ]
  },
  {
   "cell_type": "markdown",
   "metadata": {},
   "source": [
    "#### Mask dataset, eliminate missing and uneccessary data"
   ]
  },
  {
   "cell_type": "code",
   "execution_count": 119,
   "metadata": {},
   "outputs": [
    {
     "data": {
      "text/html": [
       "<div>\n",
       "<style scoped>\n",
       "    .dataframe tbody tr th:only-of-type {\n",
       "        vertical-align: middle;\n",
       "    }\n",
       "\n",
       "    .dataframe tbody tr th {\n",
       "        vertical-align: top;\n",
       "    }\n",
       "\n",
       "    .dataframe thead th {\n",
       "        text-align: right;\n",
       "    }\n",
       "</style>\n",
       "<table border=\"1\" class=\"dataframe\">\n",
       "  <thead>\n",
       "    <tr style=\"text-align: right;\">\n",
       "      <th></th>\n",
       "      <th>Citation</th>\n",
       "      <th>Make</th>\n",
       "      <th>ViolFine</th>\n",
       "      <th>ViolDate</th>\n",
       "      <th>OpenPenalty</th>\n",
       "      <th>PoliceDistrict</th>\n",
       "    </tr>\n",
       "  </thead>\n",
       "  <tbody>\n",
       "    <tr>\n",
       "      <th>2314292</th>\n",
       "      <td>2768083</td>\n",
       "      <td>MAZDA</td>\n",
       "      <td>32.0</td>\n",
       "      <td>2014-12-31 22:07:00</td>\n",
       "      <td>0.0</td>\n",
       "      <td>NaN</td>\n",
       "    </tr>\n",
       "    <tr>\n",
       "      <th>1333451</th>\n",
       "      <td>91708082</td>\n",
       "      <td>MAZDA</td>\n",
       "      <td>32.0</td>\n",
       "      <td>2014-12-31 22:07:00</td>\n",
       "      <td>0.0</td>\n",
       "      <td>NaN</td>\n",
       "    </tr>\n",
       "    <tr>\n",
       "      <th>139814</th>\n",
       "      <td>91714940</td>\n",
       "      <td>CHEVR</td>\n",
       "      <td>32.0</td>\n",
       "      <td>2014-12-31 22:10:00</td>\n",
       "      <td>0.0</td>\n",
       "      <td>NaN</td>\n",
       "    </tr>\n",
       "    <tr>\n",
       "      <th>1154286</th>\n",
       "      <td>1551050</td>\n",
       "      <td>KIA</td>\n",
       "      <td>102.0</td>\n",
       "      <td>2014-12-31 22:25:00</td>\n",
       "      <td>329.0</td>\n",
       "      <td>NaN</td>\n",
       "    </tr>\n",
       "    <tr>\n",
       "      <th>2778335</th>\n",
       "      <td>79592952</td>\n",
       "      <td>FORD</td>\n",
       "      <td>32.0</td>\n",
       "      <td>2014-12-31 22:29:00</td>\n",
       "      <td>300.0</td>\n",
       "      <td>NaN</td>\n",
       "    </tr>\n",
       "  </tbody>\n",
       "</table>\n",
       "</div>"
      ],
      "text/plain": [
       "         Citation   Make  ViolFine            ViolDate  OpenPenalty  \\\n",
       "2314292   2768083  MAZDA      32.0 2014-12-31 22:07:00          0.0   \n",
       "1333451  91708082  MAZDA      32.0 2014-12-31 22:07:00          0.0   \n",
       "139814   91714940  CHEVR      32.0 2014-12-31 22:10:00          0.0   \n",
       "1154286   1551050    KIA     102.0 2014-12-31 22:25:00        329.0   \n",
       "2778335  79592952   FORD      32.0 2014-12-31 22:29:00        300.0   \n",
       "\n",
       "        PoliceDistrict  \n",
       "2314292            NaN  \n",
       "1333451            NaN  \n",
       "139814             NaN  \n",
       "1154286            NaN  \n",
       "2778335            NaN  "
      ]
     },
     "execution_count": 119,
     "metadata": {},
     "output_type": "execute_result"
    }
   ],
   "source": [
    "# mask df by year to be between 2004 and 2014\n",
    "ti_df = df.dropna(axis=0, subset=['ViolDate'])\n",
    "yr_mask = (ti_df.ViolDate >= '2004-01-01') & (ti_df.ViolDate <'2015-01-01') # missing data will also be elminated by mask \n",
    "cite_yr = ti_df.loc[yr_mask]\n",
    "cite_yr.sort_values(by=['ViolDate']).tail()"
   ]
  },
  {
   "cell_type": "code",
   "execution_count": 120,
   "metadata": {},
   "outputs": [
    {
     "data": {
      "text/html": [
       "<div>\n",
       "<style scoped>\n",
       "    .dataframe tbody tr th:only-of-type {\n",
       "        vertical-align: middle;\n",
       "    }\n",
       "\n",
       "    .dataframe tbody tr th {\n",
       "        vertical-align: top;\n",
       "    }\n",
       "\n",
       "    .dataframe thead th {\n",
       "        text-align: right;\n",
       "    }\n",
       "</style>\n",
       "<table border=\"1\" class=\"dataframe\">\n",
       "  <thead>\n",
       "    <tr style=\"text-align: right;\">\n",
       "      <th></th>\n",
       "      <th>ViolDate</th>\n",
       "      <th>Citation</th>\n",
       "    </tr>\n",
       "  </thead>\n",
       "  <tbody>\n",
       "    <tr>\n",
       "      <th>0</th>\n",
       "      <td>2004</td>\n",
       "      <td>162</td>\n",
       "    </tr>\n",
       "    <tr>\n",
       "      <th>1</th>\n",
       "      <td>2005</td>\n",
       "      <td>1136</td>\n",
       "    </tr>\n",
       "    <tr>\n",
       "      <th>2</th>\n",
       "      <td>2006</td>\n",
       "      <td>5550</td>\n",
       "    </tr>\n",
       "    <tr>\n",
       "      <th>3</th>\n",
       "      <td>2007</td>\n",
       "      <td>50049</td>\n",
       "    </tr>\n",
       "    <tr>\n",
       "      <th>4</th>\n",
       "      <td>2008</td>\n",
       "      <td>41672</td>\n",
       "    </tr>\n",
       "    <tr>\n",
       "      <th>5</th>\n",
       "      <td>2009</td>\n",
       "      <td>42719</td>\n",
       "    </tr>\n",
       "    <tr>\n",
       "      <th>6</th>\n",
       "      <td>2010</td>\n",
       "      <td>45842</td>\n",
       "    </tr>\n",
       "    <tr>\n",
       "      <th>7</th>\n",
       "      <td>2011</td>\n",
       "      <td>129722</td>\n",
       "    </tr>\n",
       "    <tr>\n",
       "      <th>8</th>\n",
       "      <td>2012</td>\n",
       "      <td>160453</td>\n",
       "    </tr>\n",
       "    <tr>\n",
       "      <th>9</th>\n",
       "      <td>2013</td>\n",
       "      <td>53916</td>\n",
       "    </tr>\n",
       "    <tr>\n",
       "      <th>10</th>\n",
       "      <td>2014</td>\n",
       "      <td>79135</td>\n",
       "    </tr>\n",
       "  </tbody>\n",
       "</table>\n",
       "</div>"
      ],
      "text/plain": [
       "    ViolDate  Citation\n",
       "0       2004       162\n",
       "1       2005      1136\n",
       "2       2006      5550\n",
       "3       2007     50049\n",
       "4       2008     41672\n",
       "5       2009     42719\n",
       "6       2010     45842\n",
       "7       2011    129722\n",
       "8       2012    160453\n",
       "9       2013     53916\n",
       "10      2014     79135"
      ]
     },
     "execution_count": 120,
     "metadata": {},
     "output_type": "execute_result"
    }
   ],
   "source": [
    "# group masked df by year, calculate totals\n",
    "# cite_yr.groupby(cite_yr.ViolDate.dt.year).count()\n",
    "cite_count_yr = cite_yr['Citation'].groupby(cite_yr.ViolDate.dt.year).count()\n",
    "cite_count_yr = cite_count_yr.reset_index(['ViolDate'])\n",
    "cite_count_yr"
   ]
  },
  {
   "cell_type": "markdown",
   "metadata": {},
   "source": [
    "#### Run linear regression"
   ]
  },
  {
   "cell_type": "code",
   "execution_count": 121,
   "metadata": {},
   "outputs": [
    {
     "data": {
      "image/png": "[encoded data removed]",
      "text/plain": [
       "<Figure size 432x288 with 1 Axes>"
      ]
     },
     "metadata": {
      "needs_background": "light"
     },
     "output_type": "display_data"
    },
    {
     "name": "stdout",
     "output_type": "stream",
     "text": [
      "The slope of the prediction line is: 11220.0909090909.\n"
     ]
    }
   ],
   "source": [
    "# use linear regression to plot citation over year\n",
    "# X = cite_count_yr[['ViolDate']].as_matrix()\n",
    "# X = cite_count_yr.drop('Citation', axis=1).values\n",
    "# Y = cite_count_yr['Citation'].values\n",
    "\n",
    "X = cite_count_yr.iloc[:, 0].values.reshape(-1, 1)\n",
    "Y = cite_count_yr.iloc[:, 1].values.reshape(-1, 1)\n",
    "lg = LinearRegression()\n",
    "lg.fit(X,Y)\n",
    "y_pred = lg.predict(X)\n",
    "\n",
    "# visualize\n",
    "plt.scatter(X,Y, color='red')\n",
    "plt.plot(X, y_pred, color='blue')\n",
    "plt.show()\n",
    "\n",
    "# slope\n",
    "coeff = lg.coef_\n",
    "print(\"The slope of the prediction line is: {}.\".format(round(float(coeff),10)))"
   ]
  },
  {
   "cell_type": "markdown",
   "metadata": {},
   "source": [
    "### Q4. Looking only at vehicles that have open penalty fees, what dollar amount is the 81st percentile of that group?"
   ]
  },
  {
   "cell_type": "code",
   "execution_count": 38,
   "metadata": {},
   "outputs": [
    {
     "name": "stdout",
     "output_type": "stream",
     "text": [
      "The 81st percentile of the dollar amount value of all open penalty fees is: 480.0.\n"
     ]
    }
   ],
   "source": [
    "# There's 0 missing data in tihs field. filter citations with open penalty value > 0:\n",
    "open_pen = df[(df.OpenPenalty > 0)]\n",
    "\n",
    "# find 81th percentile\n",
    "print('The 81st percentile of the dollar amount value of all open penalty fees is: {}.'.format(open_pen.OpenPenalty.quantile(0.81)))"
   ]
  },
  {
   "cell_type": "markdown",
   "metadata": {},
   "source": [
    "### Q5. Find the ten vehicle makes that received the most citations during 2017. For those top ten, find all Japanese-made vehicles. What proportion of all citations were written for those vehicles? Note that the naming in Make is not consistent over the whole dataset, so you will need to clean the data before calculating your answer. Your answer should be expressed as a decimal number (i.e. 0.42, not 42)."
   ]
  },
  {
   "cell_type": "markdown",
   "metadata": {},
   "source": [
    "#### Handle null values and mask dataset"
   ]
  },
  {
   "cell_type": "code",
   "execution_count": 39,
   "metadata": {},
   "outputs": [],
   "source": [
    "# drop null values\n",
    "mk_df = df[['Citation', 'Make']]\n",
    "mk_df = mk_df.dropna(axis=0, subset=['Make'])\n",
    "\n",
    "# mask dataset\n",
    "time_mask = (df.ViolDate >= '2017-01-01') & (df.ViolDate <'2018-01-01') # missing data will also be elminated by mask \n",
    "mk_df = mk_df.loc[time_mask]"
   ]
  },
  {
   "cell_type": "markdown",
   "metadata": {},
   "source": [
    "#### Clean up make entries"
   ]
  },
  {
   "cell_type": "code",
   "execution_count": 40,
   "metadata": {},
   "outputs": [
    {
     "name": "stdout",
     "output_type": "stream",
     "text": [
      "520\n"
     ]
    }
   ],
   "source": [
    "# make all uppercase, remove tralining space\n",
    "mk_df.Make = mk_df['Make'].str.upper()\n",
    "mk_df.Make = mk_df['Make'].str.strip()\n",
    "\n",
    "# see how many unique entries there are for make, explore values\n",
    "mk_list1 = mk_df.Make.unique().tolist()\n",
    "print(len(mk_list1))"
   ]
  },
  {
   "cell_type": "code",
   "execution_count": 41,
   "metadata": {},
   "outputs": [
    {
     "name": "stdout",
     "output_type": "stream",
     "text": [
      "499\n",
      "['0THER', '1', '1HR P', '2HR P', '3HR P', '4HYUN', '4TH W', 'A2', 'ABART', 'ABF-T', 'ABFTR', 'AC', 'ACU', 'ACUR', 'ACURA', 'ADJ C', 'ALFA', 'ALTIM', 'AMGN', 'ARAMA', 'ASTO', 'AU', 'AUC', 'AUD', 'AUDI', 'AUROR', 'AUTC', 'AV', 'BARB', 'BENT', 'BENTL', 'BENZ', 'BIKE', 'BLOCK', 'BLUE', 'BMW', 'BMW (', 'BMW 7', 'BOAT', 'BOMBA', 'BRAM', 'BRI M', 'BRMR', 'BUI', 'BUIC', 'BUICK', 'BUIK', 'C/S 1', 'C/S 4', 'C/S 8', 'C/S 9', 'CAD', 'CADI', 'CADIL', 'CADL', 'CAMR', 'CANA', 'CAR', 'CAR M', 'CARMA', 'CARR', 'CARRY', 'CENTR', 'CHALK', 'CHAMP', 'CHE', 'CHEV', 'CHEVR', 'CHEVS', 'CHEVY', 'CHLK', 'CHR', 'CHRY', 'CHRYS', 'CIM', 'COACH', 'COMMV', 'COMPL', 'CONT', 'COOPE', 'CURRA', 'DAEWO', 'DATSU', 'DEALE', 'DETAC', 'DETAT', 'DETCH', 'DISP', 'DISPL', 'DIXIE', 'DMW', 'DOD', 'DODG', 'DODGE', 'DOUBL', 'DRIVE', 'DUCA', 'DUCAT', 'DURA', 'EAGL', 'EAGLE', 'EAS', 'EAST', 'ECONO', 'ELAN', 'ENTEG', 'ENVO', 'EQUUS', 'ESMC', 'EXCEE', 'EXP 4', 'EXP E', 'EXPIR', 'FAIT', 'FEDE', 'FEDEX', 'FERR', 'FERRA', 'FEX', 'FIA', 'FIAT', 'FJR', 'FLAT', 'FLEET', 'FLIN', 'FOLD', 'FON', 'FONTA', 'FOR', 'FORD', 'FORES', 'FRE', 'FREI', 'FREIG', 'FRGHT', 'FRHT', 'FRIDA', 'FRIE', 'FRIEG', 'FRIGH', 'FRL', 'FRUE', 'FRUEH', 'G D', 'GENES', 'GEO', 'GMC', 'GMC (', 'GMC U', 'GOSH', 'GRAY', 'GREAT', 'GRIEC', 'GRUMM', 'GTD', 'HARL', 'HARLE', 'HAULM', 'HD', 'HEAD-', 'HEI', 'HEIL', 'HEN', 'HHOND', 'HINO', 'HOMDA', 'HON', 'HOND', 'HONDA', 'HUM', 'HUMM', 'HUMME', 'HY', 'HYD', 'HYU', 'HYUN', 'HYUN4', 'HYUND', 'IC', 'IC CO', 'ICBU', 'IEUZ', 'IMPER', 'IN', 'INF', 'INFI', 'INFIN', 'INT', 'INTA', 'INTE', 'INTER', 'INTL', 'ISU', 'ISUZ', 'ISUZU', 'JAG', 'JAGU', 'JAGUA', 'JAQU', 'JE', 'JEE', 'JEEP', 'JEEPS', 'JEP', 'JOHN', 'K T M', 'KARI', 'KAUFM', 'KAWA', 'KAWAS', 'KAWK', 'KENW', 'KENWO', 'KIA', 'KIA M', 'KIA.', 'KORD', 'KURBM', 'KW', 'KYMCA', 'KYMCO', 'L R', 'LAN', 'LANCE', 'LAND', 'LANDR', 'LANR', 'LARK', 'LARV', 'LEONA', 'LESS', 'LEX', 'LEXS', 'LEXU', 'LEXUS', 'LEXY', 'LIN', 'LINC', 'LINCO', 'LINK', 'LND', 'LNDR', 'LOKI', 'LONE', 'LORI', 'LOTUS', 'LR', 'M B', 'MAC', 'MACK', 'MAIL', 'MAJE', 'MAS', 'MASE', 'MASER', 'MAZ', 'MAZA', 'MAZD', 'MAZDA', 'MAZY', 'MB', 'MB.', 'MBZ', 'MC', 'MCI', 'MCIN', 'MCT', 'ME', 'MEBZ', 'MEHAR', 'MER', 'MERC', 'MERCE', 'MERCU', 'MERZ', 'MG', 'MGS', 'MIN', 'MINC', 'MINI', 'MINI-', 'MIT', 'MITS', 'MITSU', 'MNNI', 'MOBIL', 'MON 1', 'MON 7', 'MONDA', 'MOTO', 'MOTOR', 'MUSTA', 'N', 'NATIO', 'NEFL', 'NEON', 'NEW F', 'NEWF', 'NEWHA', 'NFLY', 'NI', 'NIS', 'NISN', 'NISS', 'NISSA', 'NO EZ', 'NO PA', 'NO PE', 'NO PK', 'NO PR', 'NO S', 'NO ST', 'NOT', 'NOT A', 'NWFL', 'OBSTR', 'OLD', 'OLDS', 'OLDSM', 'OTH', 'OTHER', 'OTHR', 'PACE', 'PARK', 'PARKE', 'PASS', 'PB', 'PENSK', 'PETE', 'PETER', 'PICK', 'PIER', 'PLYM', 'PLYMO', 'POLAR', 'PON', 'PONT', 'PONTI', 'POR', 'PORS', 'PORSC', 'PORSH', 'POSTE', 'PREO', 'PREVO', 'PST B', 'PST N', 'PTBR', 'PTRB', 'RAM', 'RAMB', 'RAMS', 'RANG', 'RANGE', 'RANGR', 'REITN', 'RESER', 'RIVER', 'ROLLS', 'RORO', 'ROV', 'ROVER', 'RR', 'RYDER', 'SAA', 'SAAB', 'SAB', 'SAT', 'SAT4U', 'SATR', 'SATU', 'SATUR', 'SCHOO', 'SCI', 'SCIO', 'SCIOM', 'SCION', 'SEMI', 'SIENN', 'SKT', 'SMAR', 'SMART', 'SMRT', 'SOME', 'SPCO', 'SPNR', 'SPRIN', 'SPYDE', 'STAR', 'STEP', 'STER', 'STERL', 'STLG', 'STR', 'STREE', 'STRG', 'STRI', 'STRN', 'SU', 'SUB', 'SUBA', 'SUBAR', 'SUBU', 'SUPER', 'SUPRE', 'SUV', 'SUZ', 'SUZI', 'SUZK', 'SUZKI', 'SUZU', 'SUZUK', 'TAGS', 'TAIZ', 'TES', 'TESL', 'TESLA', 'TESLE', 'TESLR', 'TEXAS', 'THOM', 'THOMA', 'THOR', 'THURS', 'TITA', 'TO', 'TOTY', 'TOW T', 'TOWMA', 'TOY', 'TOYA', 'TOYO', 'TOYOT', 'TOYT', 'TRA', 'TRAC', 'TRACT', 'TRAI', 'TRAIL', 'TRANS', 'TRIP', 'TRIU', 'TRIUM', 'TRUC', 'TRUCK', 'TSMR', 'TUES', 'TURT', 'TYSON', 'UD', 'UDT', 'UN', 'UNIT', 'UNK', 'UNKN', 'UNKNO', 'UPS', 'UTI', 'UTILI', 'UTL', 'V W', 'VAN', 'VANDU', 'VANGU', 'VANHO', 'VANTT', 'VCTY', 'VELOS', 'VENIC', 'VERA', 'VISIB', 'VLV', 'VNTC', 'VOL', 'VOLC', 'VOLK', 'VOLKS', 'VOLV', 'VOLVO', 'VOLW', 'VPG', 'VULCA', 'VW', 'VW.', 'WAB', 'WANC', 'WED 8', 'WEST', 'WESTE', 'WHITE', 'WINDS', 'WINNE', 'WORK', 'WORKH', 'WRANG', 'WRKH', 'WSTR', 'YAMA', 'YAMAH']\n"
     ]
    }
   ],
   "source": [
    "# drop anything that has 2 or more numbers in it (those are usually wrongly entered times and dates)\n",
    "mk_df = mk_df[mk_df.Make.str.count(r'\\d')<2]\n",
    "mk_list = mk_df.Make.unique()\n",
    "print(len(mk_list))\n",
    "print(sorted(mk_list))"
   ]
  },
  {
   "cell_type": "code",
   "execution_count": 42,
   "metadata": {
    "scrolled": true
   },
   "outputs": [
    {
     "name": "stdout",
     "output_type": "stream",
     "text": [
      "[('TOYOT', 100), ('TOY', 90), ('TO', 90), ('TOYT', 89), ('TOYO', 89), ('TOYA', 67), ('TOTY', 67), ('OTH', 60), ('TOW T', 60), ('NOT', 60)]\n",
      "[('HONDA', 100), ('HON', 90), ('N', 90), ('HOND', 89), ('HHOND', 80), ('MONDA', 80), ('HOMDA', 80), ('HYUND', 60), ('DOD', 60), ('PON', 60)]\n",
      "[('FORD', 100), ('FOR', 86), ('FOLD', 75), ('KORD', 75), ('FORES', 67), ('FRIDA', 67), ('DOD', 57), ('FON', 57), ('OLD', 57), ('POR', 57)]\n",
      "[('NISSA', 91), ('NISS', 90), ('NIS', 90), ('NI', 90), ('N', 90), ('NISN', 80), ('VAN', 60), ('ISU', 60), ('SAA', 60), ('SAT', 60)]\n",
      "[('ACURA', 100), ('ACU', 90), ('AC', 90), ('ACUR', 89), ('CURRA', 80), ('RAM', 72), ('DURA', 67), ('SATUR', 60), ('JAGUA', 60), ('CHR', 60)]\n"
     ]
    }
   ],
   "source": [
    "# test fuzzywuzzy to pick a good score\n",
    "test_makes = ['TOYOT', 'HONDA', 'FORD', 'NISSAN','ACURA']\n",
    "for m in test_makes:\n",
    "    test = fuzzywuzzy.process.extract(m, mk_list, limit=10, scorer=fuzzywuzzy.fuzz.WRatio)\n",
    "    print(test)"
   ]
  },
  {
   "cell_type": "code",
   "execution_count": 43,
   "metadata": {},
   "outputs": [],
   "source": [
    "# make a function to replace entries with fuzzy match score >=70 with the accurate make name\n",
    "def fuzzy_replace(df, column, accurate_make, make_list, min_ratio = 70):\n",
    "    matches = fuzzywuzzy.process.extract(accurate_make, make_list, limit=10, scorer=fuzzywuzzy.fuzz.token_sort_ratio)\n",
    "    # get matches with a ratio > min_ratio\n",
    "    close_matches = [matches[0] for matches in matches if matches[1] >= min_ratio]\n",
    "    rows_with_matches = df[column].isin(close_matches)\n",
    "    # replace:\n",
    "    df.loc[rows_with_matches, column] = accurate_make"
   ]
  },
  {
   "cell_type": "code",
   "execution_count": 44,
   "metadata": {},
   "outputs": [
    {
     "name": "stdout",
     "output_type": "stream",
     "text": [
      "total number of accurate make names: 209\n",
      "total number of make names: 499\n"
     ]
    }
   ],
   "source": [
    "# generate a dictionary to map fuzzy make to accurate make\n",
    "accurate_list = ['TOYOT', 'FORD','AUDI','MAZDA', 'HYUN'] # to start with\n",
    "mk_dict = {}\n",
    "\n",
    "for name in mk_list:\n",
    "    # fuzz_socre = fuzzywuzzy.fuzz.token_sort_ratio(main_name['Name'].iloc[i],main_name['Name'].iloc[j])\n",
    "    list_matches = fuzzywuzzy.process.extract(name, accurate_list, limit=10, scorer=fuzzywuzzy.fuzz.partial_token_sort_ratio)\n",
    "    list_matches.sort(key=lambda x: x[1], reverse=True)\n",
    "    if list_matches[0][1] <75:\n",
    "        accurate_list.append(name)\n",
    "        mk_dict[name] = name\n",
    "    else:\n",
    "        mk_dict[name] = list_matches[0][0]\n",
    "        \n",
    "print('total number of accurate make names: {}'.format(len(accurate_list)))\n",
    "print('total number of make names: {}'.format(len(mk_dict)))"
   ]
  },
  {
   "cell_type": "code",
   "execution_count": 86,
   "metadata": {},
   "outputs": [
    {
     "data": {
      "text/html": [
       "<div>\n",
       "<style scoped>\n",
       "    .dataframe tbody tr th:only-of-type {\n",
       "        vertical-align: middle;\n",
       "    }\n",
       "\n",
       "    .dataframe tbody tr th {\n",
       "        vertical-align: top;\n",
       "    }\n",
       "\n",
       "    .dataframe thead th {\n",
       "        text-align: right;\n",
       "    }\n",
       "</style>\n",
       "<table border=\"1\" class=\"dataframe\">\n",
       "  <thead>\n",
       "    <tr style=\"text-align: right;\">\n",
       "      <th></th>\n",
       "      <th>Citation</th>\n",
       "      <th>Make</th>\n",
       "    </tr>\n",
       "  </thead>\n",
       "  <tbody>\n",
       "    <tr>\n",
       "      <th>632</th>\n",
       "      <td>50013862</td>\n",
       "      <td>TOYOT</td>\n",
       "    </tr>\n",
       "    <tr>\n",
       "      <th>677</th>\n",
       "      <td>50097410</td>\n",
       "      <td>HOND</td>\n",
       "    </tr>\n",
       "    <tr>\n",
       "      <th>699</th>\n",
       "      <td>50129379</td>\n",
       "      <td>MERZ</td>\n",
       "    </tr>\n",
       "    <tr>\n",
       "      <th>704</th>\n",
       "      <td>50131359</td>\n",
       "      <td>FORD</td>\n",
       "    </tr>\n",
       "    <tr>\n",
       "      <th>727</th>\n",
       "      <td>50151134</td>\n",
       "      <td>NISS</td>\n",
       "    </tr>\n",
       "  </tbody>\n",
       "</table>\n",
       "</div>"
      ],
      "text/plain": [
       "     Citation   Make\n",
       "632  50013862  TOYOT\n",
       "677  50097410   HOND\n",
       "699  50129379   MERZ\n",
       "704  50131359   FORD\n",
       "727  50151134   NISS"
      ]
     },
     "metadata": {},
     "output_type": "display_data"
    },
    {
     "name": "stdout",
     "output_type": "stream",
     "text": [
      "cleaned number of makes:209\n"
     ]
    }
   ],
   "source": [
    "# replace make names in the dataframe\n",
    "mk_gp=mk_df\n",
    "mk_gp['Make'].replace(mk_dict, inplace=True)\n",
    "display(mk_gp.head())\n",
    "print(\"cleaned number of makes:{}\".format(len(mk_gp.Make.unique())))"
   ]
  },
  {
   "cell_type": "markdown",
   "metadata": {},
   "source": [
    "#### Group by new make to find top ones"
   ]
  },
  {
   "cell_type": "code",
   "execution_count": 97,
   "metadata": {},
   "outputs": [
    {
     "data": {
      "text/html": [
       "<div>\n",
       "<style scoped>\n",
       "    .dataframe tbody tr th:only-of-type {\n",
       "        vertical-align: middle;\n",
       "    }\n",
       "\n",
       "    .dataframe tbody tr th {\n",
       "        vertical-align: top;\n",
       "    }\n",
       "\n",
       "    .dataframe thead th {\n",
       "        text-align: right;\n",
       "    }\n",
       "</style>\n",
       "<table border=\"1\" class=\"dataframe\">\n",
       "  <thead>\n",
       "    <tr style=\"text-align: right;\">\n",
       "      <th></th>\n",
       "      <th>Make</th>\n",
       "      <th>Citation</th>\n",
       "    </tr>\n",
       "  </thead>\n",
       "  <tbody>\n",
       "    <tr>\n",
       "      <th>0</th>\n",
       "      <td>HOND</td>\n",
       "      <td>70590</td>\n",
       "    </tr>\n",
       "    <tr>\n",
       "      <th>1</th>\n",
       "      <td>TOYOT</td>\n",
       "      <td>68729</td>\n",
       "    </tr>\n",
       "    <tr>\n",
       "      <th>2</th>\n",
       "      <td>FORD</td>\n",
       "      <td>56901</td>\n",
       "    </tr>\n",
       "    <tr>\n",
       "      <th>3</th>\n",
       "      <td>NISS</td>\n",
       "      <td>50111</td>\n",
       "    </tr>\n",
       "    <tr>\n",
       "      <th>4</th>\n",
       "      <td>CHEV</td>\n",
       "      <td>49534</td>\n",
       "    </tr>\n",
       "    <tr>\n",
       "      <th>5</th>\n",
       "      <td>HYUN</td>\n",
       "      <td>28119</td>\n",
       "    </tr>\n",
       "    <tr>\n",
       "      <th>6</th>\n",
       "      <td>DODG</td>\n",
       "      <td>21311</td>\n",
       "    </tr>\n",
       "    <tr>\n",
       "      <th>7</th>\n",
       "      <td>ACUR</td>\n",
       "      <td>19505</td>\n",
       "    </tr>\n",
       "    <tr>\n",
       "      <th>8</th>\n",
       "      <td>JEEP</td>\n",
       "      <td>17026</td>\n",
       "    </tr>\n",
       "    <tr>\n",
       "      <th>9</th>\n",
       "      <td>MERZ</td>\n",
       "      <td>15698</td>\n",
       "    </tr>\n",
       "  </tbody>\n",
       "</table>\n",
       "</div>"
      ],
      "text/plain": [
       "    Make  Citation\n",
       "0   HOND     70590\n",
       "1  TOYOT     68729\n",
       "2   FORD     56901\n",
       "3   NISS     50111\n",
       "4   CHEV     49534\n",
       "5   HYUN     28119\n",
       "6   DODG     21311\n",
       "7   ACUR     19505\n",
       "8   JEEP     17026\n",
       "9   MERZ     15698"
      ]
     },
     "execution_count": 97,
     "metadata": {},
     "output_type": "execute_result"
    }
   ],
   "source": [
    "# Find the ten vehicle makes that received the most citations during 2017. \n",
    "top_ten = mk_gp.groupby(mk_gp.Make).count().sort_values(by=['Citation'],ascending=False).reset_index().head(10)\n",
    "top_ten"
   ]
  },
  {
   "cell_type": "markdown",
   "metadata": {},
   "source": [
    "In the top 10 makes that reveive most citaitons, Japanese-made ones are: Honda, Toyota, Nissan, Acura."
   ]
  },
  {
   "cell_type": "code",
   "execution_count": 123,
   "metadata": {},
   "outputs": [
    {
     "name": "stdout",
     "output_type": "stream",
     "text": [
      "The proportion of all citations that come from Japanese makes in top 10 makes list is:0.3773038041888334\n"
     ]
    }
   ],
   "source": [
    "# What proportion of all citations were written for those vehicles?\n",
    "jpn_cite = 70590+68729+50111+19505\n",
    "tot_cite = mk_df.Citation.count()\n",
    "print(\"The proportion of all citations that come from Japanese makes in top 10 makes list is:{}\".format(jpn_cite/tot_cite))"
   ]
  },
  {
   "cell_type": "markdown",
   "metadata": {},
   "source": [
    "### Q6. To answer this last question, you will need to download another dataset: The Baltimore Police Department Victim Based Crime Dataset. First, determine how many instances of auto theft ocurred in each police district during 2015. Next, determine the number of parking citations that were issued in each police district during the same year. Finally, determine the ratio of auto thefts to parking citations for each district. Out of the nine police districts, what was the highest ratio?"
   ]
  },
  {
   "cell_type": "markdown",
   "metadata": {},
   "source": [
    "#### Load and clean crime data"
   ]
  },
  {
   "cell_type": "code",
   "execution_count": 127,
   "metadata": {},
   "outputs": [
    {
     "data": {
      "text/html": [
       "<div>\n",
       "<style scoped>\n",
       "    .dataframe tbody tr th:only-of-type {\n",
       "        vertical-align: middle;\n",
       "    }\n",
       "\n",
       "    .dataframe tbody tr th {\n",
       "        vertical-align: top;\n",
       "    }\n",
       "\n",
       "    .dataframe thead th {\n",
       "        text-align: right;\n",
       "    }\n",
       "</style>\n",
       "<table border=\"1\" class=\"dataframe\">\n",
       "  <thead>\n",
       "    <tr style=\"text-align: right;\">\n",
       "      <th></th>\n",
       "      <th>CrimeDate</th>\n",
       "      <th>Description</th>\n",
       "      <th>District</th>\n",
       "      <th>Total Incidents</th>\n",
       "    </tr>\n",
       "  </thead>\n",
       "  <tbody>\n",
       "    <tr>\n",
       "      <th>0</th>\n",
       "      <td>07/20/2019</td>\n",
       "      <td>AGG. ASSAULT</td>\n",
       "      <td>EASTERN</td>\n",
       "      <td>1</td>\n",
       "    </tr>\n",
       "    <tr>\n",
       "      <th>1</th>\n",
       "      <td>07/20/2019</td>\n",
       "      <td>ROBBERY - STREET</td>\n",
       "      <td>EASTERN</td>\n",
       "      <td>1</td>\n",
       "    </tr>\n",
       "    <tr>\n",
       "      <th>2</th>\n",
       "      <td>07/20/2019</td>\n",
       "      <td>BURGLARY</td>\n",
       "      <td>NORTHERN</td>\n",
       "      <td>1</td>\n",
       "    </tr>\n",
       "    <tr>\n",
       "      <th>3</th>\n",
       "      <td>07/20/2019</td>\n",
       "      <td>LARCENY</td>\n",
       "      <td>NORTHERN</td>\n",
       "      <td>1</td>\n",
       "    </tr>\n",
       "    <tr>\n",
       "      <th>4</th>\n",
       "      <td>07/20/2019</td>\n",
       "      <td>LARCENY</td>\n",
       "      <td>NORTHERN</td>\n",
       "      <td>1</td>\n",
       "    </tr>\n",
       "  </tbody>\n",
       "</table>\n",
       "</div>"
      ],
      "text/plain": [
       "    CrimeDate       Description  District  Total Incidents\n",
       "0  07/20/2019      AGG. ASSAULT   EASTERN                1\n",
       "1  07/20/2019  ROBBERY - STREET   EASTERN                1\n",
       "2  07/20/2019          BURGLARY  NORTHERN                1\n",
       "3  07/20/2019           LARCENY  NORTHERN                1\n",
       "4  07/20/2019           LARCENY  NORTHERN                1"
      ]
     },
     "execution_count": 127,
     "metadata": {},
     "output_type": "execute_result"
    }
   ],
   "source": [
    "# load data\n",
    "crime = 'BPD_Part_1_Victim_Based_Crime_Data.csv'\n",
    "cols = ['CrimeDate', 'Description', 'District', 'Total Incidents']\n",
    "types = ['str', 'str', 'str', 'int64']\n",
    "cf = pd.read_csv(crime, usecols=cols, dtype=dict(zip(cols, types)))\n",
    "cf.head()"
   ]
  },
  {
   "cell_type": "code",
   "execution_count": 131,
   "metadata": {},
   "outputs": [
    {
     "data": {
      "text/plain": [
       "CrimeDate          datetime64[ns]\n",
       "Description                object\n",
       "District                   object\n",
       "Total Incidents             int64\n",
       "dtype: object"
      ]
     },
     "execution_count": 131,
     "metadata": {},
     "output_type": "execute_result"
    }
   ],
   "source": [
    "# convert date to datetime64\n",
    "cf.CrimeDate = pd.to_datetime(cf.CrimeDate, format='%m/%d/%Y', infer_datetime_format=True)\n",
    "cf.dtypes"
   ]
  },
  {
   "cell_type": "code",
   "execution_count": 134,
   "metadata": {},
   "outputs": [
    {
     "data": {
      "text/plain": [
       "CrimeDate          0\n",
       "Description        0\n",
       "District           0\n",
       "Total Incidents    0\n",
       "dtype: int64"
      ]
     },
     "execution_count": 134,
     "metadata": {},
     "output_type": "execute_result"
    }
   ],
   "source": [
    "# missing data\n",
    "cf.isnull().sum()"
   ]
  },
  {
   "cell_type": "markdown",
   "metadata": {},
   "source": [
    "#### Determine how many instances of auto theft ocurred in each police district during 2015"
   ]
  },
  {
   "cell_type": "code",
   "execution_count": 150,
   "metadata": {},
   "outputs": [
    {
     "name": "stdout",
     "output_type": "stream",
     "text": [
      "['LARCENY FROM AUTO' 'LARCENY' 'ROBBERY - STREET' 'AUTO THEFT'\n",
      " 'COMMON ASSAULT' 'ROBBERY - COMMERCIAL' 'BURGLARY' 'AGG. ASSAULT'\n",
      " 'HOMICIDE' 'ARSON' 'RAPE' 'SHOOTING' 'ROBBERY - CARJACKING'\n",
      " 'ROBBERY - RESIDENCE']\n",
      "['NORTHERN' 'SOUTHERN' 'NORTHEAST' 'WESTERN' 'SOUTHEAST' 'NORTHWEST'\n",
      " 'EASTERN' 'CENTRAL' 'SOUTHWEST' 'UNKNOWN']\n"
     ]
    }
   ],
   "source": [
    "# time mask the dataframe\n",
    "cf_15 = cf[(cf.CrimeDate >= '2015-01-01') & (cf.CrimeDate <'2016-01-01')]\n",
    "\n",
    "# look at unique values of Description and District column, see if entries are consistant\n",
    "print(cf_15.Description.unique())\n",
    "print(cf_15.District.unique())"
   ]
  },
  {
   "cell_type": "code",
   "execution_count": 226,
   "metadata": {},
   "outputs": [
    {
     "data": {
      "text/plain": [
       "District\n",
       "CENTRAL      294\n",
       "EASTERN      336\n",
       "NORTHEAST    821\n",
       "NORTHERN     498\n",
       "NORTHWEST    567\n",
       "SOUTHEAST    494\n",
       "SOUTHERN     453\n",
       "SOUTHWEST    557\n",
       "UNKNOWN        3\n",
       "WESTERN      542\n",
       "Name: Total Incidents, dtype: int64"
      ]
     },
     "execution_count": 226,
     "metadata": {},
     "output_type": "execute_result"
    }
   ],
   "source": [
    "# filter out Auto Theft, clean names, group by district\n",
    "auto_thft = cf_15.loc[cf_15['Description'].str.upper() == \"AUTO THEFT\"]\n",
    "# dist_dict = {'NORTHEAST':'NORTHEASTERN','SOUTHEAST':'SOUTHEASTERN','NORTHWEST':'NORTHWESTERN', 'SOUTHWEST':'SOUTHWESTERN'}\n",
    "# auto_thft.Description = auto_thft.Description.replace(dist_dict)\n",
    "# auto_thft\n",
    "theft_series = auto_thft['Total Incidents'].groupby(auto_thft.District).sum()\n",
    "theft_series"
   ]
  },
  {
   "cell_type": "markdown",
   "metadata": {},
   "source": [
    "#### Determine the number of parking citations that were issued in each police district during the same year"
   ]
  },
  {
   "cell_type": "code",
   "execution_count": 216,
   "metadata": {},
   "outputs": [
    {
     "data": {
      "text/plain": [
       "PoliceDistrict\n",
       "CENTRAL          11852\n",
       "EASTERN           3125\n",
       "NORTHEASTERN      4111\n",
       "NORTHERN          9586\n",
       "NORTHWESTERN      1731\n",
       "SOUTHEASTERN     14981\n",
       "SOUTHERN         12422\n",
       "SOUTHWESTERN      2610\n",
       "UNKNOWN         288959\n",
       "WESTERN           2481\n",
       "Name: Citation, dtype: int64"
      ]
     },
     "execution_count": 216,
     "metadata": {},
     "output_type": "execute_result"
    }
   ],
   "source": [
    "# apply time mask and clean up police district entries in citation table \n",
    "df_15 = df[(df.ViolDate >= '2015-01-01') & (df.ViolDate <'2016-01-01')]\n",
    "df_15['PoliceDistrict'].fillna('UNKNOWN', inplace=True)\n",
    "df_15.PoliceDistrict = df_15.PoliceDistrict.str.upper()\n",
    "cite_series = df_15.Citation.groupby(df_15.PoliceDistrict).count()\n",
    "cite_series"
   ]
  },
  {
   "cell_type": "markdown",
   "metadata": {},
   "source": [
    "#### Determine the ratio of auto thefts to parking citations for each district. Out of the nine police districts, what was the highest ratio?"
   ]
  },
  {
   "cell_type": "code",
   "execution_count": 229,
   "metadata": {},
   "outputs": [
    {
     "data": {
      "text/html": [
       "<div>\n",
       "<style scoped>\n",
       "    .dataframe tbody tr th:only-of-type {\n",
       "        vertical-align: middle;\n",
       "    }\n",
       "\n",
       "    .dataframe tbody tr th {\n",
       "        vertical-align: top;\n",
       "    }\n",
       "\n",
       "    .dataframe thead th {\n",
       "        text-align: right;\n",
       "    }\n",
       "</style>\n",
       "<table border=\"1\" class=\"dataframe\">\n",
       "  <thead>\n",
       "    <tr style=\"text-align: right;\">\n",
       "      <th></th>\n",
       "      <th>District</th>\n",
       "      <th>Total Incidents</th>\n",
       "      <th>PoliceDistrict</th>\n",
       "      <th>Citation</th>\n",
       "    </tr>\n",
       "  </thead>\n",
       "  <tbody>\n",
       "    <tr>\n",
       "      <th>0</th>\n",
       "      <td>CENTRAL</td>\n",
       "      <td>294</td>\n",
       "      <td>CENTRAL</td>\n",
       "      <td>11852</td>\n",
       "    </tr>\n",
       "    <tr>\n",
       "      <th>1</th>\n",
       "      <td>EASTERN</td>\n",
       "      <td>336</td>\n",
       "      <td>EASTERN</td>\n",
       "      <td>3125</td>\n",
       "    </tr>\n",
       "    <tr>\n",
       "      <th>2</th>\n",
       "      <td>NORTHEAST</td>\n",
       "      <td>821</td>\n",
       "      <td>NORTHEASTERN</td>\n",
       "      <td>4111</td>\n",
       "    </tr>\n",
       "    <tr>\n",
       "      <th>3</th>\n",
       "      <td>NORTHERN</td>\n",
       "      <td>498</td>\n",
       "      <td>NORTHERN</td>\n",
       "      <td>9586</td>\n",
       "    </tr>\n",
       "    <tr>\n",
       "      <th>4</th>\n",
       "      <td>NORTHWEST</td>\n",
       "      <td>567</td>\n",
       "      <td>NORTHWESTERN</td>\n",
       "      <td>1731</td>\n",
       "    </tr>\n",
       "    <tr>\n",
       "      <th>5</th>\n",
       "      <td>SOUTHEAST</td>\n",
       "      <td>494</td>\n",
       "      <td>SOUTHEASTERN</td>\n",
       "      <td>14981</td>\n",
       "    </tr>\n",
       "    <tr>\n",
       "      <th>6</th>\n",
       "      <td>SOUTHERN</td>\n",
       "      <td>453</td>\n",
       "      <td>SOUTHERN</td>\n",
       "      <td>12422</td>\n",
       "    </tr>\n",
       "    <tr>\n",
       "      <th>7</th>\n",
       "      <td>SOUTHWEST</td>\n",
       "      <td>557</td>\n",
       "      <td>SOUTHWESTERN</td>\n",
       "      <td>2610</td>\n",
       "    </tr>\n",
       "    <tr>\n",
       "      <th>8</th>\n",
       "      <td>UNKNOWN</td>\n",
       "      <td>3</td>\n",
       "      <td>UNKNOWN</td>\n",
       "      <td>288959</td>\n",
       "    </tr>\n",
       "    <tr>\n",
       "      <th>9</th>\n",
       "      <td>WESTERN</td>\n",
       "      <td>542</td>\n",
       "      <td>WESTERN</td>\n",
       "      <td>2481</td>\n",
       "    </tr>\n",
       "  </tbody>\n",
       "</table>\n",
       "</div>"
      ],
      "text/plain": [
       "    District  Total Incidents PoliceDistrict  Citation\n",
       "0    CENTRAL              294        CENTRAL     11852\n",
       "1    EASTERN              336        EASTERN      3125\n",
       "2  NORTHEAST              821   NORTHEASTERN      4111\n",
       "3   NORTHERN              498       NORTHERN      9586\n",
       "4  NORTHWEST              567   NORTHWESTERN      1731\n",
       "5  SOUTHEAST              494   SOUTHEASTERN     14981\n",
       "6   SOUTHERN              453       SOUTHERN     12422\n",
       "7  SOUTHWEST              557   SOUTHWESTERN      2610\n",
       "8    UNKNOWN                3        UNKNOWN    288959\n",
       "9    WESTERN              542        WESTERN      2481"
      ]
     },
     "execution_count": 229,
     "metadata": {},
     "output_type": "execute_result"
    }
   ],
   "source": [
    "# merge auto theft table and citation table\n",
    "combined = pd.concat([theft_series.reset_index(), cite_series.reset_index()], axis=1, sort=False)\n",
    "combined"
   ]
  },
  {
   "cell_type": "code",
   "execution_count": 233,
   "metadata": {},
   "outputs": [
    {
     "data": {
      "text/html": [
       "<div>\n",
       "<style scoped>\n",
       "    .dataframe tbody tr th:only-of-type {\n",
       "        vertical-align: middle;\n",
       "    }\n",
       "\n",
       "    .dataframe tbody tr th {\n",
       "        vertical-align: top;\n",
       "    }\n",
       "\n",
       "    .dataframe thead th {\n",
       "        text-align: right;\n",
       "    }\n",
       "</style>\n",
       "<table border=\"1\" class=\"dataframe\">\n",
       "  <thead>\n",
       "    <tr style=\"text-align: right;\">\n",
       "      <th></th>\n",
       "      <th>District</th>\n",
       "      <th>Total Incidents</th>\n",
       "      <th>PoliceDistrict</th>\n",
       "      <th>Citation</th>\n",
       "      <th>Ratio</th>\n",
       "    </tr>\n",
       "  </thead>\n",
       "  <tbody>\n",
       "    <tr>\n",
       "      <th>4</th>\n",
       "      <td>NORTHWEST</td>\n",
       "      <td>567</td>\n",
       "      <td>NORTHWESTERN</td>\n",
       "      <td>1731</td>\n",
       "      <td>0.3275563258</td>\n",
       "    </tr>\n",
       "    <tr>\n",
       "      <th>9</th>\n",
       "      <td>WESTERN</td>\n",
       "      <td>542</td>\n",
       "      <td>WESTERN</td>\n",
       "      <td>2481</td>\n",
       "      <td>0.2184602983</td>\n",
       "    </tr>\n",
       "    <tr>\n",
       "      <th>7</th>\n",
       "      <td>SOUTHWEST</td>\n",
       "      <td>557</td>\n",
       "      <td>SOUTHWESTERN</td>\n",
       "      <td>2610</td>\n",
       "      <td>0.2134099617</td>\n",
       "    </tr>\n",
       "    <tr>\n",
       "      <th>2</th>\n",
       "      <td>NORTHEAST</td>\n",
       "      <td>821</td>\n",
       "      <td>NORTHEASTERN</td>\n",
       "      <td>4111</td>\n",
       "      <td>0.1997081002</td>\n",
       "    </tr>\n",
       "    <tr>\n",
       "      <th>1</th>\n",
       "      <td>EASTERN</td>\n",
       "      <td>336</td>\n",
       "      <td>EASTERN</td>\n",
       "      <td>3125</td>\n",
       "      <td>0.1075200000</td>\n",
       "    </tr>\n",
       "    <tr>\n",
       "      <th>3</th>\n",
       "      <td>NORTHERN</td>\n",
       "      <td>498</td>\n",
       "      <td>NORTHERN</td>\n",
       "      <td>9586</td>\n",
       "      <td>0.0519507615</td>\n",
       "    </tr>\n",
       "    <tr>\n",
       "      <th>6</th>\n",
       "      <td>SOUTHERN</td>\n",
       "      <td>453</td>\n",
       "      <td>SOUTHERN</td>\n",
       "      <td>12422</td>\n",
       "      <td>0.0364675576</td>\n",
       "    </tr>\n",
       "    <tr>\n",
       "      <th>5</th>\n",
       "      <td>SOUTHEAST</td>\n",
       "      <td>494</td>\n",
       "      <td>SOUTHEASTERN</td>\n",
       "      <td>14981</td>\n",
       "      <td>0.0329751018</td>\n",
       "    </tr>\n",
       "    <tr>\n",
       "      <th>0</th>\n",
       "      <td>CENTRAL</td>\n",
       "      <td>294</td>\n",
       "      <td>CENTRAL</td>\n",
       "      <td>11852</td>\n",
       "      <td>0.0248059399</td>\n",
       "    </tr>\n",
       "    <tr>\n",
       "      <th>8</th>\n",
       "      <td>UNKNOWN</td>\n",
       "      <td>3</td>\n",
       "      <td>UNKNOWN</td>\n",
       "      <td>288959</td>\n",
       "      <td>0.0000103821</td>\n",
       "    </tr>\n",
       "  </tbody>\n",
       "</table>\n",
       "</div>"
      ],
      "text/plain": [
       "    District  Total Incidents PoliceDistrict  Citation         Ratio\n",
       "4  NORTHWEST              567   NORTHWESTERN      1731  0.3275563258\n",
       "9    WESTERN              542        WESTERN      2481  0.2184602983\n",
       "7  SOUTHWEST              557   SOUTHWESTERN      2610  0.2134099617\n",
       "2  NORTHEAST              821   NORTHEASTERN      4111  0.1997081002\n",
       "1    EASTERN              336        EASTERN      3125  0.1075200000\n",
       "3   NORTHERN              498       NORTHERN      9586  0.0519507615\n",
       "6   SOUTHERN              453       SOUTHERN     12422  0.0364675576\n",
       "5  SOUTHEAST              494   SOUTHEASTERN     14981  0.0329751018\n",
       "0    CENTRAL              294        CENTRAL     11852  0.0248059399\n",
       "8    UNKNOWN                3        UNKNOWN    288959  0.0000103821"
      ]
     },
     "execution_count": 233,
     "metadata": {},
     "output_type": "execute_result"
    }
   ],
   "source": [
    "# add a column for the ratio\n",
    "combined['Ratio'] = combined['Total Incidents']/combined['Citation']\n",
    "combined.sort_values(by=['Ratio'], ascending=False)"
   ]
  },
  {
   "cell_type": "markdown",
   "metadata": {},
   "source": [
    "The highest ratio is 0.3275563258 in Northwest District."
   ]
  },
  {
   "cell_type": "code",
   "execution_count": null,
   "metadata": {},
   "outputs": [],
   "source": []
  }
 ],
 "metadata": {
  "kernelspec": {
   "display_name": "incubator-64",
   "language": "python",
   "name": "incubator-64"
  },
  "language_info": {
   "codemirror_mode": {
    "name": "ipython",
    "version": 3
   },
   "file_extension": ".py",
   "mimetype": "text/x-python",
   "name": "python",
   "nbconvert_exporter": "python",
   "pygments_lexer": "ipython3",
   "version": "3.7.4"
  }
 },
 "nbformat": 4,
 "nbformat_minor": 2
}
